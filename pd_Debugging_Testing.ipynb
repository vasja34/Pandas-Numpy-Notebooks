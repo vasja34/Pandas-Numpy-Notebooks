{
 "cells": [
  {
   "cell_type": "markdown",
   "metadata": {},
   "source": [
    "# Debugging and Testing Pandas"
   ]
  },
  {
   "cell_type": "markdown",
   "metadata": {},
   "source": [
    "## Code to Transform Data"
   ]
  },
  {
   "cell_type": "markdown",
   "metadata": {},
   "source": [
    "### How to do it..."
   ]
  },
  {
   "cell_type": "code",
   "execution_count": 2,
   "metadata": {
    "lines_to_next_cell": 2
   },
   "outputs": [],
   "source": [
    "import pandas as pd\n",
    "import numpy as np\n",
    "import zipfile\n",
    "url = 'datasets/kaggle-survey-2018.zip'"
   ]
  },
  {
   "cell_type": "code",
   "execution_count": 3,
   "metadata": {
    "lines_to_next_cell": 2
   },
   "outputs": [
    {
     "name": "stdout",
     "output_type": "stream",
     "text": [
      "['multipleChoiceResponses.csv', 'freeFormResponses.csv', 'SurveySchema.csv']\n"
     ]
    },
    {
     "name": "stderr",
     "output_type": "stream",
     "text": [
      "C:\\Users\\Vadim\\AppData\\Local\\Temp\\ipykernel_94300\\3024379875.py:3: DtypeWarning: Columns (0,2,8,10,21,23,24,25,26,27,28,44,56,64,83,85,87,107,109,123,125,150,157,172,174,194,210,218,219,223,246,249,262,264,276,277,278,279,280,281,282,283,284,285,286,287,288,289,290,304,306,325,326,329,341,368,371,384,385,389,390,391,393,394) have mixed types. Specify dtype option on import or set low_memory=False.\n",
      "  kag = pd.read_csv(z.open('multipleChoiceResponses.csv'))\n"
     ]
    }
   ],
   "source": [
    "with zipfile.ZipFile(url) as z:\n",
    "    print(z.namelist())\n",
    "    kag = pd.read_csv(z.open('multipleChoiceResponses.csv'))\n",
    "    df = kag.iloc[1:]"
   ]
  },
  {
   "cell_type": "code",
   "execution_count": 4,
   "metadata": {
    "lines_to_next_cell": 2
   },
   "outputs": [
    {
     "data": {
      "text/html": [
       "<div>\n",
       "<style scoped>\n",
       "    .dataframe tbody tr th:only-of-type {\n",
       "        vertical-align: middle;\n",
       "    }\n",
       "\n",
       "    .dataframe tbody tr th {\n",
       "        vertical-align: top;\n",
       "    }\n",
       "\n",
       "    .dataframe thead th {\n",
       "        text-align: right;\n",
       "    }\n",
       "</style>\n",
       "<table border=\"1\" class=\"dataframe\">\n",
       "  <thead>\n",
       "    <tr style=\"text-align: right;\">\n",
       "      <th></th>\n",
       "      <th>1</th>\n",
       "      <th>2</th>\n",
       "      <th>3</th>\n",
       "      <th>4</th>\n",
       "      <th>5</th>\n",
       "      <th>6</th>\n",
       "      <th>7</th>\n",
       "      <th>8</th>\n",
       "      <th>9</th>\n",
       "      <th>10</th>\n",
       "      <th>...</th>\n",
       "      <th>23850</th>\n",
       "      <th>23851</th>\n",
       "      <th>23852</th>\n",
       "      <th>23853</th>\n",
       "      <th>23854</th>\n",
       "      <th>23855</th>\n",
       "      <th>23856</th>\n",
       "      <th>23857</th>\n",
       "      <th>23858</th>\n",
       "      <th>23859</th>\n",
       "    </tr>\n",
       "  </thead>\n",
       "  <tbody>\n",
       "    <tr>\n",
       "      <th>Time from Start to Finish (seconds)</th>\n",
       "      <td>710</td>\n",
       "      <td>434</td>\n",
       "      <td>718</td>\n",
       "      <td>621</td>\n",
       "      <td>731</td>\n",
       "      <td>1142</td>\n",
       "      <td>959</td>\n",
       "      <td>1758</td>\n",
       "      <td>641</td>\n",
       "      <td>751</td>\n",
       "      <td>...</td>\n",
       "      <td>820</td>\n",
       "      <td>683</td>\n",
       "      <td>57</td>\n",
       "      <td>122</td>\n",
       "      <td>348</td>\n",
       "      <td>575</td>\n",
       "      <td>131</td>\n",
       "      <td>370</td>\n",
       "      <td>36</td>\n",
       "      <td>502</td>\n",
       "    </tr>\n",
       "    <tr>\n",
       "      <th>Q1</th>\n",
       "      <td>Female</td>\n",
       "      <td>Male</td>\n",
       "      <td>Female</td>\n",
       "      <td>Male</td>\n",
       "      <td>Male</td>\n",
       "      <td>Male</td>\n",
       "      <td>Male</td>\n",
       "      <td>Male</td>\n",
       "      <td>Male</td>\n",
       "      <td>Male</td>\n",
       "      <td>...</td>\n",
       "      <td>Female</td>\n",
       "      <td>Male</td>\n",
       "      <td>Female</td>\n",
       "      <td>Female</td>\n",
       "      <td>Male</td>\n",
       "      <td>Male</td>\n",
       "      <td>Female</td>\n",
       "      <td>Male</td>\n",
       "      <td>Male</td>\n",
       "      <td>Male</td>\n",
       "    </tr>\n",
       "    <tr>\n",
       "      <th>Q1_OTHER_TEXT</th>\n",
       "      <td>-1</td>\n",
       "      <td>-1</td>\n",
       "      <td>-1</td>\n",
       "      <td>-1</td>\n",
       "      <td>-1</td>\n",
       "      <td>-1</td>\n",
       "      <td>-1</td>\n",
       "      <td>-1</td>\n",
       "      <td>-1</td>\n",
       "      <td>-1</td>\n",
       "      <td>...</td>\n",
       "      <td>-1</td>\n",
       "      <td>-1</td>\n",
       "      <td>-1</td>\n",
       "      <td>-1</td>\n",
       "      <td>-1</td>\n",
       "      <td>-1</td>\n",
       "      <td>-1</td>\n",
       "      <td>-1</td>\n",
       "      <td>-1</td>\n",
       "      <td>-1</td>\n",
       "    </tr>\n",
       "    <tr>\n",
       "      <th>Q2</th>\n",
       "      <td>45-49</td>\n",
       "      <td>30-34</td>\n",
       "      <td>30-34</td>\n",
       "      <td>35-39</td>\n",
       "      <td>22-24</td>\n",
       "      <td>25-29</td>\n",
       "      <td>35-39</td>\n",
       "      <td>18-21</td>\n",
       "      <td>25-29</td>\n",
       "      <td>30-34</td>\n",
       "      <td>...</td>\n",
       "      <td>18-21</td>\n",
       "      <td>22-24</td>\n",
       "      <td>18-21</td>\n",
       "      <td>30-34</td>\n",
       "      <td>30-34</td>\n",
       "      <td>45-49</td>\n",
       "      <td>25-29</td>\n",
       "      <td>22-24</td>\n",
       "      <td>25-29</td>\n",
       "      <td>25-29</td>\n",
       "    </tr>\n",
       "    <tr>\n",
       "      <th>Q3</th>\n",
       "      <td>United States of America</td>\n",
       "      <td>Indonesia</td>\n",
       "      <td>United States of America</td>\n",
       "      <td>United States of America</td>\n",
       "      <td>India</td>\n",
       "      <td>Colombia</td>\n",
       "      <td>Chile</td>\n",
       "      <td>India</td>\n",
       "      <td>Turkey</td>\n",
       "      <td>Hungary</td>\n",
       "      <td>...</td>\n",
       "      <td>India</td>\n",
       "      <td>Turkey</td>\n",
       "      <td>Turkey</td>\n",
       "      <td>Turkey</td>\n",
       "      <td>Turkey</td>\n",
       "      <td>France</td>\n",
       "      <td>Turkey</td>\n",
       "      <td>Turkey</td>\n",
       "      <td>United Kingdom of Great Britain and Northern I...</td>\n",
       "      <td>Spain</td>\n",
       "    </tr>\n",
       "    <tr>\n",
       "      <th>...</th>\n",
       "      <td>...</td>\n",
       "      <td>...</td>\n",
       "      <td>...</td>\n",
       "      <td>...</td>\n",
       "      <td>...</td>\n",
       "      <td>...</td>\n",
       "      <td>...</td>\n",
       "      <td>...</td>\n",
       "      <td>...</td>\n",
       "      <td>...</td>\n",
       "      <td>...</td>\n",
       "      <td>...</td>\n",
       "      <td>...</td>\n",
       "      <td>...</td>\n",
       "      <td>...</td>\n",
       "      <td>...</td>\n",
       "      <td>...</td>\n",
       "      <td>...</td>\n",
       "      <td>...</td>\n",
       "      <td>...</td>\n",
       "      <td>...</td>\n",
       "    </tr>\n",
       "    <tr>\n",
       "      <th>Q50_Part_5</th>\n",
       "      <td>NaN</td>\n",
       "      <td>NaN</td>\n",
       "      <td>NaN</td>\n",
       "      <td>Not enough incentives to share my work</td>\n",
       "      <td>Not enough incentives to share my work</td>\n",
       "      <td>NaN</td>\n",
       "      <td>NaN</td>\n",
       "      <td>Not enough incentives to share my work</td>\n",
       "      <td>NaN</td>\n",
       "      <td>NaN</td>\n",
       "      <td>...</td>\n",
       "      <td>NaN</td>\n",
       "      <td>NaN</td>\n",
       "      <td>NaN</td>\n",
       "      <td>NaN</td>\n",
       "      <td>NaN</td>\n",
       "      <td>NaN</td>\n",
       "      <td>NaN</td>\n",
       "      <td>NaN</td>\n",
       "      <td>NaN</td>\n",
       "      <td>NaN</td>\n",
       "    </tr>\n",
       "    <tr>\n",
       "      <th>Q50_Part_6</th>\n",
       "      <td>NaN</td>\n",
       "      <td>NaN</td>\n",
       "      <td>NaN</td>\n",
       "      <td>NaN</td>\n",
       "      <td>NaN</td>\n",
       "      <td>I had never considered making my work easier f...</td>\n",
       "      <td>I had never considered making my work easier f...</td>\n",
       "      <td>NaN</td>\n",
       "      <td>NaN</td>\n",
       "      <td>NaN</td>\n",
       "      <td>...</td>\n",
       "      <td>NaN</td>\n",
       "      <td>NaN</td>\n",
       "      <td>NaN</td>\n",
       "      <td>NaN</td>\n",
       "      <td>NaN</td>\n",
       "      <td>NaN</td>\n",
       "      <td>NaN</td>\n",
       "      <td>NaN</td>\n",
       "      <td>NaN</td>\n",
       "      <td>NaN</td>\n",
       "    </tr>\n",
       "    <tr>\n",
       "      <th>Q50_Part_7</th>\n",
       "      <td>NaN</td>\n",
       "      <td>NaN</td>\n",
       "      <td>NaN</td>\n",
       "      <td>NaN</td>\n",
       "      <td>NaN</td>\n",
       "      <td>NaN</td>\n",
       "      <td>NaN</td>\n",
       "      <td>NaN</td>\n",
       "      <td>NaN</td>\n",
       "      <td>NaN</td>\n",
       "      <td>...</td>\n",
       "      <td>NaN</td>\n",
       "      <td>NaN</td>\n",
       "      <td>NaN</td>\n",
       "      <td>NaN</td>\n",
       "      <td>NaN</td>\n",
       "      <td>NaN</td>\n",
       "      <td>NaN</td>\n",
       "      <td>NaN</td>\n",
       "      <td>NaN</td>\n",
       "      <td>NaN</td>\n",
       "    </tr>\n",
       "    <tr>\n",
       "      <th>Q50_Part_8</th>\n",
       "      <td>NaN</td>\n",
       "      <td>NaN</td>\n",
       "      <td>NaN</td>\n",
       "      <td>NaN</td>\n",
       "      <td>NaN</td>\n",
       "      <td>NaN</td>\n",
       "      <td>NaN</td>\n",
       "      <td>NaN</td>\n",
       "      <td>NaN</td>\n",
       "      <td>NaN</td>\n",
       "      <td>...</td>\n",
       "      <td>NaN</td>\n",
       "      <td>NaN</td>\n",
       "      <td>NaN</td>\n",
       "      <td>NaN</td>\n",
       "      <td>NaN</td>\n",
       "      <td>NaN</td>\n",
       "      <td>NaN</td>\n",
       "      <td>NaN</td>\n",
       "      <td>NaN</td>\n",
       "      <td>NaN</td>\n",
       "    </tr>\n",
       "    <tr>\n",
       "      <th>Q50_OTHER_TEXT</th>\n",
       "      <td>-1</td>\n",
       "      <td>-1</td>\n",
       "      <td>-1</td>\n",
       "      <td>-1</td>\n",
       "      <td>-1</td>\n",
       "      <td>-1</td>\n",
       "      <td>-1</td>\n",
       "      <td>-1</td>\n",
       "      <td>-1</td>\n",
       "      <td>-1</td>\n",
       "      <td>...</td>\n",
       "      <td>-1</td>\n",
       "      <td>-1</td>\n",
       "      <td>-1</td>\n",
       "      <td>-1</td>\n",
       "      <td>-1</td>\n",
       "      <td>-1</td>\n",
       "      <td>-1</td>\n",
       "      <td>-1</td>\n",
       "      <td>-1</td>\n",
       "      <td>-1</td>\n",
       "    </tr>\n",
       "  </tbody>\n",
       "</table>\n",
       "<p>395 rows × 23859 columns</p>\n",
       "</div>"
      ],
      "text/plain": [
       "                                                        1          2      \\\n",
       "Time from Start to Finish (seconds)                       710        434   \n",
       "Q1                                                     Female       Male   \n",
       "Q1_OTHER_TEXT                                              -1         -1   \n",
       "Q2                                                      45-49      30-34   \n",
       "Q3                                   United States of America  Indonesia   \n",
       "...                                                       ...        ...   \n",
       "Q50_Part_5                                                NaN        NaN   \n",
       "Q50_Part_6                                                NaN        NaN   \n",
       "Q50_Part_7                                                NaN        NaN   \n",
       "Q50_Part_8                                                NaN        NaN   \n",
       "Q50_OTHER_TEXT                                             -1         -1   \n",
       "\n",
       "                                                        3      \\\n",
       "Time from Start to Finish (seconds)                       718   \n",
       "Q1                                                     Female   \n",
       "Q1_OTHER_TEXT                                              -1   \n",
       "Q2                                                      30-34   \n",
       "Q3                                   United States of America   \n",
       "...                                                       ...   \n",
       "Q50_Part_5                                                NaN   \n",
       "Q50_Part_6                                                NaN   \n",
       "Q50_Part_7                                                NaN   \n",
       "Q50_Part_8                                                NaN   \n",
       "Q50_OTHER_TEXT                                             -1   \n",
       "\n",
       "                                                                      4      \\\n",
       "Time from Start to Finish (seconds)                                     621   \n",
       "Q1                                                                     Male   \n",
       "Q1_OTHER_TEXT                                                            -1   \n",
       "Q2                                                                    35-39   \n",
       "Q3                                                 United States of America   \n",
       "...                                                                     ...   \n",
       "Q50_Part_5                           Not enough incentives to share my work   \n",
       "Q50_Part_6                                                              NaN   \n",
       "Q50_Part_7                                                              NaN   \n",
       "Q50_Part_8                                                              NaN   \n",
       "Q50_OTHER_TEXT                                                           -1   \n",
       "\n",
       "                                                                      5      \\\n",
       "Time from Start to Finish (seconds)                                     731   \n",
       "Q1                                                                     Male   \n",
       "Q1_OTHER_TEXT                                                            -1   \n",
       "Q2                                                                    22-24   \n",
       "Q3                                                                    India   \n",
       "...                                                                     ...   \n",
       "Q50_Part_5                           Not enough incentives to share my work   \n",
       "Q50_Part_6                                                              NaN   \n",
       "Q50_Part_7                                                              NaN   \n",
       "Q50_Part_8                                                              NaN   \n",
       "Q50_OTHER_TEXT                                                           -1   \n",
       "\n",
       "                                                                                 6      \\\n",
       "Time from Start to Finish (seconds)                                               1142   \n",
       "Q1                                                                                Male   \n",
       "Q1_OTHER_TEXT                                                                       -1   \n",
       "Q2                                                                               25-29   \n",
       "Q3                                                                            Colombia   \n",
       "...                                                                                ...   \n",
       "Q50_Part_5                                                                         NaN   \n",
       "Q50_Part_6                           I had never considered making my work easier f...   \n",
       "Q50_Part_7                                                                         NaN   \n",
       "Q50_Part_8                                                                         NaN   \n",
       "Q50_OTHER_TEXT                                                                      -1   \n",
       "\n",
       "                                                                                 7      \\\n",
       "Time from Start to Finish (seconds)                                                959   \n",
       "Q1                                                                                Male   \n",
       "Q1_OTHER_TEXT                                                                       -1   \n",
       "Q2                                                                               35-39   \n",
       "Q3                                                                               Chile   \n",
       "...                                                                                ...   \n",
       "Q50_Part_5                                                                         NaN   \n",
       "Q50_Part_6                           I had never considered making my work easier f...   \n",
       "Q50_Part_7                                                                         NaN   \n",
       "Q50_Part_8                                                                         NaN   \n",
       "Q50_OTHER_TEXT                                                                      -1   \n",
       "\n",
       "                                                                      8      \\\n",
       "Time from Start to Finish (seconds)                                    1758   \n",
       "Q1                                                                     Male   \n",
       "Q1_OTHER_TEXT                                                            -1   \n",
       "Q2                                                                    18-21   \n",
       "Q3                                                                    India   \n",
       "...                                                                     ...   \n",
       "Q50_Part_5                           Not enough incentives to share my work   \n",
       "Q50_Part_6                                                              NaN   \n",
       "Q50_Part_7                                                              NaN   \n",
       "Q50_Part_8                                                              NaN   \n",
       "Q50_OTHER_TEXT                                                           -1   \n",
       "\n",
       "                                      9        10     ...   23850   23851  \\\n",
       "Time from Start to Finish (seconds)     641      751  ...     820     683   \n",
       "Q1                                     Male     Male  ...  Female    Male   \n",
       "Q1_OTHER_TEXT                            -1       -1  ...      -1      -1   \n",
       "Q2                                    25-29    30-34  ...   18-21   22-24   \n",
       "Q3                                   Turkey  Hungary  ...   India  Turkey   \n",
       "...                                     ...      ...  ...     ...     ...   \n",
       "Q50_Part_5                              NaN      NaN  ...     NaN     NaN   \n",
       "Q50_Part_6                              NaN      NaN  ...     NaN     NaN   \n",
       "Q50_Part_7                              NaN      NaN  ...     NaN     NaN   \n",
       "Q50_Part_8                              NaN      NaN  ...     NaN     NaN   \n",
       "Q50_OTHER_TEXT                           -1       -1  ...      -1      -1   \n",
       "\n",
       "                                      23852   23853   23854   23855   23856  \\\n",
       "Time from Start to Finish (seconds)      57     122     348     575     131   \n",
       "Q1                                   Female  Female    Male    Male  Female   \n",
       "Q1_OTHER_TEXT                            -1      -1      -1      -1      -1   \n",
       "Q2                                    18-21   30-34   30-34   45-49   25-29   \n",
       "Q3                                   Turkey  Turkey  Turkey  France  Turkey   \n",
       "...                                     ...     ...     ...     ...     ...   \n",
       "Q50_Part_5                              NaN     NaN     NaN     NaN     NaN   \n",
       "Q50_Part_6                              NaN     NaN     NaN     NaN     NaN   \n",
       "Q50_Part_7                              NaN     NaN     NaN     NaN     NaN   \n",
       "Q50_Part_8                              NaN     NaN     NaN     NaN     NaN   \n",
       "Q50_OTHER_TEXT                           -1      -1      -1      -1      -1   \n",
       "\n",
       "                                      23857  \\\n",
       "Time from Start to Finish (seconds)     370   \n",
       "Q1                                     Male   \n",
       "Q1_OTHER_TEXT                            -1   \n",
       "Q2                                    22-24   \n",
       "Q3                                   Turkey   \n",
       "...                                     ...   \n",
       "Q50_Part_5                              NaN   \n",
       "Q50_Part_6                              NaN   \n",
       "Q50_Part_7                              NaN   \n",
       "Q50_Part_8                              NaN   \n",
       "Q50_OTHER_TEXT                           -1   \n",
       "\n",
       "                                                                                 23858  \\\n",
       "Time from Start to Finish (seconds)                                                 36   \n",
       "Q1                                                                                Male   \n",
       "Q1_OTHER_TEXT                                                                       -1   \n",
       "Q2                                                                               25-29   \n",
       "Q3                                   United Kingdom of Great Britain and Northern I...   \n",
       "...                                                                                ...   \n",
       "Q50_Part_5                                                                         NaN   \n",
       "Q50_Part_6                                                                         NaN   \n",
       "Q50_Part_7                                                                         NaN   \n",
       "Q50_Part_8                                                                         NaN   \n",
       "Q50_OTHER_TEXT                                                                      -1   \n",
       "\n",
       "                                     23859  \n",
       "Time from Start to Finish (seconds)    502  \n",
       "Q1                                    Male  \n",
       "Q1_OTHER_TEXT                           -1  \n",
       "Q2                                   25-29  \n",
       "Q3                                   Spain  \n",
       "...                                    ...  \n",
       "Q50_Part_5                             NaN  \n",
       "Q50_Part_6                             NaN  \n",
       "Q50_Part_7                             NaN  \n",
       "Q50_Part_8                             NaN  \n",
       "Q50_OTHER_TEXT                          -1  \n",
       "\n",
       "[395 rows x 23859 columns]"
      ]
     },
     "execution_count": 4,
     "metadata": {},
     "output_type": "execute_result"
    }
   ],
   "source": [
    "df.T"
   ]
  },
  {
   "cell_type": "code",
   "execution_count": 5,
   "metadata": {
    "lines_to_next_cell": 2
   },
   "outputs": [
    {
     "data": {
      "text/plain": [
       "Time from Start to Finish (seconds)    object\n",
       "Q1                                     object\n",
       "Q1_OTHER_TEXT                          object\n",
       "Q2                                     object\n",
       "Q3                                     object\n",
       "                                        ...  \n",
       "Q50_Part_5                             object\n",
       "Q50_Part_6                             object\n",
       "Q50_Part_7                             object\n",
       "Q50_Part_8                             object\n",
       "Q50_OTHER_TEXT                         object\n",
       "Length: 395, dtype: object"
      ]
     },
     "execution_count": 5,
     "metadata": {},
     "output_type": "execute_result"
    }
   ],
   "source": [
    "df.dtypes"
   ]
  },
  {
   "cell_type": "code",
   "execution_count": 6,
   "metadata": {},
   "outputs": [
    {
     "data": {
      "text/plain": [
       "Male                       19430\n",
       "Female                      4010\n",
       "Prefer not to say            340\n",
       "Prefer to self-describe       79\n",
       "Name: Q1, dtype: int64"
      ]
     },
     "execution_count": 6,
     "metadata": {},
     "output_type": "execute_result"
    }
   ],
   "source": [
    "df.Q1.value_counts(dropna=False)"
   ]
  },
  {
   "cell_type": "code",
   "execution_count": 7,
   "metadata": {
    "lines_to_next_cell": 2
   },
   "outputs": [],
   "source": [
    "def tweak_kag(df):\n",
    "    na_mask = df.Q9.isna()\n",
    "    hide_mask = df.Q9.str.startswith('I do not').fillna(False)\n",
    "    df = df[~na_mask & ~hide_mask]\n",
    "\n",
    "\n",
    "    q1 = (df.Q1\n",
    "      .replace({'Prefer not to say': 'Another',\n",
    "               'Prefer to self-describe': 'Another'})\n",
    "      .rename('Gender')\n",
    "    )\n",
    "    q2 = df.Q2.str.slice(0,2).astype(int).rename('Age')\n",
    "    def limit_countries(val):\n",
    "        if val in  {'United States of America', 'India', 'China'}:\n",
    "            return val\n",
    "        return 'Another'\n",
    "\n",
    "    q3 = df.Q3.apply(limit_countries).rename('Country')\n",
    "\n",
    "\n",
    "    q4 = (df.Q4\n",
    "     .replace({'Master’s degree': 18,\n",
    "     'Bachelor’s degree': 16,\n",
    "     'Doctoral degree': 20,\n",
    "     'Some college/university study without earning a bachelor’s degree': 13,\n",
    "     'Professional degree': 19,\n",
    "     'I prefer not to answer': None,\n",
    "     'No formal education past high school': 12})\n",
    "     .fillna(11)\n",
    "     .rename('Edu')\n",
    "    )\n",
    "\n",
    "\n",
    "    def only_cs_stat_val(val):\n",
    "        return 'another' if val not in {'cs', 'eng', 'stat'} else val\n",
    "\n",
    "    q5 = (df.Q5\n",
    "            .replace({\n",
    "                'Computer science (software engineering, etc.)': 'cs',\n",
    "                'Engineering (non-computer focused)': 'eng',\n",
    "                'Mathematics or statistics': 'stat'})\n",
    "             .apply(only_cs_stat_val)\n",
    "             .rename('Studies'))\n",
    "    def limit_occupation(val):\n",
    "        if val in {'Student', 'Data Scientist', 'Software Engineer', 'Not employed',\n",
    "                  'Data Engineer'}:\n",
    "            return val\n",
    "        return 'Another'\n",
    "\n",
    "\n",
    "    q6 = df.Q6.apply(limit_occupation).rename('Occupation')\n",
    "\n",
    "\n",
    "    q8 = (df.Q8\n",
    "      .str.replace('+', '')\n",
    "      .str.split('-', expand=True)\n",
    "      .iloc[:,0]\n",
    "      .fillna(-1)\n",
    "      .astype(int)\n",
    "      .rename('Experience')\n",
    "    )\n",
    "\n",
    "\n",
    "    q9 = (df.Q9\n",
    "     .str.replace('+','')\n",
    "     .str.replace(',','')\n",
    "     .str.replace('500000', '500')\n",
    "     .str.replace('I do not wish to disclose my approximate yearly compensation','')\n",
    "     .str.split('-', expand=True)\n",
    "     .iloc[:,0]\n",
    "     .astype(int)\n",
    "     .mul(1000)\n",
    "     .rename('Salary'))\n",
    "    return pd.concat([q1, q2, q3, q4, q5, q6, q8, q9], axis=1)"
   ]
  },
  {
   "cell_type": "code",
   "execution_count": 8,
   "metadata": {
    "lines_to_next_cell": 2
   },
   "outputs": [
    {
     "name": "stderr",
     "output_type": "stream",
     "text": [
      "C:\\Users\\Vadim\\AppData\\Local\\Temp\\ipykernel_94300\\722445879.py:55: FutureWarning: The default value of regex will change from True to False in a future version. In addition, single character regular expressions will *not* be treated as literal strings when regex=True.\n",
      "  .str.replace('+', '')\n",
      "C:\\Users\\Vadim\\AppData\\Local\\Temp\\ipykernel_94300\\722445879.py:65: FutureWarning: The default value of regex will change from True to False in a future version. In addition, single character regular expressions will *not* be treated as literal strings when regex=True.\n",
      "  .str.replace('+','')\n"
     ]
    },
    {
     "data": {
      "text/html": [
       "<div>\n",
       "<style scoped>\n",
       "    .dataframe tbody tr th:only-of-type {\n",
       "        vertical-align: middle;\n",
       "    }\n",
       "\n",
       "    .dataframe tbody tr th {\n",
       "        vertical-align: top;\n",
       "    }\n",
       "\n",
       "    .dataframe thead th {\n",
       "        text-align: right;\n",
       "    }\n",
       "</style>\n",
       "<table border=\"1\" class=\"dataframe\">\n",
       "  <thead>\n",
       "    <tr style=\"text-align: right;\">\n",
       "      <th></th>\n",
       "      <th>Gender</th>\n",
       "      <th>Age</th>\n",
       "      <th>Country</th>\n",
       "      <th>Edu</th>\n",
       "      <th>Studies</th>\n",
       "      <th>Occupation</th>\n",
       "      <th>Experience</th>\n",
       "      <th>Salary</th>\n",
       "    </tr>\n",
       "  </thead>\n",
       "  <tbody>\n",
       "    <tr>\n",
       "      <th>2</th>\n",
       "      <td>Male</td>\n",
       "      <td>30</td>\n",
       "      <td>Another</td>\n",
       "      <td>16.0</td>\n",
       "      <td>eng</td>\n",
       "      <td>Another</td>\n",
       "      <td>5</td>\n",
       "      <td>10000</td>\n",
       "    </tr>\n",
       "    <tr>\n",
       "      <th>3</th>\n",
       "      <td>Female</td>\n",
       "      <td>30</td>\n",
       "      <td>United States of America</td>\n",
       "      <td>18.0</td>\n",
       "      <td>cs</td>\n",
       "      <td>Data Scientist</td>\n",
       "      <td>0</td>\n",
       "      <td>0</td>\n",
       "    </tr>\n",
       "    <tr>\n",
       "      <th>5</th>\n",
       "      <td>Male</td>\n",
       "      <td>22</td>\n",
       "      <td>India</td>\n",
       "      <td>18.0</td>\n",
       "      <td>stat</td>\n",
       "      <td>Another</td>\n",
       "      <td>0</td>\n",
       "      <td>0</td>\n",
       "    </tr>\n",
       "    <tr>\n",
       "      <th>7</th>\n",
       "      <td>Male</td>\n",
       "      <td>35</td>\n",
       "      <td>Another</td>\n",
       "      <td>20.0</td>\n",
       "      <td>another</td>\n",
       "      <td>Another</td>\n",
       "      <td>10</td>\n",
       "      <td>10000</td>\n",
       "    </tr>\n",
       "    <tr>\n",
       "      <th>8</th>\n",
       "      <td>Male</td>\n",
       "      <td>18</td>\n",
       "      <td>India</td>\n",
       "      <td>18.0</td>\n",
       "      <td>another</td>\n",
       "      <td>Another</td>\n",
       "      <td>0</td>\n",
       "      <td>0</td>\n",
       "    </tr>\n",
       "    <tr>\n",
       "      <th>...</th>\n",
       "      <td>...</td>\n",
       "      <td>...</td>\n",
       "      <td>...</td>\n",
       "      <td>...</td>\n",
       "      <td>...</td>\n",
       "      <td>...</td>\n",
       "      <td>...</td>\n",
       "      <td>...</td>\n",
       "    </tr>\n",
       "    <tr>\n",
       "      <th>23844</th>\n",
       "      <td>Male</td>\n",
       "      <td>30</td>\n",
       "      <td>Another</td>\n",
       "      <td>18.0</td>\n",
       "      <td>cs</td>\n",
       "      <td>Software Engineer</td>\n",
       "      <td>10</td>\n",
       "      <td>90000</td>\n",
       "    </tr>\n",
       "    <tr>\n",
       "      <th>23845</th>\n",
       "      <td>Male</td>\n",
       "      <td>22</td>\n",
       "      <td>Another</td>\n",
       "      <td>18.0</td>\n",
       "      <td>stat</td>\n",
       "      <td>Student</td>\n",
       "      <td>0</td>\n",
       "      <td>0</td>\n",
       "    </tr>\n",
       "    <tr>\n",
       "      <th>23854</th>\n",
       "      <td>Male</td>\n",
       "      <td>30</td>\n",
       "      <td>Another</td>\n",
       "      <td>20.0</td>\n",
       "      <td>cs</td>\n",
       "      <td>Another</td>\n",
       "      <td>5</td>\n",
       "      <td>10000</td>\n",
       "    </tr>\n",
       "    <tr>\n",
       "      <th>23855</th>\n",
       "      <td>Male</td>\n",
       "      <td>45</td>\n",
       "      <td>Another</td>\n",
       "      <td>20.0</td>\n",
       "      <td>cs</td>\n",
       "      <td>Another</td>\n",
       "      <td>5</td>\n",
       "      <td>250000</td>\n",
       "    </tr>\n",
       "    <tr>\n",
       "      <th>23857</th>\n",
       "      <td>Male</td>\n",
       "      <td>22</td>\n",
       "      <td>Another</td>\n",
       "      <td>18.0</td>\n",
       "      <td>cs</td>\n",
       "      <td>Software Engineer</td>\n",
       "      <td>0</td>\n",
       "      <td>10000</td>\n",
       "    </tr>\n",
       "  </tbody>\n",
       "</table>\n",
       "<p>15429 rows × 8 columns</p>\n",
       "</div>"
      ],
      "text/plain": [
       "       Gender  Age                   Country   Edu  Studies  \\\n",
       "2        Male   30                   Another  16.0      eng   \n",
       "3      Female   30  United States of America  18.0       cs   \n",
       "5        Male   22                     India  18.0     stat   \n",
       "7        Male   35                   Another  20.0  another   \n",
       "8        Male   18                     India  18.0  another   \n",
       "...       ...  ...                       ...   ...      ...   \n",
       "23844    Male   30                   Another  18.0       cs   \n",
       "23845    Male   22                   Another  18.0     stat   \n",
       "23854    Male   30                   Another  20.0       cs   \n",
       "23855    Male   45                   Another  20.0       cs   \n",
       "23857    Male   22                   Another  18.0       cs   \n",
       "\n",
       "              Occupation  Experience  Salary  \n",
       "2                Another           5   10000  \n",
       "3         Data Scientist           0       0  \n",
       "5                Another           0       0  \n",
       "7                Another          10   10000  \n",
       "8                Another           0       0  \n",
       "...                  ...         ...     ...  \n",
       "23844  Software Engineer          10   90000  \n",
       "23845            Student           0       0  \n",
       "23854            Another           5   10000  \n",
       "23855            Another           5  250000  \n",
       "23857  Software Engineer           0   10000  \n",
       "\n",
       "[15429 rows x 8 columns]"
      ]
     },
     "execution_count": 8,
     "metadata": {},
     "output_type": "execute_result"
    }
   ],
   "source": [
    "tweak_kag(df)"
   ]
  },
  {
   "cell_type": "code",
   "execution_count": 9,
   "metadata": {
    "lines_to_next_cell": 2
   },
   "outputs": [
    {
     "name": "stderr",
     "output_type": "stream",
     "text": [
      "C:\\Users\\Vadim\\AppData\\Local\\Temp\\ipykernel_94300\\722445879.py:55: FutureWarning: The default value of regex will change from True to False in a future version. In addition, single character regular expressions will *not* be treated as literal strings when regex=True.\n",
      "  .str.replace('+', '')\n",
      "C:\\Users\\Vadim\\AppData\\Local\\Temp\\ipykernel_94300\\722445879.py:65: FutureWarning: The default value of regex will change from True to False in a future version. In addition, single character regular expressions will *not* be treated as literal strings when regex=True.\n",
      "  .str.replace('+','')\n"
     ]
    },
    {
     "data": {
      "text/plain": [
       "Gender         object\n",
       "Age             int32\n",
       "Country        object\n",
       "Edu           float64\n",
       "Studies        object\n",
       "Occupation     object\n",
       "Experience      int32\n",
       "Salary          int32\n",
       "dtype: object"
      ]
     },
     "execution_count": 9,
     "metadata": {},
     "output_type": "execute_result"
    }
   ],
   "source": [
    "tweak_kag(df).dtypes"
   ]
  },
  {
   "cell_type": "markdown",
   "metadata": {},
   "source": [
    "### How it works..."
   ]
  },
  {
   "cell_type": "code",
   "execution_count": 10,
   "metadata": {
    "lines_to_next_cell": 2
   },
   "outputs": [
    {
     "name": "stderr",
     "output_type": "stream",
     "text": [
      "C:\\Users\\Vadim\\AppData\\Local\\Temp\\ipykernel_94300\\722445879.py:55: FutureWarning: The default value of regex will change from True to False in a future version. In addition, single character regular expressions will *not* be treated as literal strings when regex=True.\n",
      "  .str.replace('+', '')\n",
      "C:\\Users\\Vadim\\AppData\\Local\\Temp\\ipykernel_94300\\722445879.py:65: FutureWarning: The default value of regex will change from True to False in a future version. In addition, single character regular expressions will *not* be treated as literal strings when regex=True.\n",
      "  .str.replace('+','')\n"
     ]
    },
    {
     "data": {
      "text/plain": [
       "Country\n",
       "Another                     0.289827\n",
       "China                       0.252974\n",
       "India                       0.167335\n",
       "United States of America    0.354125\n",
       "dtype: float64"
      ]
     },
     "execution_count": 10,
     "metadata": {},
     "output_type": "execute_result"
    }
   ],
   "source": [
    "kag = tweak_kag(df)\n",
    "(kag\n",
    "    .groupby('Country')\n",
    "    .apply(lambda g: g.Salary.corr(g.Experience))\n",
    ")"
   ]
  },
  {
   "cell_type": "markdown",
   "metadata": {},
   "source": [
    "## Apply Performance"
   ]
  },
  {
   "cell_type": "markdown",
   "metadata": {},
   "source": [
    "### How to do it..."
   ]
  },
  {
   "cell_type": "code",
   "execution_count": 11,
   "metadata": {},
   "outputs": [],
   "source": [
    "def limit_countries(val):\n",
    "     if val in  {'United States of America', 'India', 'China'}:\n",
    "         return val\n",
    "     return 'Another'"
   ]
  },
  {
   "cell_type": "code",
   "execution_count": 12,
   "metadata": {
    "lines_to_next_cell": 2
   },
   "outputs": [
    {
     "name": "stdout",
     "output_type": "stream",
     "text": [
      "4.3 ms ± 90.2 µs per loop (mean ± std. dev. of 7 runs, 100 loops each)\n"
     ]
    }
   ],
   "source": [
    "%%timeit\n",
    "q3 = df.Q3.apply(limit_countries).rename('Country')"
   ]
  },
  {
   "cell_type": "code",
   "execution_count": 13,
   "metadata": {
    "lines_to_next_cell": 2
   },
   "outputs": [
    {
     "name": "stdout",
     "output_type": "stream",
     "text": [
      "43.6 ms ± 2.2 ms per loop (mean ± std. dev. of 7 runs, 10 loops each)\n"
     ]
    }
   ],
   "source": [
    "%%timeit\n",
    "other_values = df.Q3.value_counts().iloc[3:].index\n",
    "q3_2 = df.Q3.replace(other_values, 'Another')"
   ]
  },
  {
   "cell_type": "code",
   "execution_count": 14,
   "metadata": {
    "lines_to_next_cell": 2
   },
   "outputs": [
    {
     "name": "stdout",
     "output_type": "stream",
     "text": [
      "1.82 ms ± 74 µs per loop (mean ± std. dev. of 7 runs, 100 loops each)\n"
     ]
    }
   ],
   "source": [
    "%%timeit\n",
    "values = {'United States of America', 'India', 'China'}\n",
    "q3_3 = df.Q3.where(df.Q3.isin(values), 'Another')"
   ]
  },
  {
   "cell_type": "code",
   "execution_count": 15,
   "metadata": {
    "lines_to_next_cell": 2
   },
   "outputs": [
    {
     "name": "stdout",
     "output_type": "stream",
     "text": [
      "1.58 ms ± 126 µs per loop (mean ± std. dev. of 7 runs, 1,000 loops each)\n"
     ]
    }
   ],
   "source": [
    "%%timeit\n",
    "values = {'United States of America', 'India', 'China'}\n",
    "q3_4 = pd.Series(np.where(df.Q3.isin(values), df.Q3, 'Another'), \n",
    "     index=df.index)"
   ]
  },
  {
   "cell_type": "code",
   "execution_count": 16,
   "metadata": {
    "lines_to_next_cell": 2
   },
   "outputs": [],
   "source": [
    "#q3_4.equals(q3_2)"
   ]
  },
  {
   "cell_type": "code",
   "execution_count": 17,
   "metadata": {
    "lines_to_next_cell": 2
   },
   "outputs": [],
   "source": [
    "#q3_4.equals(q3_3)"
   ]
  },
  {
   "cell_type": "code",
   "execution_count": 18,
   "metadata": {},
   "outputs": [],
   "source": [
    "#q3.equals(q3_4)"
   ]
  },
  {
   "cell_type": "markdown",
   "metadata": {},
   "source": [
    "### How it works..."
   ]
  },
  {
   "cell_type": "markdown",
   "metadata": {},
   "source": [
    "### There's more..."
   ]
  },
  {
   "cell_type": "code",
   "execution_count": 19,
   "metadata": {},
   "outputs": [],
   "source": [
    "def limit_countries(val):\n",
    "     if val in  {'United States of America', 'India', 'China'}:\n",
    "         return val\n",
    "     return 'Another'"
   ]
  },
  {
   "cell_type": "code",
   "execution_count": 20,
   "metadata": {},
   "outputs": [],
   "source": [
    "q3 = df.Q3.apply(limit_countries).rename('Country')"
   ]
  },
  {
   "cell_type": "code",
   "execution_count": 21,
   "metadata": {},
   "outputs": [],
   "source": [
    "def debug(something):\n",
    "    # what is something? A cell, series, dataframe?\n",
    "    print(type(something), something)\n",
    "    1/0"
   ]
  },
  {
   "cell_type": "code",
   "execution_count": 22,
   "metadata": {
    "lines_to_next_cell": 2
   },
   "outputs": [],
   "source": [
    "#q3.apply(debug)"
   ]
  },
  {
   "cell_type": "code",
   "execution_count": 23,
   "metadata": {},
   "outputs": [],
   "source": [
    "the_item = None\n",
    "def debug(something):\n",
    "    global the_item\n",
    "    the_item = something\n",
    "    return something"
   ]
  },
  {
   "cell_type": "code",
   "execution_count": 24,
   "metadata": {
    "lines_to_next_cell": 2
   },
   "outputs": [],
   "source": [
    "_ = q3.apply(debug)"
   ]
  },
  {
   "cell_type": "code",
   "execution_count": 25,
   "metadata": {
    "lines_to_next_cell": 2
   },
   "outputs": [
    {
     "data": {
      "text/plain": [
       "'Another'"
      ]
     },
     "execution_count": 25,
     "metadata": {},
     "output_type": "execute_result"
    }
   ],
   "source": [
    "the_item"
   ]
  },
  {
   "cell_type": "markdown",
   "metadata": {},
   "source": [
    "## Improving Apply Performance with Dask, Pandarell, Swifter, and More"
   ]
  },
  {
   "cell_type": "markdown",
   "metadata": {},
   "source": [
    "### How to do it..."
   ]
  },
  {
   "cell_type": "code",
   "execution_count": 26,
   "metadata": {},
   "outputs": [
    {
     "name": "stdout",
     "output_type": "stream",
     "text": [
      "INFO: Pandarallel will run on 4 workers.\n",
      "INFO: Pandarallel will use standard multiprocessing data transfer (pipe) to transfer data between the main process and workers.\n",
      "\n",
      "WARNING: You are on Windows. If you detect any issue with pandarallel, be sure you checked out the Troubleshooting page:\n",
      "https://nalepae.github.io/pandarallel/troubleshooting/\n"
     ]
    }
   ],
   "source": [
    "from pandarallel import pandarallel\n",
    "pandarallel.initialize()"
   ]
  },
  {
   "cell_type": "code",
   "execution_count": 27,
   "metadata": {},
   "outputs": [],
   "source": [
    "def limit_countries(val):\n",
    "     if val in  {'United States of America', 'India', 'China'}:\n",
    "         return val\n",
    "     return 'Another'"
   ]
  },
  {
   "cell_type": "code",
   "execution_count": 28,
   "metadata": {
    "lines_to_next_cell": 2
   },
   "outputs": [
    {
     "name": "stdout",
     "output_type": "stream",
     "text": [
      "2.71 s ± 161 ms per loop (mean ± std. dev. of 7 runs, 1 loop each)\n"
     ]
    }
   ],
   "source": [
    "%%timeit\n",
    "res_p = df.Q3.parallel_apply(limit_countries).rename('Country')"
   ]
  },
  {
   "cell_type": "code",
   "execution_count": 29,
   "metadata": {},
   "outputs": [],
   "source": [
    "import swifter"
   ]
  },
  {
   "cell_type": "code",
   "execution_count": null,
   "metadata": {
    "lines_to_next_cell": 2
   },
   "outputs": [],
   "source": [
    "%%timeit\n",
    "res_s = df.Q3.swifter.apply(limit_countries).rename('Country')"
   ]
  },
  {
   "cell_type": "code",
   "execution_count": 31,
   "metadata": {
    "lines_to_next_cell": 2
   },
   "outputs": [],
   "source": [
    "import dask"
   ]
  },
  {
   "cell_type": "code",
   "execution_count": 32,
   "metadata": {
    "lines_to_next_cell": 2
   },
   "outputs": [
    {
     "name": "stdout",
     "output_type": "stream",
     "text": [
      "750 ms ± 24.6 ms per loop (mean ± std. dev. of 7 runs, 1 loop each)\n"
     ]
    }
   ],
   "source": [
    "%%timeit\n",
    "res_d = (dask.dataframe.from_pandas(\n",
    "       df, npartitions=4)\n",
    "   .map_partitions(lambda df: df.Q3.apply(limit_countries))\n",
    "   .rename('Countries')\n",
    ")"
   ]
  },
  {
   "cell_type": "code",
   "execution_count": 33,
   "metadata": {
    "lines_to_next_cell": 2
   },
   "outputs": [],
   "source": [
    "np_fn = np.vectorize(limit_countries)"
   ]
  },
  {
   "cell_type": "code",
   "execution_count": 34,
   "metadata": {
    "lines_to_next_cell": 2
   },
   "outputs": [
    {
     "name": "stdout",
     "output_type": "stream",
     "text": [
      "359 ms ± 16.6 ms per loop (mean ± std. dev. of 7 runs, 1 loop each)\n"
     ]
    }
   ],
   "source": [
    "%%timeit\n",
    "res_v = df.Q3.apply(np_fn).rename('Country')"
   ]
  },
  {
   "cell_type": "code",
   "execution_count": 35,
   "metadata": {},
   "outputs": [],
   "source": [
    "from numba import jit"
   ]
  },
  {
   "cell_type": "code",
   "execution_count": 36,
   "metadata": {},
   "outputs": [],
   "source": [
    "@jit\n",
    "def limit_countries2(val):\n",
    "     if val in  ['United States of America', 'India', 'China']:\n",
    "         return val\n",
    "     return 'Another'"
   ]
  },
  {
   "cell_type": "code",
   "execution_count": 37,
   "metadata": {
    "lines_to_next_cell": 2
   },
   "outputs": [
    {
     "name": "stdout",
     "output_type": "stream",
     "text": [
      "80.7 ms ± 4.48 ms per loop (mean ± std. dev. of 7 runs, 1 loop each)\n"
     ]
    }
   ],
   "source": [
    "%%timeit\n",
    "res_n = df.Q3.apply(limit_countries2).rename('Country')"
   ]
  },
  {
   "cell_type": "markdown",
   "metadata": {},
   "source": [
    "### How it works..."
   ]
  },
  {
   "cell_type": "markdown",
   "metadata": {},
   "source": [
    "## Inspecting Code "
   ]
  },
  {
   "cell_type": "markdown",
   "metadata": {},
   "source": [
    "### How to do it..."
   ]
  },
  {
   "cell_type": "code",
   "execution_count": 38,
   "metadata": {
    "lines_to_next_cell": 2
   },
   "outputs": [],
   "source": [
    "import zipfile\n",
    "import pandas as pd\n",
    "url = 'datasets/kaggle-survey-2018.zip'"
   ]
  },
  {
   "cell_type": "code",
   "execution_count": 39,
   "metadata": {
    "lines_to_next_cell": 2
   },
   "outputs": [
    {
     "name": "stderr",
     "output_type": "stream",
     "text": [
      "C:\\Users\\Vadim\\AppData\\Local\\Temp\\ipykernel_94300\\2570433387.py:2: DtypeWarning: Columns (0,2,8,10,21,23,24,25,26,27,28,44,56,64,83,85,87,107,109,123,125,150,157,172,174,194,210,218,219,223,246,249,262,264,276,277,278,279,280,281,282,283,284,285,286,287,288,289,290,304,306,325,326,329,341,368,371,384,385,389,390,391,393,394) have mixed types. Specify dtype option on import or set low_memory=False.\n",
      "  kag = pd.read_csv(z.open('multipleChoiceResponses.csv'))\n"
     ]
    }
   ],
   "source": [
    "with zipfile.ZipFile(url) as z:\n",
    "    kag = pd.read_csv(z.open('multipleChoiceResponses.csv'))\n",
    "    df = kag.iloc[1:]"
   ]
  },
  {
   "cell_type": "code",
   "execution_count": 40,
   "metadata": {
    "comment_questions": false,
    "lines_to_next_cell": 2
   },
   "outputs": [
    {
     "name": "stdout",
     "output_type": "stream",
     "text": [
      "\u001b[1;31mSignature:\u001b[0m\n",
      "\u001b[0mdf\u001b[0m\u001b[1;33m.\u001b[0m\u001b[0mQ3\u001b[0m\u001b[1;33m.\u001b[0m\u001b[0mapply\u001b[0m\u001b[1;33m(\u001b[0m\u001b[1;33m\n",
      "\u001b[0m    \u001b[0mfunc\u001b[0m\u001b[1;33m:\u001b[0m \u001b[1;34m'AggFuncType'\u001b[0m\u001b[1;33m,\u001b[0m\u001b[1;33m\n",
      "\u001b[0m    \u001b[0mconvert_dtype\u001b[0m\u001b[1;33m:\u001b[0m \u001b[1;34m'bool'\u001b[0m \u001b[1;33m=\u001b[0m \u001b[1;32mTrue\u001b[0m\u001b[1;33m,\u001b[0m\u001b[1;33m\n",
      "\u001b[0m    \u001b[0margs\u001b[0m\u001b[1;33m:\u001b[0m \u001b[1;34m'tuple[Any, ...]'\u001b[0m \u001b[1;33m=\u001b[0m \u001b[1;33m(\u001b[0m\u001b[1;33m)\u001b[0m\u001b[1;33m,\u001b[0m\u001b[1;33m\n",
      "\u001b[0m    \u001b[1;33m**\u001b[0m\u001b[0mkwargs\u001b[0m\u001b[1;33m,\u001b[0m\u001b[1;33m\n",
      "\u001b[0m\u001b[1;33m)\u001b[0m \u001b[1;33m->\u001b[0m \u001b[1;34m'DataFrame | Series'\u001b[0m\u001b[1;33m\u001b[0m\u001b[1;33m\u001b[0m\u001b[0m\n",
      "\u001b[1;31mDocstring:\u001b[0m\n",
      "Invoke function on values of Series.\n",
      "\n",
      "Can be ufunc (a NumPy function that applies to the entire Series)\n",
      "or a Python function that only works on single values.\n",
      "\n",
      "Parameters\n",
      "----------\n",
      "func : function\n",
      "    Python function or NumPy ufunc to apply.\n",
      "convert_dtype : bool, default True\n",
      "    Try to find better dtype for elementwise function results. If\n",
      "    False, leave as dtype=object. Note that the dtype is always\n",
      "    preserved for some extension array dtypes, such as Categorical.\n",
      "args : tuple\n",
      "    Positional arguments passed to func after the series value.\n",
      "**kwargs\n",
      "    Additional keyword arguments passed to func.\n",
      "\n",
      "Returns\n",
      "-------\n",
      "Series or DataFrame\n",
      "    If func returns a Series object the result will be a DataFrame.\n",
      "\n",
      "See Also\n",
      "--------\n",
      "Series.map: For element-wise operations.\n",
      "Series.agg: Only perform aggregating type operations.\n",
      "Series.transform: Only perform transforming type operations.\n",
      "\n",
      "Notes\n",
      "-----\n",
      "Functions that mutate the passed object can produce unexpected\n",
      "behavior or errors and are not supported. See :ref:`gotchas.udf-mutation`\n",
      "for more details.\n",
      "\n",
      "Examples\n",
      "--------\n",
      "Create a series with typical summer temperatures for each city.\n",
      "\n",
      ">>> s = pd.Series([20, 21, 12],\n",
      "...               index=['London', 'New York', 'Helsinki'])\n",
      ">>> s\n",
      "London      20\n",
      "New York    21\n",
      "Helsinki    12\n",
      "dtype: int64\n",
      "\n",
      "Square the values by defining a function and passing it as an\n",
      "argument to ``apply()``.\n",
      "\n",
      ">>> def square(x):\n",
      "...     return x ** 2\n",
      ">>> s.apply(square)\n",
      "London      400\n",
      "New York    441\n",
      "Helsinki    144\n",
      "dtype: int64\n",
      "\n",
      "Square the values by passing an anonymous function as an\n",
      "argument to ``apply()``.\n",
      "\n",
      ">>> s.apply(lambda x: x ** 2)\n",
      "London      400\n",
      "New York    441\n",
      "Helsinki    144\n",
      "dtype: int64\n",
      "\n",
      "Define a custom function that needs additional positional\n",
      "arguments and pass these additional arguments using the\n",
      "``args`` keyword.\n",
      "\n",
      ">>> def subtract_custom_value(x, custom_value):\n",
      "...     return x - custom_value\n",
      "\n",
      ">>> s.apply(subtract_custom_value, args=(5,))\n",
      "London      15\n",
      "New York    16\n",
      "Helsinki     7\n",
      "dtype: int64\n",
      "\n",
      "Define a custom function that takes keyword arguments\n",
      "and pass these arguments to ``apply``.\n",
      "\n",
      ">>> def add_custom_values(x, **kwargs):\n",
      "...     for month in kwargs:\n",
      "...         x += kwargs[month]\n",
      "...     return x\n",
      "\n",
      ">>> s.apply(add_custom_values, june=30, july=20, august=25)\n",
      "London      95\n",
      "New York    96\n",
      "Helsinki    87\n",
      "dtype: int64\n",
      "\n",
      "Use a function from the Numpy library.\n",
      "\n",
      ">>> s.apply(np.log)\n",
      "London      2.995732\n",
      "New York    3.044522\n",
      "Helsinki    2.484907\n",
      "dtype: float64\n",
      "\u001b[1;31mFile:\u001b[0m      c:\\users\\vadim\\appdata\\local\\packages\\pythonsoftwarefoundation.python.3.10_qbz5n2kfra8p0\\localcache\\local-packages\\python310\\site-packages\\pandas\\core\\series.py\n",
      "\u001b[1;31mType:\u001b[0m      method\n"
     ]
    }
   ],
   "source": [
    "df.Q3.apply?"
   ]
  },
  {
   "cell_type": "code",
   "execution_count": 41,
   "metadata": {
    "comment_questions": false,
    "lines_to_next_cell": 2
   },
   "outputs": [
    {
     "name": "stdout",
     "output_type": "stream",
     "text": [
      "\u001b[1;31mSignature:\u001b[0m\n",
      "\u001b[0mdf\u001b[0m\u001b[1;33m.\u001b[0m\u001b[0mQ3\u001b[0m\u001b[1;33m.\u001b[0m\u001b[0mapply\u001b[0m\u001b[1;33m(\u001b[0m\u001b[1;33m\n",
      "\u001b[0m    \u001b[0mfunc\u001b[0m\u001b[1;33m:\u001b[0m \u001b[1;34m'AggFuncType'\u001b[0m\u001b[1;33m,\u001b[0m\u001b[1;33m\n",
      "\u001b[0m    \u001b[0mconvert_dtype\u001b[0m\u001b[1;33m:\u001b[0m \u001b[1;34m'bool'\u001b[0m \u001b[1;33m=\u001b[0m \u001b[1;32mTrue\u001b[0m\u001b[1;33m,\u001b[0m\u001b[1;33m\n",
      "\u001b[0m    \u001b[0margs\u001b[0m\u001b[1;33m:\u001b[0m \u001b[1;34m'tuple[Any, ...]'\u001b[0m \u001b[1;33m=\u001b[0m \u001b[1;33m(\u001b[0m\u001b[1;33m)\u001b[0m\u001b[1;33m,\u001b[0m\u001b[1;33m\n",
      "\u001b[0m    \u001b[1;33m**\u001b[0m\u001b[0mkwargs\u001b[0m\u001b[1;33m,\u001b[0m\u001b[1;33m\n",
      "\u001b[0m\u001b[1;33m)\u001b[0m \u001b[1;33m->\u001b[0m \u001b[1;34m'DataFrame | Series'\u001b[0m\u001b[1;33m\u001b[0m\u001b[1;33m\u001b[0m\u001b[0m\n",
      "\u001b[1;31mSource:\u001b[0m   \n",
      "    \u001b[1;32mdef\u001b[0m \u001b[0mapply\u001b[0m\u001b[1;33m(\u001b[0m\u001b[1;33m\n",
      "\u001b[0m        \u001b[0mself\u001b[0m\u001b[1;33m,\u001b[0m\u001b[1;33m\n",
      "\u001b[0m        \u001b[0mfunc\u001b[0m\u001b[1;33m:\u001b[0m \u001b[0mAggFuncType\u001b[0m\u001b[1;33m,\u001b[0m\u001b[1;33m\n",
      "\u001b[0m        \u001b[0mconvert_dtype\u001b[0m\u001b[1;33m:\u001b[0m \u001b[0mbool\u001b[0m \u001b[1;33m=\u001b[0m \u001b[1;32mTrue\u001b[0m\u001b[1;33m,\u001b[0m\u001b[1;33m\n",
      "\u001b[0m        \u001b[0margs\u001b[0m\u001b[1;33m:\u001b[0m \u001b[0mtuple\u001b[0m\u001b[1;33m[\u001b[0m\u001b[0mAny\u001b[0m\u001b[1;33m,\u001b[0m \u001b[1;33m...\u001b[0m\u001b[1;33m]\u001b[0m \u001b[1;33m=\u001b[0m \u001b[1;33m(\u001b[0m\u001b[1;33m)\u001b[0m\u001b[1;33m,\u001b[0m\u001b[1;33m\n",
      "\u001b[0m        \u001b[1;33m**\u001b[0m\u001b[0mkwargs\u001b[0m\u001b[1;33m,\u001b[0m\u001b[1;33m\n",
      "\u001b[0m    \u001b[1;33m)\u001b[0m \u001b[1;33m->\u001b[0m \u001b[0mDataFrame\u001b[0m \u001b[1;33m|\u001b[0m \u001b[0mSeries\u001b[0m\u001b[1;33m:\u001b[0m\u001b[1;33m\n",
      "\u001b[0m        \u001b[1;34m\"\"\"\n",
      "        Invoke function on values of Series.\n",
      "\n",
      "        Can be ufunc (a NumPy function that applies to the entire Series)\n",
      "        or a Python function that only works on single values.\n",
      "\n",
      "        Parameters\n",
      "        ----------\n",
      "        func : function\n",
      "            Python function or NumPy ufunc to apply.\n",
      "        convert_dtype : bool, default True\n",
      "            Try to find better dtype for elementwise function results. If\n",
      "            False, leave as dtype=object. Note that the dtype is always\n",
      "            preserved for some extension array dtypes, such as Categorical.\n",
      "        args : tuple\n",
      "            Positional arguments passed to func after the series value.\n",
      "        **kwargs\n",
      "            Additional keyword arguments passed to func.\n",
      "\n",
      "        Returns\n",
      "        -------\n",
      "        Series or DataFrame\n",
      "            If func returns a Series object the result will be a DataFrame.\n",
      "\n",
      "        See Also\n",
      "        --------\n",
      "        Series.map: For element-wise operations.\n",
      "        Series.agg: Only perform aggregating type operations.\n",
      "        Series.transform: Only perform transforming type operations.\n",
      "\n",
      "        Notes\n",
      "        -----\n",
      "        Functions that mutate the passed object can produce unexpected\n",
      "        behavior or errors and are not supported. See :ref:`gotchas.udf-mutation`\n",
      "        for more details.\n",
      "\n",
      "        Examples\n",
      "        --------\n",
      "        Create a series with typical summer temperatures for each city.\n",
      "\n",
      "        >>> s = pd.Series([20, 21, 12],\n",
      "        ...               index=['London', 'New York', 'Helsinki'])\n",
      "        >>> s\n",
      "        London      20\n",
      "        New York    21\n",
      "        Helsinki    12\n",
      "        dtype: int64\n",
      "\n",
      "        Square the values by defining a function and passing it as an\n",
      "        argument to ``apply()``.\n",
      "\n",
      "        >>> def square(x):\n",
      "        ...     return x ** 2\n",
      "        >>> s.apply(square)\n",
      "        London      400\n",
      "        New York    441\n",
      "        Helsinki    144\n",
      "        dtype: int64\n",
      "\n",
      "        Square the values by passing an anonymous function as an\n",
      "        argument to ``apply()``.\n",
      "\n",
      "        >>> s.apply(lambda x: x ** 2)\n",
      "        London      400\n",
      "        New York    441\n",
      "        Helsinki    144\n",
      "        dtype: int64\n",
      "\n",
      "        Define a custom function that needs additional positional\n",
      "        arguments and pass these additional arguments using the\n",
      "        ``args`` keyword.\n",
      "\n",
      "        >>> def subtract_custom_value(x, custom_value):\n",
      "        ...     return x - custom_value\n",
      "\n",
      "        >>> s.apply(subtract_custom_value, args=(5,))\n",
      "        London      15\n",
      "        New York    16\n",
      "        Helsinki     7\n",
      "        dtype: int64\n",
      "\n",
      "        Define a custom function that takes keyword arguments\n",
      "        and pass these arguments to ``apply``.\n",
      "\n",
      "        >>> def add_custom_values(x, **kwargs):\n",
      "        ...     for month in kwargs:\n",
      "        ...         x += kwargs[month]\n",
      "        ...     return x\n",
      "\n",
      "        >>> s.apply(add_custom_values, june=30, july=20, august=25)\n",
      "        London      95\n",
      "        New York    96\n",
      "        Helsinki    87\n",
      "        dtype: int64\n",
      "\n",
      "        Use a function from the Numpy library.\n",
      "\n",
      "        >>> s.apply(np.log)\n",
      "        London      2.995732\n",
      "        New York    3.044522\n",
      "        Helsinki    2.484907\n",
      "        dtype: float64\n",
      "        \"\"\"\u001b[0m\u001b[1;33m\n",
      "\u001b[0m        \u001b[1;32mreturn\u001b[0m \u001b[0mSeriesApply\u001b[0m\u001b[1;33m(\u001b[0m\u001b[0mself\u001b[0m\u001b[1;33m,\u001b[0m \u001b[0mfunc\u001b[0m\u001b[1;33m,\u001b[0m \u001b[0mconvert_dtype\u001b[0m\u001b[1;33m,\u001b[0m \u001b[0margs\u001b[0m\u001b[1;33m,\u001b[0m \u001b[0mkwargs\u001b[0m\u001b[1;33m)\u001b[0m\u001b[1;33m.\u001b[0m\u001b[0mapply\u001b[0m\u001b[1;33m(\u001b[0m\u001b[1;33m)\u001b[0m\u001b[1;33m\u001b[0m\u001b[1;33m\u001b[0m\u001b[0m\n",
      "\u001b[1;31mFile:\u001b[0m      c:\\users\\vadim\\appdata\\local\\packages\\pythonsoftwarefoundation.python.3.10_qbz5n2kfra8p0\\localcache\\local-packages\\python310\\site-packages\\pandas\\core\\series.py\n",
      "\u001b[1;31mType:\u001b[0m      method\n"
     ]
    }
   ],
   "source": [
    "df.Q3.apply??"
   ]
  },
  {
   "cell_type": "code",
   "execution_count": 42,
   "metadata": {
    "lines_to_next_cell": 2
   },
   "outputs": [
    {
     "data": {
      "text/plain": [
       "<module 'pandas._libs.lib' from 'C:\\\\Users\\\\Vadim\\\\AppData\\\\Local\\\\Packages\\\\PythonSoftwareFoundation.Python.3.10_qbz5n2kfra8p0\\\\LocalCache\\\\local-packages\\\\Python310\\\\site-packages\\\\pandas\\\\_libs\\\\lib.cp310-win_amd64.pyd'>"
      ]
     },
     "execution_count": 42,
     "metadata": {},
     "output_type": "execute_result"
    }
   ],
   "source": [
    "import pandas.core.series\n",
    "pandas.core.series.lib"
   ]
  },
  {
   "cell_type": "code",
   "execution_count": 43,
   "metadata": {
    "comment_questions": false,
    "lines_to_next_cell": 2
   },
   "outputs": [
    {
     "name": "stdout",
     "output_type": "stream",
     "text": [
      "\u001b[1;31mDocstring:\u001b[0m\n",
      "Substitute for np.vectorize with pandas-friendly dtype inference.\n",
      "\n",
      "Parameters\n",
      "----------\n",
      "arr : ndarray\n",
      "f : function\n",
      "convert : bint\n",
      "ignore_na : bint\n",
      "    If True, NA values will not have f applied\n",
      "\n",
      "Returns\n",
      "-------\n",
      "np.ndarray\n",
      "\u001b[1;31mType:\u001b[0m      builtin_function_or_method\n"
     ]
    }
   ],
   "source": [
    "pandas.core.series.lib.map_infer??"
   ]
  },
  {
   "cell_type": "markdown",
   "metadata": {},
   "source": [
    "## Debugging in Jupyter"
   ]
  },
  {
   "cell_type": "markdown",
   "metadata": {},
   "source": [
    "### How to do it..."
   ]
  },
  {
   "cell_type": "code",
   "execution_count": 44,
   "metadata": {
    "lines_to_next_cell": 2
   },
   "outputs": [],
   "source": [
    "import zipfile\n",
    "import pandas as pd\n",
    "\n",
    "url = 'datasets/kaggle-survey-2018.zip'"
   ]
  },
  {
   "cell_type": "code",
   "execution_count": 45,
   "metadata": {},
   "outputs": [
    {
     "name": "stderr",
     "output_type": "stream",
     "text": [
      "C:\\Users\\Vadim\\AppData\\Local\\Temp\\ipykernel_94300\\2570433387.py:2: DtypeWarning: Columns (0,2,8,10,21,23,24,25,26,27,28,44,56,64,83,85,87,107,109,123,125,150,157,172,174,194,210,218,219,223,246,249,262,264,276,277,278,279,280,281,282,283,284,285,286,287,288,289,290,304,306,325,326,329,341,368,371,384,385,389,390,391,393,394) have mixed types. Specify dtype option on import or set low_memory=False.\n",
      "  kag = pd.read_csv(z.open('multipleChoiceResponses.csv'))\n"
     ]
    }
   ],
   "source": [
    "with zipfile.ZipFile(url) as z:\n",
    "    kag = pd.read_csv(z.open('multipleChoiceResponses.csv'))\n",
    "    df = kag.iloc[1:]"
   ]
  },
  {
   "cell_type": "markdown",
   "metadata": {},
   "source": [
    "##  Managing data integrity with Great Expectations"
   ]
  },
  {
   "cell_type": "markdown",
   "metadata": {},
   "source": [
    "### How to do it..."
   ]
  },
  {
   "cell_type": "code",
   "execution_count": 46,
   "metadata": {
    "lines_to_next_cell": 2
   },
   "outputs": [],
   "source": [
    "kag = tweak_kag(df)"
   ]
  },
  {
   "cell_type": "code",
   "execution_count": 47,
   "metadata": {
    "lines_to_next_cell": 2
   },
   "outputs": [],
   "source": [
    "import great_expectations as ge\n",
    "kag_ge = ge.from_pandas(kag)"
   ]
  },
  {
   "cell_type": "code",
   "execution_count": 48,
   "metadata": {
    "lines_to_next_cell": 2
   },
   "outputs": [
    {
     "data": {
      "text/plain": [
       "['add_citation',\n",
       " 'append_expectation',\n",
       " 'attempt_allowing_relative_error',\n",
       " 'autoinspect',\n",
       " 'batch_id',\n",
       " 'batch_kwargs',\n",
       " 'batch_markers',\n",
       " 'batch_parameters',\n",
       " 'caching',\n",
       " 'column_aggregate_expectation',\n",
       " 'column_map_expectation',\n",
       " 'column_pair_map_expectation',\n",
       " 'default_expectation_args',\n",
       " 'discard_failing_expectations',\n",
       " 'discard_subset_failing_expectations',\n",
       " 'edit_expectation_suite',\n",
       " 'expect_column_bootstrapped_ks_test_p_value_to_be_greater_than',\n",
       " 'expect_column_chisquare_test_p_value_to_be_greater_than',\n",
       " 'expect_column_distinct_values_to_be_in_set',\n",
       " 'expect_column_distinct_values_to_contain_set',\n",
       " 'expect_column_distinct_values_to_equal_set',\n",
       " 'expect_column_kl_divergence_to_be_less_than',\n",
       " 'expect_column_max_to_be_between',\n",
       " 'expect_column_mean_to_be_between',\n",
       " 'expect_column_median_to_be_between',\n",
       " 'expect_column_min_to_be_between',\n",
       " 'expect_column_most_common_value_to_be_in_set',\n",
       " 'expect_column_pair_cramers_phi_value_to_be_less_than',\n",
       " 'expect_column_pair_values_A_to_be_greater_than_B',\n",
       " 'expect_column_pair_values_to_be_equal',\n",
       " 'expect_column_pair_values_to_be_in_set',\n",
       " 'expect_column_parameterized_distribution_ks_test_p_value_to_be_greater_than',\n",
       " 'expect_column_proportion_of_unique_values_to_be_between',\n",
       " 'expect_column_quantile_values_to_be_between',\n",
       " 'expect_column_stdev_to_be_between',\n",
       " 'expect_column_sum_to_be_between',\n",
       " 'expect_column_to_exist',\n",
       " 'expect_column_unique_value_count_to_be_between',\n",
       " 'expect_column_value_lengths_to_be_between',\n",
       " 'expect_column_value_lengths_to_equal',\n",
       " 'expect_column_values_to_be_between',\n",
       " 'expect_column_values_to_be_dateutil_parseable',\n",
       " 'expect_column_values_to_be_decreasing',\n",
       " 'expect_column_values_to_be_in_set',\n",
       " 'expect_column_values_to_be_in_type_list',\n",
       " 'expect_column_values_to_be_increasing',\n",
       " 'expect_column_values_to_be_json_parseable',\n",
       " 'expect_column_values_to_be_null',\n",
       " 'expect_column_values_to_be_of_type',\n",
       " 'expect_column_values_to_be_unique',\n",
       " 'expect_column_values_to_match_json_schema',\n",
       " 'expect_column_values_to_match_regex',\n",
       " 'expect_column_values_to_match_regex_list',\n",
       " 'expect_column_values_to_match_strftime_format',\n",
       " 'expect_column_values_to_not_be_in_set',\n",
       " 'expect_column_values_to_not_be_null',\n",
       " 'expect_column_values_to_not_match_regex',\n",
       " 'expect_column_values_to_not_match_regex_list',\n",
       " 'expect_compound_columns_to_be_unique',\n",
       " 'expect_multicolumn_sum_to_equal',\n",
       " 'expect_multicolumn_values_to_be_unique',\n",
       " 'expect_select_column_values_to_be_unique_within_record',\n",
       " 'expect_table_column_count_to_be_between',\n",
       " 'expect_table_column_count_to_equal',\n",
       " 'expect_table_columns_to_match_ordered_list',\n",
       " 'expect_table_columns_to_match_set',\n",
       " 'expect_table_row_count_to_be_between',\n",
       " 'expect_table_row_count_to_equal',\n",
       " 'expectation',\n",
       " 'expectation_suite_name',\n",
       " 'find_expectation_indexes',\n",
       " 'find_expectations',\n",
       " 'from_dataset',\n",
       " 'get_binned_values',\n",
       " 'get_column_count',\n",
       " 'get_column_count_in_range',\n",
       " 'get_column_hist',\n",
       " 'get_column_max',\n",
       " 'get_column_mean',\n",
       " 'get_column_median',\n",
       " 'get_column_min',\n",
       " 'get_column_modes',\n",
       " 'get_column_nonnull_count',\n",
       " 'get_column_partition',\n",
       " 'get_column_quantiles',\n",
       " 'get_column_stdev',\n",
       " 'get_column_sum',\n",
       " 'get_column_unique_count',\n",
       " 'get_column_value_counts',\n",
       " 'get_config_value',\n",
       " 'get_crosstab',\n",
       " 'get_default_expectation_arguments',\n",
       " 'get_evaluation_parameter',\n",
       " 'get_expectation_suite',\n",
       " 'get_expectations_config',\n",
       " 'get_row_count',\n",
       " 'get_table_columns',\n",
       " 'hashable_getters',\n",
       " 'list_available_expectation_types',\n",
       " 'multicolumn_map_expectation',\n",
       " 'profile',\n",
       " 'remove_expectation',\n",
       " 'save_expectation_suite',\n",
       " 'set_config_value',\n",
       " 'set_default_expectation_argument',\n",
       " 'set_evaluation_parameter',\n",
       " 'test_column_aggregate_expectation_function',\n",
       " 'test_column_map_expectation_function',\n",
       " 'test_expectation_function',\n",
       " 'validate']"
      ]
     },
     "execution_count": 48,
     "metadata": {},
     "output_type": "execute_result"
    }
   ],
   "source": [
    "sorted([x for x in set(dir(kag_ge)) - set(dir(kag))\n",
    "    if not x.startswith('_')])"
   ]
  },
  {
   "cell_type": "code",
   "execution_count": 49,
   "metadata": {
    "lines_to_next_cell": 2
   },
   "outputs": [
    {
     "data": {
      "text/plain": [
       "{\n",
       "  \"success\": true,\n",
       "  \"meta\": {},\n",
       "  \"exception_info\": {\n",
       "    \"raised_exception\": false,\n",
       "    \"exception_traceback\": null,\n",
       "    \"exception_message\": null\n",
       "  },\n",
       "  \"result\": {}\n",
       "}"
      ]
     },
     "execution_count": 49,
     "metadata": {},
     "output_type": "execute_result"
    }
   ],
   "source": [
    "kag_ge.expect_column_to_exist('Salary')"
   ]
  },
  {
   "cell_type": "code",
   "execution_count": 50,
   "metadata": {
    "lines_to_next_cell": 2
   },
   "outputs": [
    {
     "data": {
      "text/plain": [
       "{\n",
       "  \"success\": true,\n",
       "  \"meta\": {},\n",
       "  \"exception_info\": {\n",
       "    \"raised_exception\": false,\n",
       "    \"exception_traceback\": null,\n",
       "    \"exception_message\": null\n",
       "  },\n",
       "  \"result\": {\n",
       "    \"observed_value\": 43869.66102793441,\n",
       "    \"element_count\": 15429,\n",
       "    \"missing_count\": null,\n",
       "    \"missing_percent\": null\n",
       "  }\n",
       "}"
      ]
     },
     "execution_count": 50,
     "metadata": {},
     "output_type": "execute_result"
    }
   ],
   "source": [
    "kag_ge.expect_column_mean_to_be_between(\n",
    "   'Salary', min_value=10_000, max_value=100_000)"
   ]
  },
  {
   "cell_type": "code",
   "execution_count": 51,
   "metadata": {
    "lines_to_next_cell": 2
   },
   "outputs": [
    {
     "data": {
      "text/plain": [
       "{\n",
       "  \"success\": true,\n",
       "  \"meta\": {},\n",
       "  \"exception_info\": {\n",
       "    \"raised_exception\": false,\n",
       "    \"exception_traceback\": null,\n",
       "    \"exception_message\": null\n",
       "  },\n",
       "  \"result\": {\n",
       "    \"element_count\": 15429,\n",
       "    \"missing_count\": 0,\n",
       "    \"missing_percent\": 0.0,\n",
       "    \"unexpected_count\": 0,\n",
       "    \"unexpected_percent\": 0.0,\n",
       "    \"unexpected_percent_total\": 0.0,\n",
       "    \"unexpected_percent_nonmissing\": 0.0,\n",
       "    \"partial_unexpected_list\": []\n",
       "  }\n",
       "}"
      ]
     },
     "execution_count": 51,
     "metadata": {},
     "output_type": "execute_result"
    }
   ],
   "source": [
    "kag_ge.expect_column_values_to_be_between(\n",
    "   'Salary', min_value=0, max_value=500_000)"
   ]
  },
  {
   "cell_type": "code",
   "execution_count": 52,
   "metadata": {
    "lines_to_next_cell": 2
   },
   "outputs": [
    {
     "data": {
      "text/plain": [
       "{\n",
       "  \"success\": true,\n",
       "  \"meta\": {},\n",
       "  \"exception_info\": {\n",
       "    \"raised_exception\": false,\n",
       "    \"exception_traceback\": null,\n",
       "    \"exception_message\": null\n",
       "  },\n",
       "  \"result\": {\n",
       "    \"element_count\": 15429,\n",
       "    \"unexpected_count\": 0,\n",
       "    \"unexpected_percent\": 0.0,\n",
       "    \"unexpected_percent_total\": 0.0,\n",
       "    \"partial_unexpected_list\": []\n",
       "  }\n",
       "}"
      ]
     },
     "execution_count": 52,
     "metadata": {},
     "output_type": "execute_result"
    }
   ],
   "source": [
    "kag_ge.expect_column_values_to_not_be_null('Salary')"
   ]
  },
  {
   "cell_type": "code",
   "execution_count": 53,
   "metadata": {
    "lines_to_next_cell": 2
   },
   "outputs": [
    {
     "data": {
      "text/plain": [
       "{\n",
       "  \"success\": true,\n",
       "  \"meta\": {},\n",
       "  \"exception_info\": {\n",
       "    \"raised_exception\": false,\n",
       "    \"exception_traceback\": null,\n",
       "    \"exception_message\": null\n",
       "  },\n",
       "  \"result\": {\n",
       "    \"element_count\": 15429,\n",
       "    \"missing_count\": 0,\n",
       "    \"missing_percent\": 0.0,\n",
       "    \"unexpected_count\": 0,\n",
       "    \"unexpected_percent\": 0.0,\n",
       "    \"unexpected_percent_total\": 0.0,\n",
       "    \"unexpected_percent_nonmissing\": 0.0,\n",
       "    \"partial_unexpected_list\": []\n",
       "  }\n",
       "}"
      ]
     },
     "execution_count": 53,
     "metadata": {},
     "output_type": "execute_result"
    }
   ],
   "source": [
    "kag_ge.expect_column_values_to_match_regex(\n",
    "    'Country', r'America|India|Another|China')"
   ]
  },
  {
   "cell_type": "code",
   "execution_count": 54,
   "metadata": {
    "lines_to_next_cell": 2
   },
   "outputs": [
    {
     "data": {
      "text/plain": [
       "{\n",
       "  \"success\": true,\n",
       "  \"meta\": {},\n",
       "  \"exception_info\": {\n",
       "    \"raised_exception\": false,\n",
       "    \"exception_traceback\": null,\n",
       "    \"exception_message\": null\n",
       "  },\n",
       "  \"result\": {\n",
       "    \"observed_value\": \"int32\"\n",
       "  }\n",
       "}"
      ]
     },
     "execution_count": 54,
     "metadata": {},
     "output_type": "execute_result"
    }
   ],
   "source": [
    "kag_ge.expect_column_values_to_be_of_type(\n",
    "   'Salary', type_='int')"
   ]
  },
  {
   "cell_type": "code",
   "execution_count": 55,
   "metadata": {
    "lines_to_next_cell": 2
   },
   "outputs": [],
   "source": [
    "kag_ge.save_expectation_suite('kaggle_expectations.json')"
   ]
  },
  {
   "cell_type": "code",
   "execution_count": 56,
   "metadata": {
    "lines_to_next_cell": 2
   },
   "outputs": [
    {
     "data": {
      "text/plain": [
       "{\n",
       "  \"results\": [\n",
       "    {\n",
       "      \"success\": true,\n",
       "      \"meta\": {},\n",
       "      \"exception_info\": {\n",
       "        \"raised_exception\": false,\n",
       "        \"exception_message\": null,\n",
       "        \"exception_traceback\": null\n",
       "      },\n",
       "      \"result\": {},\n",
       "      \"expectation_config\": {\n",
       "        \"meta\": {},\n",
       "        \"kwargs\": {\n",
       "          \"column\": \"Salary\"\n",
       "        },\n",
       "        \"expectation_type\": \"expect_column_to_exist\"\n",
       "      }\n",
       "    },\n",
       "    {\n",
       "      \"success\": true,\n",
       "      \"meta\": {},\n",
       "      \"exception_info\": {\n",
       "        \"raised_exception\": false,\n",
       "        \"exception_message\": null,\n",
       "        \"exception_traceback\": null\n",
       "      },\n",
       "      \"result\": {\n",
       "        \"observed_value\": 43869.66102793441,\n",
       "        \"element_count\": 15429,\n",
       "        \"missing_count\": null,\n",
       "        \"missing_percent\": null\n",
       "      },\n",
       "      \"expectation_config\": {\n",
       "        \"meta\": {},\n",
       "        \"kwargs\": {\n",
       "          \"column\": \"Salary\",\n",
       "          \"max_value\": 100000,\n",
       "          \"min_value\": 10000\n",
       "        },\n",
       "        \"expectation_type\": \"expect_column_mean_to_be_between\"\n",
       "      }\n",
       "    },\n",
       "    {\n",
       "      \"success\": true,\n",
       "      \"meta\": {},\n",
       "      \"exception_info\": {\n",
       "        \"raised_exception\": false,\n",
       "        \"exception_message\": null,\n",
       "        \"exception_traceback\": null\n",
       "      },\n",
       "      \"result\": {\n",
       "        \"element_count\": 15429,\n",
       "        \"missing_count\": 0,\n",
       "        \"missing_percent\": 0.0,\n",
       "        \"unexpected_count\": 0,\n",
       "        \"unexpected_percent\": 0.0,\n",
       "        \"unexpected_percent_total\": 0.0,\n",
       "        \"unexpected_percent_nonmissing\": 0.0,\n",
       "        \"partial_unexpected_list\": []\n",
       "      },\n",
       "      \"expectation_config\": {\n",
       "        \"meta\": {},\n",
       "        \"kwargs\": {\n",
       "          \"column\": \"Salary\",\n",
       "          \"max_value\": 500000,\n",
       "          \"min_value\": 0\n",
       "        },\n",
       "        \"expectation_type\": \"expect_column_values_to_be_between\"\n",
       "      }\n",
       "    },\n",
       "    {\n",
       "      \"success\": true,\n",
       "      \"meta\": {},\n",
       "      \"exception_info\": {\n",
       "        \"raised_exception\": false,\n",
       "        \"exception_message\": null,\n",
       "        \"exception_traceback\": null\n",
       "      },\n",
       "      \"result\": {\n",
       "        \"element_count\": 15429,\n",
       "        \"unexpected_count\": 0,\n",
       "        \"unexpected_percent\": 0.0,\n",
       "        \"unexpected_percent_total\": 0.0,\n",
       "        \"partial_unexpected_list\": []\n",
       "      },\n",
       "      \"expectation_config\": {\n",
       "        \"meta\": {},\n",
       "        \"kwargs\": {\n",
       "          \"column\": \"Salary\"\n",
       "        },\n",
       "        \"expectation_type\": \"expect_column_values_to_not_be_null\"\n",
       "      }\n",
       "    },\n",
       "    {\n",
       "      \"success\": false,\n",
       "      \"meta\": {},\n",
       "      \"exception_info\": {\n",
       "        \"raised_exception\": false,\n",
       "        \"exception_message\": null,\n",
       "        \"exception_traceback\": null\n",
       "      },\n",
       "      \"result\": {\n",
       "        \"observed_value\": \"int64\"\n",
       "      },\n",
       "      \"expectation_config\": {\n",
       "        \"meta\": {},\n",
       "        \"kwargs\": {\n",
       "          \"column\": \"Salary\",\n",
       "          \"type_\": \"int\"\n",
       "        },\n",
       "        \"expectation_type\": \"expect_column_values_to_be_of_type\"\n",
       "      }\n",
       "    },\n",
       "    {\n",
       "      \"success\": true,\n",
       "      \"meta\": {},\n",
       "      \"exception_info\": {\n",
       "        \"raised_exception\": false,\n",
       "        \"exception_message\": null,\n",
       "        \"exception_traceback\": null\n",
       "      },\n",
       "      \"result\": {\n",
       "        \"element_count\": 15429,\n",
       "        \"missing_count\": 0,\n",
       "        \"missing_percent\": 0.0,\n",
       "        \"unexpected_count\": 0,\n",
       "        \"unexpected_percent\": 0.0,\n",
       "        \"unexpected_percent_total\": 0.0,\n",
       "        \"unexpected_percent_nonmissing\": 0.0,\n",
       "        \"partial_unexpected_list\": []\n",
       "      },\n",
       "      \"expectation_config\": {\n",
       "        \"meta\": {},\n",
       "        \"kwargs\": {\n",
       "          \"column\": \"Country\",\n",
       "          \"regex\": \"America|India|Another|China\"\n",
       "        },\n",
       "        \"expectation_type\": \"expect_column_values_to_match_regex\"\n",
       "      }\n",
       "    }\n",
       "  ],\n",
       "  \"success\": false,\n",
       "  \"meta\": {\n",
       "    \"great_expectations_version\": \"0.15.25\",\n",
       "    \"expectation_suite_name\": \"default\",\n",
       "    \"run_id\": {\n",
       "      \"run_name\": null,\n",
       "      \"run_time\": \"2022-09-27T14:25:59.765126+00:00\"\n",
       "    },\n",
       "    \"batch_kwargs\": {\n",
       "      \"ge_batch_id\": \"4ecc6725-3e70-11ed-9f32-a87eeac3c444\"\n",
       "    },\n",
       "    \"batch_markers\": {},\n",
       "    \"batch_parameters\": {},\n",
       "    \"validation_time\": \"20220927T142559.764126Z\",\n",
       "    \"expectation_suite_meta\": {\n",
       "      \"great_expectations_version\": \"0.15.25\"\n",
       "    }\n",
       "  },\n",
       "  \"evaluation_parameters\": {},\n",
       "  \"statistics\": {\n",
       "    \"evaluated_expectations\": 6,\n",
       "    \"successful_expectations\": 5,\n",
       "    \"unsuccessful_expectations\": 1,\n",
       "    \"success_percent\": 83.33333333333334\n",
       "  }\n",
       "}"
      ]
     },
     "execution_count": 56,
     "metadata": {},
     "output_type": "execute_result"
    }
   ],
   "source": [
    "kag_ge.to_csv('kag.csv')\n",
    "import json\n",
    "\n",
    "ge.validate(ge.read_csv('kag.csv'), \n",
    "    expectation_suite=json.load(\n",
    "        open('kaggle_expectations.json')))"
   ]
  }
 ],
 "metadata": {
  "jupytext": {
   "cell_metadata_filter": "comment_questions,-all",
   "main_language": "python",
   "notebook_metadata_filter": "-all"
  },
  "kernelspec": {
   "display_name": "Python 3.10.6 64-bit (microsoft store)",
   "language": "python",
   "name": "python3"
  },
  "language_info": {
   "codemirror_mode": {
    "name": "ipython",
    "version": 3
   },
   "file_extension": ".py",
   "mimetype": "text/x-python",
   "name": "python",
   "nbconvert_exporter": "python",
   "pygments_lexer": "ipython3",
   "version": "3.10.6"
  },
  "vscode": {
   "interpreter": {
    "hash": "350cf4f6eb5618ccce9ca3329803b4ab17690d853eb8834f54bc7fd60823462f"
   }
  }
 },
 "nbformat": 4,
 "nbformat_minor": 4
}
