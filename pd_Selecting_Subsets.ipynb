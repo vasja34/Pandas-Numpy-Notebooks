{
 "cells": [
  {
   "cell_type": "markdown",
   "metadata": {},
   "source": [
    "# Selecting Subsets of Data "
   ]
  },
  {
   "cell_type": "code",
   "execution_count": 1,
   "metadata": {
    "lines_to_next_cell": 2
   },
   "outputs": [],
   "source": [
    "import pandas as pd\n",
    "import numpy as np\n"
   ]
  },
  {
   "cell_type": "markdown",
   "metadata": {},
   "source": [
    "## Introduction"
   ]
  },
  {
   "cell_type": "markdown",
   "metadata": {},
   "source": [
    "## Selecting Series data"
   ]
  },
  {
   "cell_type": "markdown",
   "metadata": {},
   "source": [
    "### How to do it..."
   ]
  },
  {
   "cell_type": "code",
   "execution_count": 2,
   "metadata": {
    "lines_to_next_cell": 2
   },
   "outputs": [
    {
     "data": {
      "text/plain": [
       "INSTNM\n",
       "Alabama A & M University                                            Normal\n",
       "University of Alabama at Birmingham                             Birmingham\n",
       "Amridge University                                              Montgomery\n",
       "University of Alabama in Huntsville                             Huntsville\n",
       "Alabama State University                                        Montgomery\n",
       "                                                                ...       \n",
       "SAE Institute of Technology  San Francisco                      Emeryville\n",
       "Rasmussen College - Overland Park                            Overland Park\n",
       "National Personal Training Institute of Cleveland         Highland Heights\n",
       "Bay Area Medical Academy - San Jose Satellite Location            San Jose\n",
       "Excel Learning Center-San Antonio South                        San Antonio\n",
       "Name: CITY, Length: 7535, dtype: object"
      ]
     },
     "execution_count": 2,
     "metadata": {},
     "output_type": "execute_result"
    }
   ],
   "source": [
    "college = pd.read_csv('datasets/college.csv', index_col='INSTNM')\n",
    "city = college['CITY']\n",
    "city"
   ]
  },
  {
   "cell_type": "code",
   "execution_count": 3,
   "metadata": {
    "lines_to_next_cell": 2
   },
   "outputs": [
    {
     "data": {
      "text/plain": [
       "'Normal'"
      ]
     },
     "execution_count": 3,
     "metadata": {},
     "output_type": "execute_result"
    }
   ],
   "source": [
    "city['Alabama A & M University']"
   ]
  },
  {
   "cell_type": "code",
   "execution_count": 4,
   "metadata": {
    "lines_to_next_cell": 2
   },
   "outputs": [
    {
     "data": {
      "text/plain": [
       "'Normal'"
      ]
     },
     "execution_count": 4,
     "metadata": {},
     "output_type": "execute_result"
    }
   ],
   "source": [
    "city.loc['Alabama A & M University']"
   ]
  },
  {
   "cell_type": "code",
   "execution_count": 5,
   "metadata": {
    "lines_to_next_cell": 2
   },
   "outputs": [
    {
     "data": {
      "text/plain": [
       "'Normal'"
      ]
     },
     "execution_count": 5,
     "metadata": {},
     "output_type": "execute_result"
    }
   ],
   "source": [
    "city.iloc[0]"
   ]
  },
  {
   "cell_type": "code",
   "execution_count": 6,
   "metadata": {
    "lines_to_next_cell": 2
   },
   "outputs": [
    {
     "data": {
      "text/plain": [
       "INSTNM\n",
       "Alabama A & M University        Normal\n",
       "Alabama State University    Montgomery\n",
       "Name: CITY, dtype: object"
      ]
     },
     "execution_count": 6,
     "metadata": {},
     "output_type": "execute_result"
    }
   ],
   "source": [
    "city[['Alabama A & M University', 'Alabama State University']]"
   ]
  },
  {
   "cell_type": "code",
   "execution_count": 7,
   "metadata": {
    "lines_to_next_cell": 2
   },
   "outputs": [
    {
     "data": {
      "text/plain": [
       "INSTNM\n",
       "Alabama A & M University        Normal\n",
       "Alabama State University    Montgomery\n",
       "Name: CITY, dtype: object"
      ]
     },
     "execution_count": 7,
     "metadata": {},
     "output_type": "execute_result"
    }
   ],
   "source": [
    "city.loc[['Alabama A & M University', 'Alabama State University']]"
   ]
  },
  {
   "cell_type": "code",
   "execution_count": 8,
   "metadata": {
    "lines_to_next_cell": 2
   },
   "outputs": [
    {
     "data": {
      "text/plain": [
       "INSTNM\n",
       "Alabama A & M University        Normal\n",
       "Alabama State University    Montgomery\n",
       "Name: CITY, dtype: object"
      ]
     },
     "execution_count": 8,
     "metadata": {},
     "output_type": "execute_result"
    }
   ],
   "source": [
    "city.iloc[[0, 4]]"
   ]
  },
  {
   "cell_type": "code",
   "execution_count": 9,
   "metadata": {
    "lines_to_next_cell": 2
   },
   "outputs": [
    {
     "data": {
      "text/plain": [
       "INSTNM\n",
       "Alabama A & M University                   Normal\n",
       "University of Alabama at Birmingham    Birmingham\n",
       "Amridge University                     Montgomery\n",
       "University of Alabama in Huntsville    Huntsville\n",
       "Alabama State University               Montgomery\n",
       "Name: CITY, dtype: object"
      ]
     },
     "execution_count": 9,
     "metadata": {},
     "output_type": "execute_result"
    }
   ],
   "source": [
    "city['Alabama A & M University': 'Alabama State University']"
   ]
  },
  {
   "cell_type": "code",
   "execution_count": 10,
   "metadata": {
    "lines_to_next_cell": 2
   },
   "outputs": [
    {
     "data": {
      "text/plain": [
       "INSTNM\n",
       "Alabama A & M University                   Normal\n",
       "University of Alabama at Birmingham    Birmingham\n",
       "Amridge University                     Montgomery\n",
       "University of Alabama in Huntsville    Huntsville\n",
       "Alabama State University               Montgomery\n",
       "Name: CITY, dtype: object"
      ]
     },
     "execution_count": 10,
     "metadata": {},
     "output_type": "execute_result"
    }
   ],
   "source": [
    "city[0:5]"
   ]
  },
  {
   "cell_type": "code",
   "execution_count": 11,
   "metadata": {
    "lines_to_next_cell": 2
   },
   "outputs": [
    {
     "data": {
      "text/plain": [
       "INSTNM\n",
       "Alabama A & M University                   Normal\n",
       "University of Alabama at Birmingham    Birmingham\n",
       "Amridge University                     Montgomery\n",
       "University of Alabama in Huntsville    Huntsville\n",
       "Alabama State University               Montgomery\n",
       "Name: CITY, dtype: object"
      ]
     },
     "execution_count": 11,
     "metadata": {},
     "output_type": "execute_result"
    }
   ],
   "source": [
    "city.loc['Alabama A & M University': 'Alabama State University']"
   ]
  },
  {
   "cell_type": "code",
   "execution_count": 12,
   "metadata": {
    "lines_to_next_cell": 2
   },
   "outputs": [
    {
     "data": {
      "text/plain": [
       "INSTNM\n",
       "Alabama A & M University                   Normal\n",
       "University of Alabama at Birmingham    Birmingham\n",
       "Amridge University                     Montgomery\n",
       "University of Alabama in Huntsville    Huntsville\n",
       "Alabama State University               Montgomery\n",
       "Name: CITY, dtype: object"
      ]
     },
     "execution_count": 12,
     "metadata": {},
     "output_type": "execute_result"
    }
   ],
   "source": [
    "city.iloc[0:5]"
   ]
  },
  {
   "cell_type": "code",
   "execution_count": 13,
   "metadata": {
    "lines_to_next_cell": 2
   },
   "outputs": [
    {
     "data": {
      "text/plain": [
       "INSTNM\n",
       "University of Alabama at Birmingham                 Birmingham\n",
       "Amridge University                                  Montgomery\n",
       "Alabama State University                            Montgomery\n",
       "Auburn University at Montgomery                     Montgomery\n",
       "Birmingham Southern College                         Birmingham\n",
       "South University-Montgomery                         Montgomery\n",
       "Faulkner University                                 Montgomery\n",
       "Herzing University-Birmingham                       Birmingham\n",
       "Huntingdon College                                  Montgomery\n",
       "Jefferson State Community College                   Birmingham\n",
       "Lawson State Community College-Birmingham Campus    Birmingham\n",
       "Samford University                                  Birmingham\n",
       "Southeastern Bible College                          Birmingham\n",
       "H Councill Trenholm State Community College         Montgomery\n",
       "West Virginia University Institute of Technology    Montgomery\n",
       "Virginia College-Birmingham                         Birmingham\n",
       "Southeastern School of Cosmetology                  Birmingham\n",
       "Strayer University-Alabama                          Birmingham\n",
       "University of Phoenix-Alabama                       Birmingham\n",
       "Virginia College-Montgomery                         Montgomery\n",
       "Fortis College-Montgomery                           Montgomery\n",
       "Fortis Institute-Birmingham                         Birmingham\n",
       "Hair Academy                                        Montgomery\n",
       "Brown Mackie College-Birmingham                     Birmingham\n",
       "Nunation School of Cosmetology                      Birmingham\n",
       "Troy University-Montgomery Campus                   Montgomery\n",
       "Name: CITY, dtype: object"
      ]
     },
     "execution_count": 13,
     "metadata": {},
     "output_type": "execute_result"
    }
   ],
   "source": [
    "alabama_mask = city.isin(['Birmingham', 'Montgomery'])\n",
    "city[alabama_mask]"
   ]
  },
  {
   "cell_type": "markdown",
   "metadata": {},
   "source": [
    "### How it works..."
   ]
  },
  {
   "cell_type": "code",
   "execution_count": 14,
   "metadata": {
    "lines_to_next_cell": 2
   },
   "outputs": [
    {
     "data": {
      "text/plain": [
       "5    10\n",
       "2    20\n",
       "3    35\n",
       "1    28\n",
       "dtype: int64"
      ]
     },
     "execution_count": 14,
     "metadata": {},
     "output_type": "execute_result"
    }
   ],
   "source": [
    "s = pd.Series([10, 20, 35, 28], index=[5,2,3,1])\n",
    "s"
   ]
  },
  {
   "cell_type": "code",
   "execution_count": 15,
   "metadata": {
    "lines_to_next_cell": 2
   },
   "outputs": [
    {
     "data": {
      "text/plain": [
       "5    10\n",
       "2    20\n",
       "3    35\n",
       "1    28\n",
       "dtype: int64"
      ]
     },
     "execution_count": 15,
     "metadata": {},
     "output_type": "execute_result"
    }
   ],
   "source": [
    "s[0:4]"
   ]
  },
  {
   "cell_type": "code",
   "execution_count": 16,
   "metadata": {
    "lines_to_next_cell": 2
   },
   "outputs": [
    {
     "data": {
      "text/plain": [
       "10"
      ]
     },
     "execution_count": 16,
     "metadata": {},
     "output_type": "execute_result"
    }
   ],
   "source": [
    "s[5]"
   ]
  },
  {
   "cell_type": "code",
   "execution_count": 17,
   "metadata": {
    "lines_to_next_cell": 2
   },
   "outputs": [
    {
     "data": {
      "text/plain": [
       "28"
      ]
     },
     "execution_count": 17,
     "metadata": {},
     "output_type": "execute_result"
    }
   ],
   "source": [
    "s[1]"
   ]
  },
  {
   "cell_type": "markdown",
   "metadata": {},
   "source": [
    "### There's more..."
   ]
  },
  {
   "cell_type": "code",
   "execution_count": 18,
   "metadata": {
    "lines_to_next_cell": 2
   },
   "outputs": [
    {
     "data": {
      "text/plain": [
       "'Normal'"
      ]
     },
     "execution_count": 18,
     "metadata": {},
     "output_type": "execute_result"
    }
   ],
   "source": [
    "college.loc['Alabama A & M University', 'CITY']"
   ]
  },
  {
   "cell_type": "code",
   "execution_count": 19,
   "metadata": {
    "lines_to_next_cell": 2
   },
   "outputs": [
    {
     "data": {
      "text/plain": [
       "'Normal'"
      ]
     },
     "execution_count": 19,
     "metadata": {},
     "output_type": "execute_result"
    }
   ],
   "source": [
    "college.iloc[0, 0]"
   ]
  },
  {
   "cell_type": "code",
   "execution_count": 20,
   "metadata": {
    "lines_to_next_cell": 2
   },
   "outputs": [
    {
     "data": {
      "text/plain": [
       "INSTNM\n",
       "Alabama A & M University        Normal\n",
       "Alabama State University    Montgomery\n",
       "Name: CITY, dtype: object"
      ]
     },
     "execution_count": 20,
     "metadata": {},
     "output_type": "execute_result"
    }
   ],
   "source": [
    "college.loc[['Alabama A & M University', \n",
    "    'Alabama State University'], 'CITY']"
   ]
  },
  {
   "cell_type": "code",
   "execution_count": 21,
   "metadata": {
    "lines_to_next_cell": 2
   },
   "outputs": [
    {
     "data": {
      "text/plain": [
       "INSTNM\n",
       "Alabama A & M University        Normal\n",
       "Alabama State University    Montgomery\n",
       "Name: CITY, dtype: object"
      ]
     },
     "execution_count": 21,
     "metadata": {},
     "output_type": "execute_result"
    }
   ],
   "source": [
    "college.iloc[[0, 4], 0]"
   ]
  },
  {
   "cell_type": "code",
   "execution_count": 22,
   "metadata": {
    "lines_to_next_cell": 2
   },
   "outputs": [
    {
     "data": {
      "text/plain": [
       "INSTNM\n",
       "Alabama A & M University                   Normal\n",
       "University of Alabama at Birmingham    Birmingham\n",
       "Amridge University                     Montgomery\n",
       "University of Alabama in Huntsville    Huntsville\n",
       "Alabama State University               Montgomery\n",
       "Name: CITY, dtype: object"
      ]
     },
     "execution_count": 22,
     "metadata": {},
     "output_type": "execute_result"
    }
   ],
   "source": [
    "college.loc['Alabama A & M University':\n",
    "    'Alabama State University', 'CITY']"
   ]
  },
  {
   "cell_type": "code",
   "execution_count": 23,
   "metadata": {
    "lines_to_next_cell": 2
   },
   "outputs": [
    {
     "data": {
      "text/plain": [
       "INSTNM\n",
       "Alabama A & M University                   Normal\n",
       "University of Alabama at Birmingham    Birmingham\n",
       "Amridge University                     Montgomery\n",
       "University of Alabama in Huntsville    Huntsville\n",
       "Alabama State University               Montgomery\n",
       "Name: CITY, dtype: object"
      ]
     },
     "execution_count": 23,
     "metadata": {},
     "output_type": "execute_result"
    }
   ],
   "source": [
    "college.iloc[0:5, 0]"
   ]
  },
  {
   "cell_type": "code",
   "execution_count": 24,
   "metadata": {
    "lines_to_next_cell": 2
   },
   "outputs": [
    {
     "data": {
      "text/plain": [
       "Series([], Name: CITY, dtype: object)"
      ]
     },
     "execution_count": 24,
     "metadata": {},
     "output_type": "execute_result"
    }
   ],
   "source": [
    "city.loc['Reid State Technical College':\n",
    "         'Alabama State University']"
   ]
  },
  {
   "cell_type": "markdown",
   "metadata": {},
   "source": [
    "## Selecting DataFrame rows"
   ]
  },
  {
   "cell_type": "code",
   "execution_count": 25,
   "metadata": {
    "lines_to_next_cell": 2
   },
   "outputs": [
    {
     "data": {
      "text/html": [
       "<div>\n",
       "<style scoped>\n",
       "    .dataframe tbody tr th:only-of-type {\n",
       "        vertical-align: middle;\n",
       "    }\n",
       "\n",
       "    .dataframe tbody tr th {\n",
       "        vertical-align: top;\n",
       "    }\n",
       "\n",
       "    .dataframe thead th {\n",
       "        text-align: right;\n",
       "    }\n",
       "</style>\n",
       "<table border=\"1\" class=\"dataframe\">\n",
       "  <thead>\n",
       "    <tr style=\"text-align: right;\">\n",
       "      <th></th>\n",
       "      <th>CITY</th>\n",
       "      <th>STABBR</th>\n",
       "      <th>HBCU</th>\n",
       "      <th>MENONLY</th>\n",
       "      <th>WOMENONLY</th>\n",
       "      <th>RELAFFIL</th>\n",
       "      <th>SATVRMID</th>\n",
       "      <th>SATMTMID</th>\n",
       "      <th>DISTANCEONLY</th>\n",
       "      <th>UGDS</th>\n",
       "      <th>...</th>\n",
       "      <th>UGDS_2MOR</th>\n",
       "      <th>UGDS_NRA</th>\n",
       "      <th>UGDS_UNKN</th>\n",
       "      <th>PPTUG_EF</th>\n",
       "      <th>CURROPER</th>\n",
       "      <th>PCTPELL</th>\n",
       "      <th>PCTFLOAN</th>\n",
       "      <th>UG25ABV</th>\n",
       "      <th>MD_EARN_WNE_P10</th>\n",
       "      <th>GRAD_DEBT_MDN_SUPP</th>\n",
       "    </tr>\n",
       "    <tr>\n",
       "      <th>INSTNM</th>\n",
       "      <th></th>\n",
       "      <th></th>\n",
       "      <th></th>\n",
       "      <th></th>\n",
       "      <th></th>\n",
       "      <th></th>\n",
       "      <th></th>\n",
       "      <th></th>\n",
       "      <th></th>\n",
       "      <th></th>\n",
       "      <th></th>\n",
       "      <th></th>\n",
       "      <th></th>\n",
       "      <th></th>\n",
       "      <th></th>\n",
       "      <th></th>\n",
       "      <th></th>\n",
       "      <th></th>\n",
       "      <th></th>\n",
       "      <th></th>\n",
       "      <th></th>\n",
       "    </tr>\n",
       "  </thead>\n",
       "  <tbody>\n",
       "    <tr>\n",
       "      <th>Career Point College</th>\n",
       "      <td>San Antonio</td>\n",
       "      <td>TX</td>\n",
       "      <td>0.0</td>\n",
       "      <td>0.0</td>\n",
       "      <td>0.0</td>\n",
       "      <td>0</td>\n",
       "      <td>NaN</td>\n",
       "      <td>NaN</td>\n",
       "      <td>0.0</td>\n",
       "      <td>529.0</td>\n",
       "      <td>...</td>\n",
       "      <td>0.0000</td>\n",
       "      <td>0.0000</td>\n",
       "      <td>0.0000</td>\n",
       "      <td>0.0000</td>\n",
       "      <td>1</td>\n",
       "      <td>0.9172</td>\n",
       "      <td>0.9172</td>\n",
       "      <td>0.6970</td>\n",
       "      <td>20700</td>\n",
       "      <td>14977</td>\n",
       "    </tr>\n",
       "    <tr>\n",
       "      <th>Ner Israel Rabbinical College</th>\n",
       "      <td>Baltimore</td>\n",
       "      <td>MD</td>\n",
       "      <td>0.0</td>\n",
       "      <td>1.0</td>\n",
       "      <td>0.0</td>\n",
       "      <td>1</td>\n",
       "      <td>NaN</td>\n",
       "      <td>NaN</td>\n",
       "      <td>0.0</td>\n",
       "      <td>305.0</td>\n",
       "      <td>...</td>\n",
       "      <td>0.0000</td>\n",
       "      <td>0.0721</td>\n",
       "      <td>0.0000</td>\n",
       "      <td>0.0000</td>\n",
       "      <td>1</td>\n",
       "      <td>0.2382</td>\n",
       "      <td>0.0000</td>\n",
       "      <td>0.0882</td>\n",
       "      <td>PrivacySuppressed</td>\n",
       "      <td>PrivacySuppressed</td>\n",
       "    </tr>\n",
       "    <tr>\n",
       "      <th>Reflections Academy of Beauty</th>\n",
       "      <td>Decatur</td>\n",
       "      <td>IL</td>\n",
       "      <td>0.0</td>\n",
       "      <td>0.0</td>\n",
       "      <td>0.0</td>\n",
       "      <td>0</td>\n",
       "      <td>NaN</td>\n",
       "      <td>NaN</td>\n",
       "      <td>0.0</td>\n",
       "      <td>5.0</td>\n",
       "      <td>...</td>\n",
       "      <td>0.0000</td>\n",
       "      <td>0.0000</td>\n",
       "      <td>0.0000</td>\n",
       "      <td>0.0000</td>\n",
       "      <td>1</td>\n",
       "      <td>0.8621</td>\n",
       "      <td>0.5862</td>\n",
       "      <td>0.3333</td>\n",
       "      <td>NaN</td>\n",
       "      <td>PrivacySuppressed</td>\n",
       "    </tr>\n",
       "    <tr>\n",
       "      <th>Capital Area Technical College</th>\n",
       "      <td>Baton Rouge</td>\n",
       "      <td>LA</td>\n",
       "      <td>0.0</td>\n",
       "      <td>0.0</td>\n",
       "      <td>0.0</td>\n",
       "      <td>0</td>\n",
       "      <td>NaN</td>\n",
       "      <td>NaN</td>\n",
       "      <td>0.0</td>\n",
       "      <td>1687.0</td>\n",
       "      <td>...</td>\n",
       "      <td>0.0053</td>\n",
       "      <td>0.0006</td>\n",
       "      <td>0.1926</td>\n",
       "      <td>0.5673</td>\n",
       "      <td>1</td>\n",
       "      <td>0.2502</td>\n",
       "      <td>0.0000</td>\n",
       "      <td>0.4815</td>\n",
       "      <td>26400</td>\n",
       "      <td>PrivacySuppressed</td>\n",
       "    </tr>\n",
       "    <tr>\n",
       "      <th>West Virginia University Institute of Technology</th>\n",
       "      <td>Montgomery</td>\n",
       "      <td>WV</td>\n",
       "      <td>0.0</td>\n",
       "      <td>0.0</td>\n",
       "      <td>0.0</td>\n",
       "      <td>0</td>\n",
       "      <td>465.0</td>\n",
       "      <td>500.0</td>\n",
       "      <td>0.0</td>\n",
       "      <td>1115.0</td>\n",
       "      <td>...</td>\n",
       "      <td>0.0287</td>\n",
       "      <td>0.0762</td>\n",
       "      <td>0.0170</td>\n",
       "      <td>0.1229</td>\n",
       "      <td>1</td>\n",
       "      <td>0.4092</td>\n",
       "      <td>0.5237</td>\n",
       "      <td>0.2381</td>\n",
       "      <td>43400</td>\n",
       "      <td>23969</td>\n",
       "    </tr>\n",
       "  </tbody>\n",
       "</table>\n",
       "<p>5 rows × 26 columns</p>\n",
       "</div>"
      ],
      "text/plain": [
       "                                                         CITY STABBR  HBCU  \\\n",
       "INSTNM                                                                       \n",
       "Career Point College                              San Antonio     TX   0.0   \n",
       "Ner Israel Rabbinical College                       Baltimore     MD   0.0   \n",
       "Reflections Academy of Beauty                         Decatur     IL   0.0   \n",
       "Capital Area Technical College                    Baton Rouge     LA   0.0   \n",
       "West Virginia University Institute of Technology   Montgomery     WV   0.0   \n",
       "\n",
       "                                                  MENONLY  WOMENONLY  \\\n",
       "INSTNM                                                                 \n",
       "Career Point College                                  0.0        0.0   \n",
       "Ner Israel Rabbinical College                         1.0        0.0   \n",
       "Reflections Academy of Beauty                         0.0        0.0   \n",
       "Capital Area Technical College                        0.0        0.0   \n",
       "West Virginia University Institute of Technology      0.0        0.0   \n",
       "\n",
       "                                                  RELAFFIL  SATVRMID  \\\n",
       "INSTNM                                                                 \n",
       "Career Point College                                     0       NaN   \n",
       "Ner Israel Rabbinical College                            1       NaN   \n",
       "Reflections Academy of Beauty                            0       NaN   \n",
       "Capital Area Technical College                           0       NaN   \n",
       "West Virginia University Institute of Technology         0     465.0   \n",
       "\n",
       "                                                  SATMTMID  DISTANCEONLY  \\\n",
       "INSTNM                                                                     \n",
       "Career Point College                                   NaN           0.0   \n",
       "Ner Israel Rabbinical College                          NaN           0.0   \n",
       "Reflections Academy of Beauty                          NaN           0.0   \n",
       "Capital Area Technical College                         NaN           0.0   \n",
       "West Virginia University Institute of Technology     500.0           0.0   \n",
       "\n",
       "                                                    UGDS  ...  UGDS_2MOR  \\\n",
       "INSTNM                                                    ...              \n",
       "Career Point College                               529.0  ...     0.0000   \n",
       "Ner Israel Rabbinical College                      305.0  ...     0.0000   \n",
       "Reflections Academy of Beauty                        5.0  ...     0.0000   \n",
       "Capital Area Technical College                    1687.0  ...     0.0053   \n",
       "West Virginia University Institute of Technology  1115.0  ...     0.0287   \n",
       "\n",
       "                                                  UGDS_NRA  UGDS_UNKN  \\\n",
       "INSTNM                                                                  \n",
       "Career Point College                                0.0000     0.0000   \n",
       "Ner Israel Rabbinical College                       0.0721     0.0000   \n",
       "Reflections Academy of Beauty                       0.0000     0.0000   \n",
       "Capital Area Technical College                      0.0006     0.1926   \n",
       "West Virginia University Institute of Technology    0.0762     0.0170   \n",
       "\n",
       "                                                  PPTUG_EF  CURROPER  PCTPELL  \\\n",
       "INSTNM                                                                          \n",
       "Career Point College                                0.0000         1   0.9172   \n",
       "Ner Israel Rabbinical College                       0.0000         1   0.2382   \n",
       "Reflections Academy of Beauty                       0.0000         1   0.8621   \n",
       "Capital Area Technical College                      0.5673         1   0.2502   \n",
       "West Virginia University Institute of Technology    0.1229         1   0.4092   \n",
       "\n",
       "                                                  PCTFLOAN  UG25ABV  \\\n",
       "INSTNM                                                                \n",
       "Career Point College                                0.9172   0.6970   \n",
       "Ner Israel Rabbinical College                       0.0000   0.0882   \n",
       "Reflections Academy of Beauty                       0.5862   0.3333   \n",
       "Capital Area Technical College                      0.0000   0.4815   \n",
       "West Virginia University Institute of Technology    0.5237   0.2381   \n",
       "\n",
       "                                                    MD_EARN_WNE_P10  \\\n",
       "INSTNM                                                                \n",
       "Career Point College                                          20700   \n",
       "Ner Israel Rabbinical College                     PrivacySuppressed   \n",
       "Reflections Academy of Beauty                                   NaN   \n",
       "Capital Area Technical College                                26400   \n",
       "West Virginia University Institute of Technology              43400   \n",
       "\n",
       "                                                  GRAD_DEBT_MDN_SUPP  \n",
       "INSTNM                                                                \n",
       "Career Point College                                           14977  \n",
       "Ner Israel Rabbinical College                      PrivacySuppressed  \n",
       "Reflections Academy of Beauty                      PrivacySuppressed  \n",
       "Capital Area Technical College                     PrivacySuppressed  \n",
       "West Virginia University Institute of Technology               23969  \n",
       "\n",
       "[5 rows x 26 columns]"
      ]
     },
     "execution_count": 25,
     "metadata": {},
     "output_type": "execute_result"
    }
   ],
   "source": [
    "college = pd.read_csv('datasets/college.csv', index_col='INSTNM')\n",
    "college.sample(5, random_state=42)"
   ]
  },
  {
   "cell_type": "code",
   "execution_count": 26,
   "metadata": {
    "lines_to_next_cell": 2
   },
   "outputs": [
    {
     "data": {
      "text/plain": [
       "CITY                  Anchorage\n",
       "STABBR                       AK\n",
       "HBCU                        0.0\n",
       "MENONLY                     0.0\n",
       "WOMENONLY                   0.0\n",
       "RELAFFIL                      0\n",
       "SATVRMID                    NaN\n",
       "SATMTMID                    NaN\n",
       "DISTANCEONLY                0.0\n",
       "UGDS                    12865.0\n",
       "UGDS_WHITE               0.5747\n",
       "UGDS_BLACK               0.0358\n",
       "UGDS_HISP                0.0761\n",
       "UGDS_ASIAN               0.0778\n",
       "UGDS_AIAN                0.0653\n",
       "UGDS_NHPI                0.0086\n",
       "UGDS_2MOR                 0.098\n",
       "UGDS_NRA                 0.0181\n",
       "UGDS_UNKN                0.0457\n",
       "PPTUG_EF                 0.4539\n",
       "CURROPER                      1\n",
       "PCTPELL                  0.2385\n",
       "PCTFLOAN                 0.2647\n",
       "UG25ABV                  0.4386\n",
       "MD_EARN_WNE_P10           42500\n",
       "GRAD_DEBT_MDN_SUPP      19449.5\n",
       "Name: University of Alaska Anchorage, dtype: object"
      ]
     },
     "execution_count": 26,
     "metadata": {},
     "output_type": "execute_result"
    }
   ],
   "source": [
    "college.iloc[60]"
   ]
  },
  {
   "cell_type": "code",
   "execution_count": 27,
   "metadata": {
    "lines_to_next_cell": 2
   },
   "outputs": [
    {
     "data": {
      "text/plain": [
       "CITY                  Anchorage\n",
       "STABBR                       AK\n",
       "HBCU                        0.0\n",
       "MENONLY                     0.0\n",
       "WOMENONLY                   0.0\n",
       "RELAFFIL                      0\n",
       "SATVRMID                    NaN\n",
       "SATMTMID                    NaN\n",
       "DISTANCEONLY                0.0\n",
       "UGDS                    12865.0\n",
       "UGDS_WHITE               0.5747\n",
       "UGDS_BLACK               0.0358\n",
       "UGDS_HISP                0.0761\n",
       "UGDS_ASIAN               0.0778\n",
       "UGDS_AIAN                0.0653\n",
       "UGDS_NHPI                0.0086\n",
       "UGDS_2MOR                 0.098\n",
       "UGDS_NRA                 0.0181\n",
       "UGDS_UNKN                0.0457\n",
       "PPTUG_EF                 0.4539\n",
       "CURROPER                      1\n",
       "PCTPELL                  0.2385\n",
       "PCTFLOAN                 0.2647\n",
       "UG25ABV                  0.4386\n",
       "MD_EARN_WNE_P10           42500\n",
       "GRAD_DEBT_MDN_SUPP      19449.5\n",
       "Name: University of Alaska Anchorage, dtype: object"
      ]
     },
     "execution_count": 27,
     "metadata": {},
     "output_type": "execute_result"
    }
   ],
   "source": [
    "college.loc['University of Alaska Anchorage']"
   ]
  },
  {
   "cell_type": "code",
   "execution_count": 28,
   "metadata": {
    "lines_to_next_cell": 2
   },
   "outputs": [
    {
     "data": {
      "text/html": [
       "<div>\n",
       "<style scoped>\n",
       "    .dataframe tbody tr th:only-of-type {\n",
       "        vertical-align: middle;\n",
       "    }\n",
       "\n",
       "    .dataframe tbody tr th {\n",
       "        vertical-align: top;\n",
       "    }\n",
       "\n",
       "    .dataframe thead th {\n",
       "        text-align: right;\n",
       "    }\n",
       "</style>\n",
       "<table border=\"1\" class=\"dataframe\">\n",
       "  <thead>\n",
       "    <tr style=\"text-align: right;\">\n",
       "      <th></th>\n",
       "      <th>CITY</th>\n",
       "      <th>STABBR</th>\n",
       "      <th>HBCU</th>\n",
       "      <th>MENONLY</th>\n",
       "      <th>WOMENONLY</th>\n",
       "      <th>RELAFFIL</th>\n",
       "      <th>SATVRMID</th>\n",
       "      <th>SATMTMID</th>\n",
       "      <th>DISTANCEONLY</th>\n",
       "      <th>UGDS</th>\n",
       "      <th>...</th>\n",
       "      <th>UGDS_2MOR</th>\n",
       "      <th>UGDS_NRA</th>\n",
       "      <th>UGDS_UNKN</th>\n",
       "      <th>PPTUG_EF</th>\n",
       "      <th>CURROPER</th>\n",
       "      <th>PCTPELL</th>\n",
       "      <th>PCTFLOAN</th>\n",
       "      <th>UG25ABV</th>\n",
       "      <th>MD_EARN_WNE_P10</th>\n",
       "      <th>GRAD_DEBT_MDN_SUPP</th>\n",
       "    </tr>\n",
       "    <tr>\n",
       "      <th>INSTNM</th>\n",
       "      <th></th>\n",
       "      <th></th>\n",
       "      <th></th>\n",
       "      <th></th>\n",
       "      <th></th>\n",
       "      <th></th>\n",
       "      <th></th>\n",
       "      <th></th>\n",
       "      <th></th>\n",
       "      <th></th>\n",
       "      <th></th>\n",
       "      <th></th>\n",
       "      <th></th>\n",
       "      <th></th>\n",
       "      <th></th>\n",
       "      <th></th>\n",
       "      <th></th>\n",
       "      <th></th>\n",
       "      <th></th>\n",
       "      <th></th>\n",
       "      <th></th>\n",
       "    </tr>\n",
       "  </thead>\n",
       "  <tbody>\n",
       "    <tr>\n",
       "      <th>University of Alaska Anchorage</th>\n",
       "      <td>Anchorage</td>\n",
       "      <td>AK</td>\n",
       "      <td>0.0</td>\n",
       "      <td>0.0</td>\n",
       "      <td>0.0</td>\n",
       "      <td>0</td>\n",
       "      <td>NaN</td>\n",
       "      <td>NaN</td>\n",
       "      <td>0.0</td>\n",
       "      <td>12865.0</td>\n",
       "      <td>...</td>\n",
       "      <td>0.0980</td>\n",
       "      <td>0.0181</td>\n",
       "      <td>0.0457</td>\n",
       "      <td>0.4539</td>\n",
       "      <td>1</td>\n",
       "      <td>0.2385</td>\n",
       "      <td>0.2647</td>\n",
       "      <td>0.4386</td>\n",
       "      <td>42500</td>\n",
       "      <td>19449.5</td>\n",
       "    </tr>\n",
       "    <tr>\n",
       "      <th>International Academy of Hair Design</th>\n",
       "      <td>Tempe</td>\n",
       "      <td>AZ</td>\n",
       "      <td>0.0</td>\n",
       "      <td>0.0</td>\n",
       "      <td>0.0</td>\n",
       "      <td>0</td>\n",
       "      <td>NaN</td>\n",
       "      <td>NaN</td>\n",
       "      <td>0.0</td>\n",
       "      <td>188.0</td>\n",
       "      <td>...</td>\n",
       "      <td>0.0160</td>\n",
       "      <td>0.0000</td>\n",
       "      <td>0.0638</td>\n",
       "      <td>0.0000</td>\n",
       "      <td>0</td>\n",
       "      <td>0.7185</td>\n",
       "      <td>0.7346</td>\n",
       "      <td>0.3905</td>\n",
       "      <td>22200</td>\n",
       "      <td>10556</td>\n",
       "    </tr>\n",
       "    <tr>\n",
       "      <th>University of Alabama in Huntsville</th>\n",
       "      <td>Huntsville</td>\n",
       "      <td>AL</td>\n",
       "      <td>0.0</td>\n",
       "      <td>0.0</td>\n",
       "      <td>0.0</td>\n",
       "      <td>0</td>\n",
       "      <td>595.0</td>\n",
       "      <td>590.0</td>\n",
       "      <td>0.0</td>\n",
       "      <td>5451.0</td>\n",
       "      <td>...</td>\n",
       "      <td>0.0172</td>\n",
       "      <td>0.0332</td>\n",
       "      <td>0.0350</td>\n",
       "      <td>0.2146</td>\n",
       "      <td>1</td>\n",
       "      <td>0.3072</td>\n",
       "      <td>0.4596</td>\n",
       "      <td>0.2640</td>\n",
       "      <td>45500</td>\n",
       "      <td>24097</td>\n",
       "    </tr>\n",
       "  </tbody>\n",
       "</table>\n",
       "<p>3 rows × 26 columns</p>\n",
       "</div>"
      ],
      "text/plain": [
       "                                            CITY STABBR  HBCU  MENONLY  \\\n",
       "INSTNM                                                                   \n",
       "University of Alaska Anchorage         Anchorage     AK   0.0      0.0   \n",
       "International Academy of Hair Design       Tempe     AZ   0.0      0.0   \n",
       "University of Alabama in Huntsville   Huntsville     AL   0.0      0.0   \n",
       "\n",
       "                                      WOMENONLY  RELAFFIL  SATVRMID  SATMTMID  \\\n",
       "INSTNM                                                                          \n",
       "University of Alaska Anchorage              0.0         0       NaN       NaN   \n",
       "International Academy of Hair Design        0.0         0       NaN       NaN   \n",
       "University of Alabama in Huntsville         0.0         0     595.0     590.0   \n",
       "\n",
       "                                      DISTANCEONLY     UGDS  ...  UGDS_2MOR  \\\n",
       "INSTNM                                                       ...              \n",
       "University of Alaska Anchorage                 0.0  12865.0  ...     0.0980   \n",
       "International Academy of Hair Design           0.0    188.0  ...     0.0160   \n",
       "University of Alabama in Huntsville            0.0   5451.0  ...     0.0172   \n",
       "\n",
       "                                      UGDS_NRA  UGDS_UNKN  PPTUG_EF  CURROPER  \\\n",
       "INSTNM                                                                          \n",
       "University of Alaska Anchorage          0.0181     0.0457    0.4539         1   \n",
       "International Academy of Hair Design    0.0000     0.0638    0.0000         0   \n",
       "University of Alabama in Huntsville     0.0332     0.0350    0.2146         1   \n",
       "\n",
       "                                      PCTPELL  PCTFLOAN  UG25ABV  \\\n",
       "INSTNM                                                             \n",
       "University of Alaska Anchorage         0.2385    0.2647   0.4386   \n",
       "International Academy of Hair Design   0.7185    0.7346   0.3905   \n",
       "University of Alabama in Huntsville    0.3072    0.4596   0.2640   \n",
       "\n",
       "                                      MD_EARN_WNE_P10  GRAD_DEBT_MDN_SUPP  \n",
       "INSTNM                                                                     \n",
       "University of Alaska Anchorage                  42500             19449.5  \n",
       "International Academy of Hair Design            22200               10556  \n",
       "University of Alabama in Huntsville             45500               24097  \n",
       "\n",
       "[3 rows x 26 columns]"
      ]
     },
     "execution_count": 28,
     "metadata": {},
     "output_type": "execute_result"
    }
   ],
   "source": [
    "college.iloc[[60, 99, 3]]"
   ]
  },
  {
   "cell_type": "code",
   "execution_count": 29,
   "metadata": {
    "lines_to_next_cell": 2
   },
   "outputs": [
    {
     "data": {
      "text/html": [
       "<div>\n",
       "<style scoped>\n",
       "    .dataframe tbody tr th:only-of-type {\n",
       "        vertical-align: middle;\n",
       "    }\n",
       "\n",
       "    .dataframe tbody tr th {\n",
       "        vertical-align: top;\n",
       "    }\n",
       "\n",
       "    .dataframe thead th {\n",
       "        text-align: right;\n",
       "    }\n",
       "</style>\n",
       "<table border=\"1\" class=\"dataframe\">\n",
       "  <thead>\n",
       "    <tr style=\"text-align: right;\">\n",
       "      <th></th>\n",
       "      <th>CITY</th>\n",
       "      <th>STABBR</th>\n",
       "      <th>HBCU</th>\n",
       "      <th>MENONLY</th>\n",
       "      <th>WOMENONLY</th>\n",
       "      <th>RELAFFIL</th>\n",
       "      <th>SATVRMID</th>\n",
       "      <th>SATMTMID</th>\n",
       "      <th>DISTANCEONLY</th>\n",
       "      <th>UGDS</th>\n",
       "      <th>...</th>\n",
       "      <th>UGDS_2MOR</th>\n",
       "      <th>UGDS_NRA</th>\n",
       "      <th>UGDS_UNKN</th>\n",
       "      <th>PPTUG_EF</th>\n",
       "      <th>CURROPER</th>\n",
       "      <th>PCTPELL</th>\n",
       "      <th>PCTFLOAN</th>\n",
       "      <th>UG25ABV</th>\n",
       "      <th>MD_EARN_WNE_P10</th>\n",
       "      <th>GRAD_DEBT_MDN_SUPP</th>\n",
       "    </tr>\n",
       "    <tr>\n",
       "      <th>INSTNM</th>\n",
       "      <th></th>\n",
       "      <th></th>\n",
       "      <th></th>\n",
       "      <th></th>\n",
       "      <th></th>\n",
       "      <th></th>\n",
       "      <th></th>\n",
       "      <th></th>\n",
       "      <th></th>\n",
       "      <th></th>\n",
       "      <th></th>\n",
       "      <th></th>\n",
       "      <th></th>\n",
       "      <th></th>\n",
       "      <th></th>\n",
       "      <th></th>\n",
       "      <th></th>\n",
       "      <th></th>\n",
       "      <th></th>\n",
       "      <th></th>\n",
       "      <th></th>\n",
       "    </tr>\n",
       "  </thead>\n",
       "  <tbody>\n",
       "    <tr>\n",
       "      <th>University of Alaska Anchorage</th>\n",
       "      <td>Anchorage</td>\n",
       "      <td>AK</td>\n",
       "      <td>0.0</td>\n",
       "      <td>0.0</td>\n",
       "      <td>0.0</td>\n",
       "      <td>0</td>\n",
       "      <td>NaN</td>\n",
       "      <td>NaN</td>\n",
       "      <td>0.0</td>\n",
       "      <td>12865.0</td>\n",
       "      <td>...</td>\n",
       "      <td>0.0980</td>\n",
       "      <td>0.0181</td>\n",
       "      <td>0.0457</td>\n",
       "      <td>0.4539</td>\n",
       "      <td>1</td>\n",
       "      <td>0.2385</td>\n",
       "      <td>0.2647</td>\n",
       "      <td>0.4386</td>\n",
       "      <td>42500</td>\n",
       "      <td>19449.5</td>\n",
       "    </tr>\n",
       "    <tr>\n",
       "      <th>International Academy of Hair Design</th>\n",
       "      <td>Tempe</td>\n",
       "      <td>AZ</td>\n",
       "      <td>0.0</td>\n",
       "      <td>0.0</td>\n",
       "      <td>0.0</td>\n",
       "      <td>0</td>\n",
       "      <td>NaN</td>\n",
       "      <td>NaN</td>\n",
       "      <td>0.0</td>\n",
       "      <td>188.0</td>\n",
       "      <td>...</td>\n",
       "      <td>0.0160</td>\n",
       "      <td>0.0000</td>\n",
       "      <td>0.0638</td>\n",
       "      <td>0.0000</td>\n",
       "      <td>0</td>\n",
       "      <td>0.7185</td>\n",
       "      <td>0.7346</td>\n",
       "      <td>0.3905</td>\n",
       "      <td>22200</td>\n",
       "      <td>10556</td>\n",
       "    </tr>\n",
       "    <tr>\n",
       "      <th>University of Alabama in Huntsville</th>\n",
       "      <td>Huntsville</td>\n",
       "      <td>AL</td>\n",
       "      <td>0.0</td>\n",
       "      <td>0.0</td>\n",
       "      <td>0.0</td>\n",
       "      <td>0</td>\n",
       "      <td>595.0</td>\n",
       "      <td>590.0</td>\n",
       "      <td>0.0</td>\n",
       "      <td>5451.0</td>\n",
       "      <td>...</td>\n",
       "      <td>0.0172</td>\n",
       "      <td>0.0332</td>\n",
       "      <td>0.0350</td>\n",
       "      <td>0.2146</td>\n",
       "      <td>1</td>\n",
       "      <td>0.3072</td>\n",
       "      <td>0.4596</td>\n",
       "      <td>0.2640</td>\n",
       "      <td>45500</td>\n",
       "      <td>24097</td>\n",
       "    </tr>\n",
       "  </tbody>\n",
       "</table>\n",
       "<p>3 rows × 26 columns</p>\n",
       "</div>"
      ],
      "text/plain": [
       "                                            CITY STABBR  HBCU  MENONLY  \\\n",
       "INSTNM                                                                   \n",
       "University of Alaska Anchorage         Anchorage     AK   0.0      0.0   \n",
       "International Academy of Hair Design       Tempe     AZ   0.0      0.0   \n",
       "University of Alabama in Huntsville   Huntsville     AL   0.0      0.0   \n",
       "\n",
       "                                      WOMENONLY  RELAFFIL  SATVRMID  SATMTMID  \\\n",
       "INSTNM                                                                          \n",
       "University of Alaska Anchorage              0.0         0       NaN       NaN   \n",
       "International Academy of Hair Design        0.0         0       NaN       NaN   \n",
       "University of Alabama in Huntsville         0.0         0     595.0     590.0   \n",
       "\n",
       "                                      DISTANCEONLY     UGDS  ...  UGDS_2MOR  \\\n",
       "INSTNM                                                       ...              \n",
       "University of Alaska Anchorage                 0.0  12865.0  ...     0.0980   \n",
       "International Academy of Hair Design           0.0    188.0  ...     0.0160   \n",
       "University of Alabama in Huntsville            0.0   5451.0  ...     0.0172   \n",
       "\n",
       "                                      UGDS_NRA  UGDS_UNKN  PPTUG_EF  CURROPER  \\\n",
       "INSTNM                                                                          \n",
       "University of Alaska Anchorage          0.0181     0.0457    0.4539         1   \n",
       "International Academy of Hair Design    0.0000     0.0638    0.0000         0   \n",
       "University of Alabama in Huntsville     0.0332     0.0350    0.2146         1   \n",
       "\n",
       "                                      PCTPELL  PCTFLOAN  UG25ABV  \\\n",
       "INSTNM                                                             \n",
       "University of Alaska Anchorage         0.2385    0.2647   0.4386   \n",
       "International Academy of Hair Design   0.7185    0.7346   0.3905   \n",
       "University of Alabama in Huntsville    0.3072    0.4596   0.2640   \n",
       "\n",
       "                                      MD_EARN_WNE_P10  GRAD_DEBT_MDN_SUPP  \n",
       "INSTNM                                                                     \n",
       "University of Alaska Anchorage                  42500             19449.5  \n",
       "International Academy of Hair Design            22200               10556  \n",
       "University of Alabama in Huntsville             45500               24097  \n",
       "\n",
       "[3 rows x 26 columns]"
      ]
     },
     "execution_count": 29,
     "metadata": {},
     "output_type": "execute_result"
    }
   ],
   "source": [
    "labels = ['University of Alaska Anchorage',\n",
    "          'International Academy of Hair Design',\n",
    "          'University of Alabama in Huntsville']\n",
    "college.loc[labels]"
   ]
  },
  {
   "cell_type": "code",
   "execution_count": 30,
   "metadata": {
    "lines_to_next_cell": 2
   },
   "outputs": [
    {
     "data": {
      "text/html": [
       "<div>\n",
       "<style scoped>\n",
       "    .dataframe tbody tr th:only-of-type {\n",
       "        vertical-align: middle;\n",
       "    }\n",
       "\n",
       "    .dataframe tbody tr th {\n",
       "        vertical-align: top;\n",
       "    }\n",
       "\n",
       "    .dataframe thead th {\n",
       "        text-align: right;\n",
       "    }\n",
       "</style>\n",
       "<table border=\"1\" class=\"dataframe\">\n",
       "  <thead>\n",
       "    <tr style=\"text-align: right;\">\n",
       "      <th></th>\n",
       "      <th>CITY</th>\n",
       "      <th>STABBR</th>\n",
       "      <th>HBCU</th>\n",
       "      <th>MENONLY</th>\n",
       "      <th>WOMENONLY</th>\n",
       "      <th>RELAFFIL</th>\n",
       "      <th>SATVRMID</th>\n",
       "      <th>SATMTMID</th>\n",
       "      <th>DISTANCEONLY</th>\n",
       "      <th>UGDS</th>\n",
       "      <th>...</th>\n",
       "      <th>UGDS_2MOR</th>\n",
       "      <th>UGDS_NRA</th>\n",
       "      <th>UGDS_UNKN</th>\n",
       "      <th>PPTUG_EF</th>\n",
       "      <th>CURROPER</th>\n",
       "      <th>PCTPELL</th>\n",
       "      <th>PCTFLOAN</th>\n",
       "      <th>UG25ABV</th>\n",
       "      <th>MD_EARN_WNE_P10</th>\n",
       "      <th>GRAD_DEBT_MDN_SUPP</th>\n",
       "    </tr>\n",
       "    <tr>\n",
       "      <th>INSTNM</th>\n",
       "      <th></th>\n",
       "      <th></th>\n",
       "      <th></th>\n",
       "      <th></th>\n",
       "      <th></th>\n",
       "      <th></th>\n",
       "      <th></th>\n",
       "      <th></th>\n",
       "      <th></th>\n",
       "      <th></th>\n",
       "      <th></th>\n",
       "      <th></th>\n",
       "      <th></th>\n",
       "      <th></th>\n",
       "      <th></th>\n",
       "      <th></th>\n",
       "      <th></th>\n",
       "      <th></th>\n",
       "      <th></th>\n",
       "      <th></th>\n",
       "      <th></th>\n",
       "    </tr>\n",
       "  </thead>\n",
       "  <tbody>\n",
       "    <tr>\n",
       "      <th>International Academy of Hair Design</th>\n",
       "      <td>Tempe</td>\n",
       "      <td>AZ</td>\n",
       "      <td>0.0</td>\n",
       "      <td>0.0</td>\n",
       "      <td>0.0</td>\n",
       "      <td>0</td>\n",
       "      <td>NaN</td>\n",
       "      <td>NaN</td>\n",
       "      <td>0.0</td>\n",
       "      <td>188.0</td>\n",
       "      <td>...</td>\n",
       "      <td>0.0160</td>\n",
       "      <td>0.0000</td>\n",
       "      <td>0.0638</td>\n",
       "      <td>0.0000</td>\n",
       "      <td>0</td>\n",
       "      <td>0.7185</td>\n",
       "      <td>0.7346</td>\n",
       "      <td>0.3905</td>\n",
       "      <td>22200</td>\n",
       "      <td>10556</td>\n",
       "    </tr>\n",
       "    <tr>\n",
       "      <th>GateWay Community College</th>\n",
       "      <td>Phoenix</td>\n",
       "      <td>AZ</td>\n",
       "      <td>0.0</td>\n",
       "      <td>0.0</td>\n",
       "      <td>0.0</td>\n",
       "      <td>0</td>\n",
       "      <td>NaN</td>\n",
       "      <td>NaN</td>\n",
       "      <td>0.0</td>\n",
       "      <td>5211.0</td>\n",
       "      <td>...</td>\n",
       "      <td>0.0127</td>\n",
       "      <td>0.0161</td>\n",
       "      <td>0.0702</td>\n",
       "      <td>0.7465</td>\n",
       "      <td>1</td>\n",
       "      <td>0.3270</td>\n",
       "      <td>0.2189</td>\n",
       "      <td>0.5832</td>\n",
       "      <td>29800</td>\n",
       "      <td>7283</td>\n",
       "    </tr>\n",
       "    <tr>\n",
       "      <th>Mesa Community College</th>\n",
       "      <td>Mesa</td>\n",
       "      <td>AZ</td>\n",
       "      <td>0.0</td>\n",
       "      <td>0.0</td>\n",
       "      <td>0.0</td>\n",
       "      <td>0</td>\n",
       "      <td>NaN</td>\n",
       "      <td>NaN</td>\n",
       "      <td>0.0</td>\n",
       "      <td>19055.0</td>\n",
       "      <td>...</td>\n",
       "      <td>0.0205</td>\n",
       "      <td>0.0257</td>\n",
       "      <td>0.0682</td>\n",
       "      <td>0.6457</td>\n",
       "      <td>1</td>\n",
       "      <td>0.3423</td>\n",
       "      <td>0.2207</td>\n",
       "      <td>0.4010</td>\n",
       "      <td>35200</td>\n",
       "      <td>8000</td>\n",
       "    </tr>\n",
       "  </tbody>\n",
       "</table>\n",
       "<p>3 rows × 26 columns</p>\n",
       "</div>"
      ],
      "text/plain": [
       "                                         CITY STABBR  HBCU  MENONLY  \\\n",
       "INSTNM                                                                \n",
       "International Academy of Hair Design    Tempe     AZ   0.0      0.0   \n",
       "GateWay Community College             Phoenix     AZ   0.0      0.0   \n",
       "Mesa Community College                   Mesa     AZ   0.0      0.0   \n",
       "\n",
       "                                      WOMENONLY  RELAFFIL  SATVRMID  SATMTMID  \\\n",
       "INSTNM                                                                          \n",
       "International Academy of Hair Design        0.0         0       NaN       NaN   \n",
       "GateWay Community College                   0.0         0       NaN       NaN   \n",
       "Mesa Community College                      0.0         0       NaN       NaN   \n",
       "\n",
       "                                      DISTANCEONLY     UGDS  ...  UGDS_2MOR  \\\n",
       "INSTNM                                                       ...              \n",
       "International Academy of Hair Design           0.0    188.0  ...     0.0160   \n",
       "GateWay Community College                      0.0   5211.0  ...     0.0127   \n",
       "Mesa Community College                         0.0  19055.0  ...     0.0205   \n",
       "\n",
       "                                      UGDS_NRA  UGDS_UNKN  PPTUG_EF  CURROPER  \\\n",
       "INSTNM                                                                          \n",
       "International Academy of Hair Design    0.0000     0.0638    0.0000         0   \n",
       "GateWay Community College               0.0161     0.0702    0.7465         1   \n",
       "Mesa Community College                  0.0257     0.0682    0.6457         1   \n",
       "\n",
       "                                      PCTPELL  PCTFLOAN  UG25ABV  \\\n",
       "INSTNM                                                             \n",
       "International Academy of Hair Design   0.7185    0.7346   0.3905   \n",
       "GateWay Community College              0.3270    0.2189   0.5832   \n",
       "Mesa Community College                 0.3423    0.2207   0.4010   \n",
       "\n",
       "                                      MD_EARN_WNE_P10  GRAD_DEBT_MDN_SUPP  \n",
       "INSTNM                                                                     \n",
       "International Academy of Hair Design            22200               10556  \n",
       "GateWay Community College                       29800                7283  \n",
       "Mesa Community College                          35200                8000  \n",
       "\n",
       "[3 rows x 26 columns]"
      ]
     },
     "execution_count": 30,
     "metadata": {},
     "output_type": "execute_result"
    }
   ],
   "source": [
    "college.iloc[99:102]"
   ]
  },
  {
   "cell_type": "code",
   "execution_count": 31,
   "metadata": {
    "lines_to_next_cell": 2
   },
   "outputs": [
    {
     "data": {
      "text/html": [
       "<div>\n",
       "<style scoped>\n",
       "    .dataframe tbody tr th:only-of-type {\n",
       "        vertical-align: middle;\n",
       "    }\n",
       "\n",
       "    .dataframe tbody tr th {\n",
       "        vertical-align: top;\n",
       "    }\n",
       "\n",
       "    .dataframe thead th {\n",
       "        text-align: right;\n",
       "    }\n",
       "</style>\n",
       "<table border=\"1\" class=\"dataframe\">\n",
       "  <thead>\n",
       "    <tr style=\"text-align: right;\">\n",
       "      <th></th>\n",
       "      <th>CITY</th>\n",
       "      <th>STABBR</th>\n",
       "      <th>HBCU</th>\n",
       "      <th>MENONLY</th>\n",
       "      <th>WOMENONLY</th>\n",
       "      <th>RELAFFIL</th>\n",
       "      <th>SATVRMID</th>\n",
       "      <th>SATMTMID</th>\n",
       "      <th>DISTANCEONLY</th>\n",
       "      <th>UGDS</th>\n",
       "      <th>...</th>\n",
       "      <th>UGDS_2MOR</th>\n",
       "      <th>UGDS_NRA</th>\n",
       "      <th>UGDS_UNKN</th>\n",
       "      <th>PPTUG_EF</th>\n",
       "      <th>CURROPER</th>\n",
       "      <th>PCTPELL</th>\n",
       "      <th>PCTFLOAN</th>\n",
       "      <th>UG25ABV</th>\n",
       "      <th>MD_EARN_WNE_P10</th>\n",
       "      <th>GRAD_DEBT_MDN_SUPP</th>\n",
       "    </tr>\n",
       "    <tr>\n",
       "      <th>INSTNM</th>\n",
       "      <th></th>\n",
       "      <th></th>\n",
       "      <th></th>\n",
       "      <th></th>\n",
       "      <th></th>\n",
       "      <th></th>\n",
       "      <th></th>\n",
       "      <th></th>\n",
       "      <th></th>\n",
       "      <th></th>\n",
       "      <th></th>\n",
       "      <th></th>\n",
       "      <th></th>\n",
       "      <th></th>\n",
       "      <th></th>\n",
       "      <th></th>\n",
       "      <th></th>\n",
       "      <th></th>\n",
       "      <th></th>\n",
       "      <th></th>\n",
       "      <th></th>\n",
       "    </tr>\n",
       "  </thead>\n",
       "  <tbody>\n",
       "    <tr>\n",
       "      <th>International Academy of Hair Design</th>\n",
       "      <td>Tempe</td>\n",
       "      <td>AZ</td>\n",
       "      <td>0.0</td>\n",
       "      <td>0.0</td>\n",
       "      <td>0.0</td>\n",
       "      <td>0</td>\n",
       "      <td>NaN</td>\n",
       "      <td>NaN</td>\n",
       "      <td>0.0</td>\n",
       "      <td>188.0</td>\n",
       "      <td>...</td>\n",
       "      <td>0.0160</td>\n",
       "      <td>0.0000</td>\n",
       "      <td>0.0638</td>\n",
       "      <td>0.0000</td>\n",
       "      <td>0</td>\n",
       "      <td>0.7185</td>\n",
       "      <td>0.7346</td>\n",
       "      <td>0.3905</td>\n",
       "      <td>22200</td>\n",
       "      <td>10556</td>\n",
       "    </tr>\n",
       "    <tr>\n",
       "      <th>GateWay Community College</th>\n",
       "      <td>Phoenix</td>\n",
       "      <td>AZ</td>\n",
       "      <td>0.0</td>\n",
       "      <td>0.0</td>\n",
       "      <td>0.0</td>\n",
       "      <td>0</td>\n",
       "      <td>NaN</td>\n",
       "      <td>NaN</td>\n",
       "      <td>0.0</td>\n",
       "      <td>5211.0</td>\n",
       "      <td>...</td>\n",
       "      <td>0.0127</td>\n",
       "      <td>0.0161</td>\n",
       "      <td>0.0702</td>\n",
       "      <td>0.7465</td>\n",
       "      <td>1</td>\n",
       "      <td>0.3270</td>\n",
       "      <td>0.2189</td>\n",
       "      <td>0.5832</td>\n",
       "      <td>29800</td>\n",
       "      <td>7283</td>\n",
       "    </tr>\n",
       "    <tr>\n",
       "      <th>Mesa Community College</th>\n",
       "      <td>Mesa</td>\n",
       "      <td>AZ</td>\n",
       "      <td>0.0</td>\n",
       "      <td>0.0</td>\n",
       "      <td>0.0</td>\n",
       "      <td>0</td>\n",
       "      <td>NaN</td>\n",
       "      <td>NaN</td>\n",
       "      <td>0.0</td>\n",
       "      <td>19055.0</td>\n",
       "      <td>...</td>\n",
       "      <td>0.0205</td>\n",
       "      <td>0.0257</td>\n",
       "      <td>0.0682</td>\n",
       "      <td>0.6457</td>\n",
       "      <td>1</td>\n",
       "      <td>0.3423</td>\n",
       "      <td>0.2207</td>\n",
       "      <td>0.4010</td>\n",
       "      <td>35200</td>\n",
       "      <td>8000</td>\n",
       "    </tr>\n",
       "  </tbody>\n",
       "</table>\n",
       "<p>3 rows × 26 columns</p>\n",
       "</div>"
      ],
      "text/plain": [
       "                                         CITY STABBR  HBCU  MENONLY  \\\n",
       "INSTNM                                                                \n",
       "International Academy of Hair Design    Tempe     AZ   0.0      0.0   \n",
       "GateWay Community College             Phoenix     AZ   0.0      0.0   \n",
       "Mesa Community College                   Mesa     AZ   0.0      0.0   \n",
       "\n",
       "                                      WOMENONLY  RELAFFIL  SATVRMID  SATMTMID  \\\n",
       "INSTNM                                                                          \n",
       "International Academy of Hair Design        0.0         0       NaN       NaN   \n",
       "GateWay Community College                   0.0         0       NaN       NaN   \n",
       "Mesa Community College                      0.0         0       NaN       NaN   \n",
       "\n",
       "                                      DISTANCEONLY     UGDS  ...  UGDS_2MOR  \\\n",
       "INSTNM                                                       ...              \n",
       "International Academy of Hair Design           0.0    188.0  ...     0.0160   \n",
       "GateWay Community College                      0.0   5211.0  ...     0.0127   \n",
       "Mesa Community College                         0.0  19055.0  ...     0.0205   \n",
       "\n",
       "                                      UGDS_NRA  UGDS_UNKN  PPTUG_EF  CURROPER  \\\n",
       "INSTNM                                                                          \n",
       "International Academy of Hair Design    0.0000     0.0638    0.0000         0   \n",
       "GateWay Community College               0.0161     0.0702    0.7465         1   \n",
       "Mesa Community College                  0.0257     0.0682    0.6457         1   \n",
       "\n",
       "                                      PCTPELL  PCTFLOAN  UG25ABV  \\\n",
       "INSTNM                                                             \n",
       "International Academy of Hair Design   0.7185    0.7346   0.3905   \n",
       "GateWay Community College              0.3270    0.2189   0.5832   \n",
       "Mesa Community College                 0.3423    0.2207   0.4010   \n",
       "\n",
       "                                      MD_EARN_WNE_P10  GRAD_DEBT_MDN_SUPP  \n",
       "INSTNM                                                                     \n",
       "International Academy of Hair Design            22200               10556  \n",
       "GateWay Community College                       29800                7283  \n",
       "Mesa Community College                          35200                8000  \n",
       "\n",
       "[3 rows x 26 columns]"
      ]
     },
     "execution_count": 31,
     "metadata": {},
     "output_type": "execute_result"
    }
   ],
   "source": [
    "start = 'International Academy of Hair Design'\n",
    "stop = 'Mesa Community College'\n",
    "college.loc[start:stop]"
   ]
  },
  {
   "cell_type": "markdown",
   "metadata": {},
   "source": [
    "### How it works..."
   ]
  },
  {
   "cell_type": "markdown",
   "metadata": {},
   "source": [
    "### There's more..."
   ]
  },
  {
   "cell_type": "code",
   "execution_count": 32,
   "metadata": {
    "lines_to_next_cell": 2
   },
   "outputs": [
    {
     "data": {
      "text/plain": [
       "['University of Alaska Anchorage',\n",
       " 'International Academy of Hair Design',\n",
       " 'University of Alabama in Huntsville']"
      ]
     },
     "execution_count": 32,
     "metadata": {},
     "output_type": "execute_result"
    }
   ],
   "source": [
    "college.iloc[[60, 99, 3]].index.tolist()"
   ]
  },
  {
   "cell_type": "markdown",
   "metadata": {},
   "source": [
    "## Selecting DataFrame rows and columns simultaneously"
   ]
  },
  {
   "cell_type": "markdown",
   "metadata": {},
   "source": [
    "### How to do it..."
   ]
  },
  {
   "cell_type": "code",
   "execution_count": 33,
   "metadata": {
    "lines_to_next_cell": 2
   },
   "outputs": [
    {
     "data": {
      "text/html": [
       "<div>\n",
       "<style scoped>\n",
       "    .dataframe tbody tr th:only-of-type {\n",
       "        vertical-align: middle;\n",
       "    }\n",
       "\n",
       "    .dataframe tbody tr th {\n",
       "        vertical-align: top;\n",
       "    }\n",
       "\n",
       "    .dataframe thead th {\n",
       "        text-align: right;\n",
       "    }\n",
       "</style>\n",
       "<table border=\"1\" class=\"dataframe\">\n",
       "  <thead>\n",
       "    <tr style=\"text-align: right;\">\n",
       "      <th></th>\n",
       "      <th>CITY</th>\n",
       "      <th>STABBR</th>\n",
       "      <th>HBCU</th>\n",
       "      <th>MENONLY</th>\n",
       "    </tr>\n",
       "    <tr>\n",
       "      <th>INSTNM</th>\n",
       "      <th></th>\n",
       "      <th></th>\n",
       "      <th></th>\n",
       "      <th></th>\n",
       "    </tr>\n",
       "  </thead>\n",
       "  <tbody>\n",
       "    <tr>\n",
       "      <th>Alabama A &amp; M University</th>\n",
       "      <td>Normal</td>\n",
       "      <td>AL</td>\n",
       "      <td>1.0</td>\n",
       "      <td>0.0</td>\n",
       "    </tr>\n",
       "    <tr>\n",
       "      <th>University of Alabama at Birmingham</th>\n",
       "      <td>Birmingham</td>\n",
       "      <td>AL</td>\n",
       "      <td>0.0</td>\n",
       "      <td>0.0</td>\n",
       "    </tr>\n",
       "    <tr>\n",
       "      <th>Amridge University</th>\n",
       "      <td>Montgomery</td>\n",
       "      <td>AL</td>\n",
       "      <td>0.0</td>\n",
       "      <td>0.0</td>\n",
       "    </tr>\n",
       "  </tbody>\n",
       "</table>\n",
       "</div>"
      ],
      "text/plain": [
       "                                           CITY STABBR  HBCU  MENONLY\n",
       "INSTNM                                                               \n",
       "Alabama A & M University                 Normal     AL   1.0      0.0\n",
       "University of Alabama at Birmingham  Birmingham     AL   0.0      0.0\n",
       "Amridge University                   Montgomery     AL   0.0      0.0"
      ]
     },
     "execution_count": 33,
     "metadata": {},
     "output_type": "execute_result"
    }
   ],
   "source": [
    "college = pd.read_csv('datasets/college.csv', index_col='INSTNM')\n",
    "college.iloc[:3, :4]"
   ]
  },
  {
   "cell_type": "code",
   "execution_count": 34,
   "metadata": {
    "lines_to_next_cell": 2
   },
   "outputs": [
    {
     "data": {
      "text/html": [
       "<div>\n",
       "<style scoped>\n",
       "    .dataframe tbody tr th:only-of-type {\n",
       "        vertical-align: middle;\n",
       "    }\n",
       "\n",
       "    .dataframe tbody tr th {\n",
       "        vertical-align: top;\n",
       "    }\n",
       "\n",
       "    .dataframe thead th {\n",
       "        text-align: right;\n",
       "    }\n",
       "</style>\n",
       "<table border=\"1\" class=\"dataframe\">\n",
       "  <thead>\n",
       "    <tr style=\"text-align: right;\">\n",
       "      <th></th>\n",
       "      <th>CITY</th>\n",
       "      <th>STABBR</th>\n",
       "      <th>HBCU</th>\n",
       "      <th>MENONLY</th>\n",
       "    </tr>\n",
       "    <tr>\n",
       "      <th>INSTNM</th>\n",
       "      <th></th>\n",
       "      <th></th>\n",
       "      <th></th>\n",
       "      <th></th>\n",
       "    </tr>\n",
       "  </thead>\n",
       "  <tbody>\n",
       "    <tr>\n",
       "      <th>Alabama A &amp; M University</th>\n",
       "      <td>Normal</td>\n",
       "      <td>AL</td>\n",
       "      <td>1.0</td>\n",
       "      <td>0.0</td>\n",
       "    </tr>\n",
       "    <tr>\n",
       "      <th>University of Alabama at Birmingham</th>\n",
       "      <td>Birmingham</td>\n",
       "      <td>AL</td>\n",
       "      <td>0.0</td>\n",
       "      <td>0.0</td>\n",
       "    </tr>\n",
       "    <tr>\n",
       "      <th>Amridge University</th>\n",
       "      <td>Montgomery</td>\n",
       "      <td>AL</td>\n",
       "      <td>0.0</td>\n",
       "      <td>0.0</td>\n",
       "    </tr>\n",
       "  </tbody>\n",
       "</table>\n",
       "</div>"
      ],
      "text/plain": [
       "                                           CITY STABBR  HBCU  MENONLY\n",
       "INSTNM                                                               \n",
       "Alabama A & M University                 Normal     AL   1.0      0.0\n",
       "University of Alabama at Birmingham  Birmingham     AL   0.0      0.0\n",
       "Amridge University                   Montgomery     AL   0.0      0.0"
      ]
     },
     "execution_count": 34,
     "metadata": {},
     "output_type": "execute_result"
    }
   ],
   "source": [
    "college.loc[:'Amridge University', :'MENONLY']"
   ]
  },
  {
   "cell_type": "code",
   "execution_count": 35,
   "metadata": {
    "lines_to_next_cell": 2
   },
   "outputs": [
    {
     "data": {
      "text/html": [
       "<div>\n",
       "<style scoped>\n",
       "    .dataframe tbody tr th:only-of-type {\n",
       "        vertical-align: middle;\n",
       "    }\n",
       "\n",
       "    .dataframe tbody tr th {\n",
       "        vertical-align: top;\n",
       "    }\n",
       "\n",
       "    .dataframe thead th {\n",
       "        text-align: right;\n",
       "    }\n",
       "</style>\n",
       "<table border=\"1\" class=\"dataframe\">\n",
       "  <thead>\n",
       "    <tr style=\"text-align: right;\">\n",
       "      <th></th>\n",
       "      <th>WOMENONLY</th>\n",
       "      <th>SATVRMID</th>\n",
       "    </tr>\n",
       "    <tr>\n",
       "      <th>INSTNM</th>\n",
       "      <th></th>\n",
       "      <th></th>\n",
       "    </tr>\n",
       "  </thead>\n",
       "  <tbody>\n",
       "    <tr>\n",
       "      <th>Alabama A &amp; M University</th>\n",
       "      <td>0.0</td>\n",
       "      <td>424.0</td>\n",
       "    </tr>\n",
       "    <tr>\n",
       "      <th>University of Alabama at Birmingham</th>\n",
       "      <td>0.0</td>\n",
       "      <td>570.0</td>\n",
       "    </tr>\n",
       "    <tr>\n",
       "      <th>Amridge University</th>\n",
       "      <td>0.0</td>\n",
       "      <td>NaN</td>\n",
       "    </tr>\n",
       "    <tr>\n",
       "      <th>University of Alabama in Huntsville</th>\n",
       "      <td>0.0</td>\n",
       "      <td>595.0</td>\n",
       "    </tr>\n",
       "    <tr>\n",
       "      <th>Alabama State University</th>\n",
       "      <td>0.0</td>\n",
       "      <td>425.0</td>\n",
       "    </tr>\n",
       "  </tbody>\n",
       "</table>\n",
       "</div>"
      ],
      "text/plain": [
       "                                     WOMENONLY  SATVRMID\n",
       "INSTNM                                                  \n",
       "Alabama A & M University                   0.0     424.0\n",
       "University of Alabama at Birmingham        0.0     570.0\n",
       "Amridge University                         0.0       NaN\n",
       "University of Alabama in Huntsville        0.0     595.0\n",
       "Alabama State University                   0.0     425.0"
      ]
     },
     "execution_count": 35,
     "metadata": {},
     "output_type": "execute_result"
    }
   ],
   "source": [
    "college.iloc[:, [4,6]].head()"
   ]
  },
  {
   "cell_type": "code",
   "execution_count": 36,
   "metadata": {
    "lines_to_next_cell": 2
   },
   "outputs": [
    {
     "data": {
      "text/html": [
       "<div>\n",
       "<style scoped>\n",
       "    .dataframe tbody tr th:only-of-type {\n",
       "        vertical-align: middle;\n",
       "    }\n",
       "\n",
       "    .dataframe tbody tr th {\n",
       "        vertical-align: top;\n",
       "    }\n",
       "\n",
       "    .dataframe thead th {\n",
       "        text-align: right;\n",
       "    }\n",
       "</style>\n",
       "<table border=\"1\" class=\"dataframe\">\n",
       "  <thead>\n",
       "    <tr style=\"text-align: right;\">\n",
       "      <th></th>\n",
       "      <th>WOMENONLY</th>\n",
       "      <th>SATVRMID</th>\n",
       "    </tr>\n",
       "    <tr>\n",
       "      <th>INSTNM</th>\n",
       "      <th></th>\n",
       "      <th></th>\n",
       "    </tr>\n",
       "  </thead>\n",
       "  <tbody>\n",
       "    <tr>\n",
       "      <th>Alabama A &amp; M University</th>\n",
       "      <td>0.0</td>\n",
       "      <td>424.0</td>\n",
       "    </tr>\n",
       "    <tr>\n",
       "      <th>University of Alabama at Birmingham</th>\n",
       "      <td>0.0</td>\n",
       "      <td>570.0</td>\n",
       "    </tr>\n",
       "    <tr>\n",
       "      <th>Amridge University</th>\n",
       "      <td>0.0</td>\n",
       "      <td>NaN</td>\n",
       "    </tr>\n",
       "    <tr>\n",
       "      <th>University of Alabama in Huntsville</th>\n",
       "      <td>0.0</td>\n",
       "      <td>595.0</td>\n",
       "    </tr>\n",
       "    <tr>\n",
       "      <th>Alabama State University</th>\n",
       "      <td>0.0</td>\n",
       "      <td>425.0</td>\n",
       "    </tr>\n",
       "  </tbody>\n",
       "</table>\n",
       "</div>"
      ],
      "text/plain": [
       "                                     WOMENONLY  SATVRMID\n",
       "INSTNM                                                  \n",
       "Alabama A & M University                   0.0     424.0\n",
       "University of Alabama at Birmingham        0.0     570.0\n",
       "Amridge University                         0.0       NaN\n",
       "University of Alabama in Huntsville        0.0     595.0\n",
       "Alabama State University                   0.0     425.0"
      ]
     },
     "execution_count": 36,
     "metadata": {},
     "output_type": "execute_result"
    }
   ],
   "source": [
    "college.loc[:, ['WOMENONLY', 'SATVRMID']].head()"
   ]
  },
  {
   "cell_type": "code",
   "execution_count": 37,
   "metadata": {
    "lines_to_next_cell": 2
   },
   "outputs": [
    {
     "data": {
      "text/html": [
       "<div>\n",
       "<style scoped>\n",
       "    .dataframe tbody tr th:only-of-type {\n",
       "        vertical-align: middle;\n",
       "    }\n",
       "\n",
       "    .dataframe tbody tr th {\n",
       "        vertical-align: top;\n",
       "    }\n",
       "\n",
       "    .dataframe thead th {\n",
       "        text-align: right;\n",
       "    }\n",
       "</style>\n",
       "<table border=\"1\" class=\"dataframe\">\n",
       "  <thead>\n",
       "    <tr style=\"text-align: right;\">\n",
       "      <th></th>\n",
       "      <th>SATMTMID</th>\n",
       "      <th>UGDS_NHPI</th>\n",
       "    </tr>\n",
       "    <tr>\n",
       "      <th>INSTNM</th>\n",
       "      <th></th>\n",
       "      <th></th>\n",
       "    </tr>\n",
       "  </thead>\n",
       "  <tbody>\n",
       "    <tr>\n",
       "      <th>GateWay Community College</th>\n",
       "      <td>NaN</td>\n",
       "      <td>0.0029</td>\n",
       "    </tr>\n",
       "    <tr>\n",
       "      <th>American Baptist Seminary of the West</th>\n",
       "      <td>NaN</td>\n",
       "      <td>NaN</td>\n",
       "    </tr>\n",
       "  </tbody>\n",
       "</table>\n",
       "</div>"
      ],
      "text/plain": [
       "                                       SATMTMID  UGDS_NHPI\n",
       "INSTNM                                                    \n",
       "GateWay Community College                   NaN     0.0029\n",
       "American Baptist Seminary of the West       NaN        NaN"
      ]
     },
     "execution_count": 37,
     "metadata": {},
     "output_type": "execute_result"
    }
   ],
   "source": [
    "college.iloc[[100, 200], [7, 15]]"
   ]
  },
  {
   "cell_type": "code",
   "execution_count": 38,
   "metadata": {
    "lines_to_next_cell": 2
   },
   "outputs": [
    {
     "data": {
      "text/html": [
       "<div>\n",
       "<style scoped>\n",
       "    .dataframe tbody tr th:only-of-type {\n",
       "        vertical-align: middle;\n",
       "    }\n",
       "\n",
       "    .dataframe tbody tr th {\n",
       "        vertical-align: top;\n",
       "    }\n",
       "\n",
       "    .dataframe thead th {\n",
       "        text-align: right;\n",
       "    }\n",
       "</style>\n",
       "<table border=\"1\" class=\"dataframe\">\n",
       "  <thead>\n",
       "    <tr style=\"text-align: right;\">\n",
       "      <th></th>\n",
       "      <th>SATMTMID</th>\n",
       "      <th>UGDS_NHPI</th>\n",
       "    </tr>\n",
       "    <tr>\n",
       "      <th>INSTNM</th>\n",
       "      <th></th>\n",
       "      <th></th>\n",
       "    </tr>\n",
       "  </thead>\n",
       "  <tbody>\n",
       "    <tr>\n",
       "      <th>GateWay Community College</th>\n",
       "      <td>NaN</td>\n",
       "      <td>0.0029</td>\n",
       "    </tr>\n",
       "    <tr>\n",
       "      <th>American Baptist Seminary of the West</th>\n",
       "      <td>NaN</td>\n",
       "      <td>NaN</td>\n",
       "    </tr>\n",
       "  </tbody>\n",
       "</table>\n",
       "</div>"
      ],
      "text/plain": [
       "                                       SATMTMID  UGDS_NHPI\n",
       "INSTNM                                                    \n",
       "GateWay Community College                   NaN     0.0029\n",
       "American Baptist Seminary of the West       NaN        NaN"
      ]
     },
     "execution_count": 38,
     "metadata": {},
     "output_type": "execute_result"
    }
   ],
   "source": [
    "rows = ['GateWay Community College',\n",
    "        'American Baptist Seminary of the West']\n",
    "columns = ['SATMTMID', 'UGDS_NHPI']\n",
    "college.loc[rows, columns]"
   ]
  },
  {
   "cell_type": "code",
   "execution_count": 39,
   "metadata": {
    "lines_to_next_cell": 2
   },
   "outputs": [
    {
     "data": {
      "text/plain": [
       "0.401"
      ]
     },
     "execution_count": 39,
     "metadata": {},
     "output_type": "execute_result"
    }
   ],
   "source": [
    "college.iloc[5, -4]"
   ]
  },
  {
   "cell_type": "code",
   "execution_count": 40,
   "metadata": {
    "lines_to_next_cell": 2
   },
   "outputs": [
    {
     "data": {
      "text/plain": [
       "0.401"
      ]
     },
     "execution_count": 40,
     "metadata": {},
     "output_type": "execute_result"
    }
   ],
   "source": [
    "college.loc['The University of Alabama', 'PCTFLOAN']"
   ]
  },
  {
   "cell_type": "code",
   "execution_count": 41,
   "metadata": {
    "lines_to_next_cell": 2
   },
   "outputs": [
    {
     "data": {
      "text/plain": [
       "INSTNM\n",
       "Empire Beauty School-Flagstaff     0\n",
       "Charles of Italy Beauty College    0\n",
       "Central Arizona College            0\n",
       "University of Arizona              0\n",
       "Arizona State University-Tempe     0\n",
       "Name: RELAFFIL, dtype: int64"
      ]
     },
     "execution_count": 41,
     "metadata": {},
     "output_type": "execute_result"
    }
   ],
   "source": [
    "college.iloc[90:80:-2, 5]"
   ]
  },
  {
   "cell_type": "code",
   "execution_count": 42,
   "metadata": {
    "lines_to_next_cell": 2
   },
   "outputs": [
    {
     "data": {
      "text/plain": [
       "INSTNM\n",
       "Empire Beauty School-Flagstaff     0\n",
       "Charles of Italy Beauty College    0\n",
       "Central Arizona College            0\n",
       "University of Arizona              0\n",
       "Arizona State University-Tempe     0\n",
       "Name: RELAFFIL, dtype: int64"
      ]
     },
     "execution_count": 42,
     "metadata": {},
     "output_type": "execute_result"
    }
   ],
   "source": [
    "start = 'Empire Beauty School-Flagstaff'\n",
    "stop = 'Arizona State University-Tempe'\n",
    "college.loc[start:stop:-2, 'RELAFFIL']"
   ]
  },
  {
   "cell_type": "markdown",
   "metadata": {},
   "source": [
    "### How it works..."
   ]
  },
  {
   "cell_type": "markdown",
   "metadata": {},
   "source": [
    "### There's more..."
   ]
  },
  {
   "cell_type": "markdown",
   "metadata": {},
   "source": [
    "## Selecting data with both integers and labels"
   ]
  },
  {
   "cell_type": "markdown",
   "metadata": {},
   "source": [
    "### How to do it..."
   ]
  },
  {
   "cell_type": "code",
   "execution_count": 43,
   "metadata": {
    "lines_to_next_cell": 2
   },
   "outputs": [],
   "source": [
    "college = pd.read_csv('datasets/college.csv', index_col='INSTNM')"
   ]
  },
  {
   "cell_type": "code",
   "execution_count": 44,
   "metadata": {
    "lines_to_next_cell": 2
   },
   "outputs": [
    {
     "data": {
      "text/plain": [
       "(10, 19)"
      ]
     },
     "execution_count": 44,
     "metadata": {},
     "output_type": "execute_result"
    }
   ],
   "source": [
    "col_start = college.columns.get_loc('UGDS_WHITE')\n",
    "col_end = college.columns.get_loc('UGDS_UNKN') + 1\n",
    "col_start, col_end"
   ]
  },
  {
   "cell_type": "code",
   "execution_count": 45,
   "metadata": {
    "lines_to_next_cell": 2
   },
   "outputs": [
    {
     "data": {
      "text/html": [
       "<div>\n",
       "<style scoped>\n",
       "    .dataframe tbody tr th:only-of-type {\n",
       "        vertical-align: middle;\n",
       "    }\n",
       "\n",
       "    .dataframe tbody tr th {\n",
       "        vertical-align: top;\n",
       "    }\n",
       "\n",
       "    .dataframe thead th {\n",
       "        text-align: right;\n",
       "    }\n",
       "</style>\n",
       "<table border=\"1\" class=\"dataframe\">\n",
       "  <thead>\n",
       "    <tr style=\"text-align: right;\">\n",
       "      <th></th>\n",
       "      <th>UGDS_WHITE</th>\n",
       "      <th>UGDS_BLACK</th>\n",
       "      <th>UGDS_HISP</th>\n",
       "      <th>UGDS_ASIAN</th>\n",
       "      <th>UGDS_AIAN</th>\n",
       "      <th>UGDS_NHPI</th>\n",
       "      <th>UGDS_2MOR</th>\n",
       "      <th>UGDS_NRA</th>\n",
       "      <th>UGDS_UNKN</th>\n",
       "    </tr>\n",
       "    <tr>\n",
       "      <th>INSTNM</th>\n",
       "      <th></th>\n",
       "      <th></th>\n",
       "      <th></th>\n",
       "      <th></th>\n",
       "      <th></th>\n",
       "      <th></th>\n",
       "      <th></th>\n",
       "      <th></th>\n",
       "      <th></th>\n",
       "    </tr>\n",
       "  </thead>\n",
       "  <tbody>\n",
       "    <tr>\n",
       "      <th>Alabama A &amp; M University</th>\n",
       "      <td>0.0333</td>\n",
       "      <td>0.9353</td>\n",
       "      <td>0.0055</td>\n",
       "      <td>0.0019</td>\n",
       "      <td>0.0024</td>\n",
       "      <td>0.0019</td>\n",
       "      <td>0.0000</td>\n",
       "      <td>0.0059</td>\n",
       "      <td>0.0138</td>\n",
       "    </tr>\n",
       "    <tr>\n",
       "      <th>University of Alabama at Birmingham</th>\n",
       "      <td>0.5922</td>\n",
       "      <td>0.2600</td>\n",
       "      <td>0.0283</td>\n",
       "      <td>0.0518</td>\n",
       "      <td>0.0022</td>\n",
       "      <td>0.0007</td>\n",
       "      <td>0.0368</td>\n",
       "      <td>0.0179</td>\n",
       "      <td>0.0100</td>\n",
       "    </tr>\n",
       "    <tr>\n",
       "      <th>Amridge University</th>\n",
       "      <td>0.2990</td>\n",
       "      <td>0.4192</td>\n",
       "      <td>0.0069</td>\n",
       "      <td>0.0034</td>\n",
       "      <td>0.0000</td>\n",
       "      <td>0.0000</td>\n",
       "      <td>0.0000</td>\n",
       "      <td>0.0000</td>\n",
       "      <td>0.2715</td>\n",
       "    </tr>\n",
       "    <tr>\n",
       "      <th>University of Alabama in Huntsville</th>\n",
       "      <td>0.6988</td>\n",
       "      <td>0.1255</td>\n",
       "      <td>0.0382</td>\n",
       "      <td>0.0376</td>\n",
       "      <td>0.0143</td>\n",
       "      <td>0.0002</td>\n",
       "      <td>0.0172</td>\n",
       "      <td>0.0332</td>\n",
       "      <td>0.0350</td>\n",
       "    </tr>\n",
       "    <tr>\n",
       "      <th>Alabama State University</th>\n",
       "      <td>0.0158</td>\n",
       "      <td>0.9208</td>\n",
       "      <td>0.0121</td>\n",
       "      <td>0.0019</td>\n",
       "      <td>0.0010</td>\n",
       "      <td>0.0006</td>\n",
       "      <td>0.0098</td>\n",
       "      <td>0.0243</td>\n",
       "      <td>0.0137</td>\n",
       "    </tr>\n",
       "  </tbody>\n",
       "</table>\n",
       "</div>"
      ],
      "text/plain": [
       "                                     UGDS_WHITE  UGDS_BLACK  UGDS_HISP  \\\n",
       "INSTNM                                                                   \n",
       "Alabama A & M University                 0.0333      0.9353     0.0055   \n",
       "University of Alabama at Birmingham      0.5922      0.2600     0.0283   \n",
       "Amridge University                       0.2990      0.4192     0.0069   \n",
       "University of Alabama in Huntsville      0.6988      0.1255     0.0382   \n",
       "Alabama State University                 0.0158      0.9208     0.0121   \n",
       "\n",
       "                                     UGDS_ASIAN  UGDS_AIAN  UGDS_NHPI  \\\n",
       "INSTNM                                                                  \n",
       "Alabama A & M University                 0.0019     0.0024     0.0019   \n",
       "University of Alabama at Birmingham      0.0518     0.0022     0.0007   \n",
       "Amridge University                       0.0034     0.0000     0.0000   \n",
       "University of Alabama in Huntsville      0.0376     0.0143     0.0002   \n",
       "Alabama State University                 0.0019     0.0010     0.0006   \n",
       "\n",
       "                                     UGDS_2MOR  UGDS_NRA  UGDS_UNKN  \n",
       "INSTNM                                                               \n",
       "Alabama A & M University                0.0000    0.0059     0.0138  \n",
       "University of Alabama at Birmingham     0.0368    0.0179     0.0100  \n",
       "Amridge University                      0.0000    0.0000     0.2715  \n",
       "University of Alabama in Huntsville     0.0172    0.0332     0.0350  \n",
       "Alabama State University                0.0098    0.0243     0.0137  "
      ]
     },
     "execution_count": 45,
     "metadata": {},
     "output_type": "execute_result"
    }
   ],
   "source": [
    "college.iloc[:5, col_start:col_end]"
   ]
  },
  {
   "cell_type": "markdown",
   "metadata": {},
   "source": [
    "### How it works..."
   ]
  },
  {
   "cell_type": "markdown",
   "metadata": {},
   "source": [
    "### There's more..."
   ]
  },
  {
   "cell_type": "code",
   "execution_count": 46,
   "metadata": {
    "lines_to_next_cell": 2
   },
   "outputs": [
    {
     "data": {
      "text/html": [
       "<div>\n",
       "<style scoped>\n",
       "    .dataframe tbody tr th:only-of-type {\n",
       "        vertical-align: middle;\n",
       "    }\n",
       "\n",
       "    .dataframe tbody tr th {\n",
       "        vertical-align: top;\n",
       "    }\n",
       "\n",
       "    .dataframe thead th {\n",
       "        text-align: right;\n",
       "    }\n",
       "</style>\n",
       "<table border=\"1\" class=\"dataframe\">\n",
       "  <thead>\n",
       "    <tr style=\"text-align: right;\">\n",
       "      <th></th>\n",
       "      <th>UGDS_WHITE</th>\n",
       "      <th>UGDS_BLACK</th>\n",
       "      <th>UGDS_HISP</th>\n",
       "      <th>UGDS_ASIAN</th>\n",
       "      <th>UGDS_AIAN</th>\n",
       "      <th>UGDS_NHPI</th>\n",
       "      <th>UGDS_2MOR</th>\n",
       "      <th>UGDS_NRA</th>\n",
       "      <th>UGDS_UNKN</th>\n",
       "    </tr>\n",
       "    <tr>\n",
       "      <th>INSTNM</th>\n",
       "      <th></th>\n",
       "      <th></th>\n",
       "      <th></th>\n",
       "      <th></th>\n",
       "      <th></th>\n",
       "      <th></th>\n",
       "      <th></th>\n",
       "      <th></th>\n",
       "      <th></th>\n",
       "    </tr>\n",
       "  </thead>\n",
       "  <tbody>\n",
       "    <tr>\n",
       "      <th>Birmingham Southern College</th>\n",
       "      <td>0.7983</td>\n",
       "      <td>0.1102</td>\n",
       "      <td>0.0195</td>\n",
       "      <td>0.0517</td>\n",
       "      <td>0.0102</td>\n",
       "      <td>0.0000</td>\n",
       "      <td>0.0051</td>\n",
       "      <td>0.0000</td>\n",
       "      <td>0.0051</td>\n",
       "    </tr>\n",
       "    <tr>\n",
       "      <th>Chattahoochee Valley Community College</th>\n",
       "      <td>0.4661</td>\n",
       "      <td>0.4372</td>\n",
       "      <td>0.0492</td>\n",
       "      <td>0.0127</td>\n",
       "      <td>0.0023</td>\n",
       "      <td>0.0035</td>\n",
       "      <td>0.0151</td>\n",
       "      <td>0.0000</td>\n",
       "      <td>0.0139</td>\n",
       "    </tr>\n",
       "    <tr>\n",
       "      <th>Concordia College Alabama</th>\n",
       "      <td>0.0280</td>\n",
       "      <td>0.8758</td>\n",
       "      <td>0.0373</td>\n",
       "      <td>0.0093</td>\n",
       "      <td>0.0000</td>\n",
       "      <td>0.0000</td>\n",
       "      <td>0.0031</td>\n",
       "      <td>0.0466</td>\n",
       "      <td>0.0000</td>\n",
       "    </tr>\n",
       "    <tr>\n",
       "      <th>South University-Montgomery</th>\n",
       "      <td>0.3046</td>\n",
       "      <td>0.6054</td>\n",
       "      <td>0.0153</td>\n",
       "      <td>0.0153</td>\n",
       "      <td>0.0153</td>\n",
       "      <td>0.0096</td>\n",
       "      <td>0.0000</td>\n",
       "      <td>0.0019</td>\n",
       "      <td>0.0326</td>\n",
       "    </tr>\n",
       "    <tr>\n",
       "      <th>Enterprise State Community College</th>\n",
       "      <td>0.6408</td>\n",
       "      <td>0.2435</td>\n",
       "      <td>0.0509</td>\n",
       "      <td>0.0202</td>\n",
       "      <td>0.0081</td>\n",
       "      <td>0.0029</td>\n",
       "      <td>0.0254</td>\n",
       "      <td>0.0012</td>\n",
       "      <td>0.0069</td>\n",
       "    </tr>\n",
       "    <tr>\n",
       "      <th>James H Faulkner State Community College</th>\n",
       "      <td>0.6979</td>\n",
       "      <td>0.2259</td>\n",
       "      <td>0.0320</td>\n",
       "      <td>0.0084</td>\n",
       "      <td>0.0177</td>\n",
       "      <td>0.0014</td>\n",
       "      <td>0.0152</td>\n",
       "      <td>0.0007</td>\n",
       "      <td>0.0009</td>\n",
       "    </tr>\n",
       "  </tbody>\n",
       "</table>\n",
       "</div>"
      ],
      "text/plain": [
       "                                          UGDS_WHITE  UGDS_BLACK  UGDS_HISP  \\\n",
       "INSTNM                                                                        \n",
       "Birmingham Southern College                   0.7983      0.1102     0.0195   \n",
       "Chattahoochee Valley Community College        0.4661      0.4372     0.0492   \n",
       "Concordia College Alabama                     0.0280      0.8758     0.0373   \n",
       "South University-Montgomery                   0.3046      0.6054     0.0153   \n",
       "Enterprise State Community College            0.6408      0.2435     0.0509   \n",
       "James H Faulkner State Community College      0.6979      0.2259     0.0320   \n",
       "\n",
       "                                          UGDS_ASIAN  UGDS_AIAN  UGDS_NHPI  \\\n",
       "INSTNM                                                                       \n",
       "Birmingham Southern College                   0.0517     0.0102     0.0000   \n",
       "Chattahoochee Valley Community College        0.0127     0.0023     0.0035   \n",
       "Concordia College Alabama                     0.0093     0.0000     0.0000   \n",
       "South University-Montgomery                   0.0153     0.0153     0.0096   \n",
       "Enterprise State Community College            0.0202     0.0081     0.0029   \n",
       "James H Faulkner State Community College      0.0084     0.0177     0.0014   \n",
       "\n",
       "                                          UGDS_2MOR  UGDS_NRA  UGDS_UNKN  \n",
       "INSTNM                                                                    \n",
       "Birmingham Southern College                  0.0051    0.0000     0.0051  \n",
       "Chattahoochee Valley Community College       0.0151    0.0000     0.0139  \n",
       "Concordia College Alabama                    0.0031    0.0466     0.0000  \n",
       "South University-Montgomery                  0.0000    0.0019     0.0326  \n",
       "Enterprise State Community College           0.0254    0.0012     0.0069  \n",
       "James H Faulkner State Community College     0.0152    0.0007     0.0009  "
      ]
     },
     "execution_count": 46,
     "metadata": {},
     "output_type": "execute_result"
    }
   ],
   "source": [
    "row_start = college.index[10]\n",
    "row_end = college.index[15]\n",
    "college.loc[row_start:row_end, 'UGDS_WHITE':'UGDS_UNKN']"
   ]
  },
  {
   "cell_type": "code",
   "execution_count": 47,
   "metadata": {
    "lines_to_next_cell": 2
   },
   "outputs": [],
   "source": [
    "#college.ix[10:16, 'UGDS_WHITE':'UGDS_UNKN']"
   ]
  },
  {
   "cell_type": "code",
   "execution_count": 48,
   "metadata": {
    "lines_to_next_cell": 2
   },
   "outputs": [
    {
     "data": {
      "text/html": [
       "<div>\n",
       "<style scoped>\n",
       "    .dataframe tbody tr th:only-of-type {\n",
       "        vertical-align: middle;\n",
       "    }\n",
       "\n",
       "    .dataframe tbody tr th {\n",
       "        vertical-align: top;\n",
       "    }\n",
       "\n",
       "    .dataframe thead th {\n",
       "        text-align: right;\n",
       "    }\n",
       "</style>\n",
       "<table border=\"1\" class=\"dataframe\">\n",
       "  <thead>\n",
       "    <tr style=\"text-align: right;\">\n",
       "      <th></th>\n",
       "      <th>UGDS_WHITE</th>\n",
       "      <th>UGDS_BLACK</th>\n",
       "      <th>UGDS_HISP</th>\n",
       "      <th>UGDS_ASIAN</th>\n",
       "      <th>UGDS_AIAN</th>\n",
       "      <th>UGDS_NHPI</th>\n",
       "      <th>UGDS_2MOR</th>\n",
       "      <th>UGDS_NRA</th>\n",
       "      <th>UGDS_UNKN</th>\n",
       "    </tr>\n",
       "    <tr>\n",
       "      <th>INSTNM</th>\n",
       "      <th></th>\n",
       "      <th></th>\n",
       "      <th></th>\n",
       "      <th></th>\n",
       "      <th></th>\n",
       "      <th></th>\n",
       "      <th></th>\n",
       "      <th></th>\n",
       "      <th></th>\n",
       "    </tr>\n",
       "  </thead>\n",
       "  <tbody>\n",
       "    <tr>\n",
       "      <th>Birmingham Southern College</th>\n",
       "      <td>0.7983</td>\n",
       "      <td>0.1102</td>\n",
       "      <td>0.0195</td>\n",
       "      <td>0.0517</td>\n",
       "      <td>0.0102</td>\n",
       "      <td>0.0000</td>\n",
       "      <td>0.0051</td>\n",
       "      <td>0.0000</td>\n",
       "      <td>0.0051</td>\n",
       "    </tr>\n",
       "    <tr>\n",
       "      <th>Chattahoochee Valley Community College</th>\n",
       "      <td>0.4661</td>\n",
       "      <td>0.4372</td>\n",
       "      <td>0.0492</td>\n",
       "      <td>0.0127</td>\n",
       "      <td>0.0023</td>\n",
       "      <td>0.0035</td>\n",
       "      <td>0.0151</td>\n",
       "      <td>0.0000</td>\n",
       "      <td>0.0139</td>\n",
       "    </tr>\n",
       "    <tr>\n",
       "      <th>Concordia College Alabama</th>\n",
       "      <td>0.0280</td>\n",
       "      <td>0.8758</td>\n",
       "      <td>0.0373</td>\n",
       "      <td>0.0093</td>\n",
       "      <td>0.0000</td>\n",
       "      <td>0.0000</td>\n",
       "      <td>0.0031</td>\n",
       "      <td>0.0466</td>\n",
       "      <td>0.0000</td>\n",
       "    </tr>\n",
       "    <tr>\n",
       "      <th>South University-Montgomery</th>\n",
       "      <td>0.3046</td>\n",
       "      <td>0.6054</td>\n",
       "      <td>0.0153</td>\n",
       "      <td>0.0153</td>\n",
       "      <td>0.0153</td>\n",
       "      <td>0.0096</td>\n",
       "      <td>0.0000</td>\n",
       "      <td>0.0019</td>\n",
       "      <td>0.0326</td>\n",
       "    </tr>\n",
       "    <tr>\n",
       "      <th>Enterprise State Community College</th>\n",
       "      <td>0.6408</td>\n",
       "      <td>0.2435</td>\n",
       "      <td>0.0509</td>\n",
       "      <td>0.0202</td>\n",
       "      <td>0.0081</td>\n",
       "      <td>0.0029</td>\n",
       "      <td>0.0254</td>\n",
       "      <td>0.0012</td>\n",
       "      <td>0.0069</td>\n",
       "    </tr>\n",
       "    <tr>\n",
       "      <th>James H Faulkner State Community College</th>\n",
       "      <td>0.6979</td>\n",
       "      <td>0.2259</td>\n",
       "      <td>0.0320</td>\n",
       "      <td>0.0084</td>\n",
       "      <td>0.0177</td>\n",
       "      <td>0.0014</td>\n",
       "      <td>0.0152</td>\n",
       "      <td>0.0007</td>\n",
       "      <td>0.0009</td>\n",
       "    </tr>\n",
       "  </tbody>\n",
       "</table>\n",
       "</div>"
      ],
      "text/plain": [
       "                                          UGDS_WHITE  UGDS_BLACK  UGDS_HISP  \\\n",
       "INSTNM                                                                        \n",
       "Birmingham Southern College                   0.7983      0.1102     0.0195   \n",
       "Chattahoochee Valley Community College        0.4661      0.4372     0.0492   \n",
       "Concordia College Alabama                     0.0280      0.8758     0.0373   \n",
       "South University-Montgomery                   0.3046      0.6054     0.0153   \n",
       "Enterprise State Community College            0.6408      0.2435     0.0509   \n",
       "James H Faulkner State Community College      0.6979      0.2259     0.0320   \n",
       "\n",
       "                                          UGDS_ASIAN  UGDS_AIAN  UGDS_NHPI  \\\n",
       "INSTNM                                                                       \n",
       "Birmingham Southern College                   0.0517     0.0102     0.0000   \n",
       "Chattahoochee Valley Community College        0.0127     0.0023     0.0035   \n",
       "Concordia College Alabama                     0.0093     0.0000     0.0000   \n",
       "South University-Montgomery                   0.0153     0.0153     0.0096   \n",
       "Enterprise State Community College            0.0202     0.0081     0.0029   \n",
       "James H Faulkner State Community College      0.0084     0.0177     0.0014   \n",
       "\n",
       "                                          UGDS_2MOR  UGDS_NRA  UGDS_UNKN  \n",
       "INSTNM                                                                    \n",
       "Birmingham Southern College                  0.0051    0.0000     0.0051  \n",
       "Chattahoochee Valley Community College       0.0151    0.0000     0.0139  \n",
       "Concordia College Alabama                    0.0031    0.0466     0.0000  \n",
       "South University-Montgomery                  0.0000    0.0019     0.0326  \n",
       "Enterprise State Community College           0.0254    0.0012     0.0069  \n",
       "James H Faulkner State Community College     0.0152    0.0007     0.0009  "
      ]
     },
     "execution_count": 48,
     "metadata": {},
     "output_type": "execute_result"
    }
   ],
   "source": [
    "college.iloc[10:16].loc[:, 'UGDS_WHITE':'UGDS_UNKN']"
   ]
  },
  {
   "cell_type": "markdown",
   "metadata": {},
   "source": [
    "## Slicing lexicographically"
   ]
  },
  {
   "cell_type": "markdown",
   "metadata": {},
   "source": [
    "### How to do it..."
   ]
  },
  {
   "cell_type": "code",
   "execution_count": 49,
   "metadata": {
    "lines_to_next_cell": 2
   },
   "outputs": [],
   "source": [
    "college = pd.read_csv('datasets/college.csv', index_col='INSTNM')"
   ]
  },
  {
   "cell_type": "code",
   "execution_count": 50,
   "metadata": {
    "lines_to_next_cell": 2
   },
   "outputs": [],
   "source": [
    "#college.loc['Sp':'Su']"
   ]
  },
  {
   "cell_type": "code",
   "execution_count": 51,
   "metadata": {
    "lines_to_next_cell": 2
   },
   "outputs": [],
   "source": [
    "college = college.sort_index()"
   ]
  },
  {
   "cell_type": "code",
   "execution_count": 52,
   "metadata": {
    "lines_to_next_cell": 2
   },
   "outputs": [
    {
     "data": {
      "text/html": [
       "<div>\n",
       "<style scoped>\n",
       "    .dataframe tbody tr th:only-of-type {\n",
       "        vertical-align: middle;\n",
       "    }\n",
       "\n",
       "    .dataframe tbody tr th {\n",
       "        vertical-align: top;\n",
       "    }\n",
       "\n",
       "    .dataframe thead th {\n",
       "        text-align: right;\n",
       "    }\n",
       "</style>\n",
       "<table border=\"1\" class=\"dataframe\">\n",
       "  <thead>\n",
       "    <tr style=\"text-align: right;\">\n",
       "      <th></th>\n",
       "      <th>CITY</th>\n",
       "      <th>STABBR</th>\n",
       "      <th>HBCU</th>\n",
       "      <th>MENONLY</th>\n",
       "      <th>WOMENONLY</th>\n",
       "      <th>RELAFFIL</th>\n",
       "      <th>SATVRMID</th>\n",
       "      <th>SATMTMID</th>\n",
       "      <th>DISTANCEONLY</th>\n",
       "      <th>UGDS</th>\n",
       "      <th>...</th>\n",
       "      <th>UGDS_2MOR</th>\n",
       "      <th>UGDS_NRA</th>\n",
       "      <th>UGDS_UNKN</th>\n",
       "      <th>PPTUG_EF</th>\n",
       "      <th>CURROPER</th>\n",
       "      <th>PCTPELL</th>\n",
       "      <th>PCTFLOAN</th>\n",
       "      <th>UG25ABV</th>\n",
       "      <th>MD_EARN_WNE_P10</th>\n",
       "      <th>GRAD_DEBT_MDN_SUPP</th>\n",
       "    </tr>\n",
       "    <tr>\n",
       "      <th>INSTNM</th>\n",
       "      <th></th>\n",
       "      <th></th>\n",
       "      <th></th>\n",
       "      <th></th>\n",
       "      <th></th>\n",
       "      <th></th>\n",
       "      <th></th>\n",
       "      <th></th>\n",
       "      <th></th>\n",
       "      <th></th>\n",
       "      <th></th>\n",
       "      <th></th>\n",
       "      <th></th>\n",
       "      <th></th>\n",
       "      <th></th>\n",
       "      <th></th>\n",
       "      <th></th>\n",
       "      <th></th>\n",
       "      <th></th>\n",
       "      <th></th>\n",
       "      <th></th>\n",
       "    </tr>\n",
       "  </thead>\n",
       "  <tbody>\n",
       "    <tr>\n",
       "      <th>Spa Tech Institute-Ipswich</th>\n",
       "      <td>Ipswich</td>\n",
       "      <td>MA</td>\n",
       "      <td>0.0</td>\n",
       "      <td>0.0</td>\n",
       "      <td>0.0</td>\n",
       "      <td>0</td>\n",
       "      <td>NaN</td>\n",
       "      <td>NaN</td>\n",
       "      <td>0.0</td>\n",
       "      <td>37.0</td>\n",
       "      <td>...</td>\n",
       "      <td>0.0000</td>\n",
       "      <td>0.0000</td>\n",
       "      <td>0.0541</td>\n",
       "      <td>0.4054</td>\n",
       "      <td>1</td>\n",
       "      <td>0.2656</td>\n",
       "      <td>0.3906</td>\n",
       "      <td>0.7907</td>\n",
       "      <td>21500</td>\n",
       "      <td>6333</td>\n",
       "    </tr>\n",
       "    <tr>\n",
       "      <th>Spa Tech Institute-Plymouth</th>\n",
       "      <td>Plymouth</td>\n",
       "      <td>MA</td>\n",
       "      <td>0.0</td>\n",
       "      <td>0.0</td>\n",
       "      <td>0.0</td>\n",
       "      <td>0</td>\n",
       "      <td>NaN</td>\n",
       "      <td>NaN</td>\n",
       "      <td>0.0</td>\n",
       "      <td>153.0</td>\n",
       "      <td>...</td>\n",
       "      <td>0.0000</td>\n",
       "      <td>0.0000</td>\n",
       "      <td>0.2484</td>\n",
       "      <td>0.3399</td>\n",
       "      <td>1</td>\n",
       "      <td>0.3716</td>\n",
       "      <td>0.4266</td>\n",
       "      <td>0.6250</td>\n",
       "      <td>21500</td>\n",
       "      <td>6333</td>\n",
       "    </tr>\n",
       "    <tr>\n",
       "      <th>Spa Tech Institute-Westboro</th>\n",
       "      <td>Westboro</td>\n",
       "      <td>MA</td>\n",
       "      <td>0.0</td>\n",
       "      <td>0.0</td>\n",
       "      <td>0.0</td>\n",
       "      <td>0</td>\n",
       "      <td>NaN</td>\n",
       "      <td>NaN</td>\n",
       "      <td>0.0</td>\n",
       "      <td>90.0</td>\n",
       "      <td>...</td>\n",
       "      <td>0.0000</td>\n",
       "      <td>0.0000</td>\n",
       "      <td>0.0222</td>\n",
       "      <td>0.5778</td>\n",
       "      <td>1</td>\n",
       "      <td>0.3409</td>\n",
       "      <td>0.4545</td>\n",
       "      <td>0.6882</td>\n",
       "      <td>21500</td>\n",
       "      <td>6333</td>\n",
       "    </tr>\n",
       "    <tr>\n",
       "      <th>Spa Tech Institute-Westbrook</th>\n",
       "      <td>Westbrook</td>\n",
       "      <td>ME</td>\n",
       "      <td>0.0</td>\n",
       "      <td>0.0</td>\n",
       "      <td>0.0</td>\n",
       "      <td>0</td>\n",
       "      <td>NaN</td>\n",
       "      <td>NaN</td>\n",
       "      <td>0.0</td>\n",
       "      <td>240.0</td>\n",
       "      <td>...</td>\n",
       "      <td>0.0000</td>\n",
       "      <td>0.0000</td>\n",
       "      <td>0.0042</td>\n",
       "      <td>0.2542</td>\n",
       "      <td>1</td>\n",
       "      <td>0.4350</td>\n",
       "      <td>0.5093</td>\n",
       "      <td>0.5224</td>\n",
       "      <td>21500</td>\n",
       "      <td>6333</td>\n",
       "    </tr>\n",
       "    <tr>\n",
       "      <th>Spalding University</th>\n",
       "      <td>Louisville</td>\n",
       "      <td>KY</td>\n",
       "      <td>0.0</td>\n",
       "      <td>0.0</td>\n",
       "      <td>0.0</td>\n",
       "      <td>1</td>\n",
       "      <td>490.0</td>\n",
       "      <td>440.0</td>\n",
       "      <td>0.0</td>\n",
       "      <td>1227.0</td>\n",
       "      <td>...</td>\n",
       "      <td>0.0302</td>\n",
       "      <td>0.0016</td>\n",
       "      <td>0.0326</td>\n",
       "      <td>0.2502</td>\n",
       "      <td>1</td>\n",
       "      <td>0.4442</td>\n",
       "      <td>0.6725</td>\n",
       "      <td>0.3764</td>\n",
       "      <td>41700</td>\n",
       "      <td>25000</td>\n",
       "    </tr>\n",
       "    <tr>\n",
       "      <th>...</th>\n",
       "      <td>...</td>\n",
       "      <td>...</td>\n",
       "      <td>...</td>\n",
       "      <td>...</td>\n",
       "      <td>...</td>\n",
       "      <td>...</td>\n",
       "      <td>...</td>\n",
       "      <td>...</td>\n",
       "      <td>...</td>\n",
       "      <td>...</td>\n",
       "      <td>...</td>\n",
       "      <td>...</td>\n",
       "      <td>...</td>\n",
       "      <td>...</td>\n",
       "      <td>...</td>\n",
       "      <td>...</td>\n",
       "      <td>...</td>\n",
       "      <td>...</td>\n",
       "      <td>...</td>\n",
       "      <td>...</td>\n",
       "      <td>...</td>\n",
       "    </tr>\n",
       "    <tr>\n",
       "      <th>Studio Academy of Beauty</th>\n",
       "      <td>Chandler</td>\n",
       "      <td>AZ</td>\n",
       "      <td>0.0</td>\n",
       "      <td>0.0</td>\n",
       "      <td>0.0</td>\n",
       "      <td>0</td>\n",
       "      <td>NaN</td>\n",
       "      <td>NaN</td>\n",
       "      <td>0.0</td>\n",
       "      <td>332.0</td>\n",
       "      <td>...</td>\n",
       "      <td>0.0392</td>\n",
       "      <td>0.0000</td>\n",
       "      <td>0.0090</td>\n",
       "      <td>0.0000</td>\n",
       "      <td>1</td>\n",
       "      <td>0.5855</td>\n",
       "      <td>0.6218</td>\n",
       "      <td>0.5675</td>\n",
       "      <td>NaN</td>\n",
       "      <td>6333</td>\n",
       "    </tr>\n",
       "    <tr>\n",
       "      <th>Studio Jewelers</th>\n",
       "      <td>New York</td>\n",
       "      <td>NY</td>\n",
       "      <td>0.0</td>\n",
       "      <td>0.0</td>\n",
       "      <td>0.0</td>\n",
       "      <td>0</td>\n",
       "      <td>NaN</td>\n",
       "      <td>NaN</td>\n",
       "      <td>0.0</td>\n",
       "      <td>55.0</td>\n",
       "      <td>...</td>\n",
       "      <td>0.0000</td>\n",
       "      <td>0.0364</td>\n",
       "      <td>0.0000</td>\n",
       "      <td>0.6000</td>\n",
       "      <td>1</td>\n",
       "      <td>0.0451</td>\n",
       "      <td>0.0902</td>\n",
       "      <td>0.8525</td>\n",
       "      <td>PrivacySuppressed</td>\n",
       "      <td>PrivacySuppressed</td>\n",
       "    </tr>\n",
       "    <tr>\n",
       "      <th>Stylemaster College of Hair Design</th>\n",
       "      <td>Longview</td>\n",
       "      <td>WA</td>\n",
       "      <td>0.0</td>\n",
       "      <td>0.0</td>\n",
       "      <td>0.0</td>\n",
       "      <td>0</td>\n",
       "      <td>NaN</td>\n",
       "      <td>NaN</td>\n",
       "      <td>0.0</td>\n",
       "      <td>77.0</td>\n",
       "      <td>...</td>\n",
       "      <td>0.0130</td>\n",
       "      <td>0.0000</td>\n",
       "      <td>0.0000</td>\n",
       "      <td>0.0000</td>\n",
       "      <td>1</td>\n",
       "      <td>0.8036</td>\n",
       "      <td>0.7024</td>\n",
       "      <td>0.4510</td>\n",
       "      <td>17000</td>\n",
       "      <td>13320</td>\n",
       "    </tr>\n",
       "    <tr>\n",
       "      <th>Styles and Profiles Beauty College</th>\n",
       "      <td>Selmer</td>\n",
       "      <td>TN</td>\n",
       "      <td>0.0</td>\n",
       "      <td>0.0</td>\n",
       "      <td>0.0</td>\n",
       "      <td>0</td>\n",
       "      <td>NaN</td>\n",
       "      <td>NaN</td>\n",
       "      <td>0.0</td>\n",
       "      <td>31.0</td>\n",
       "      <td>...</td>\n",
       "      <td>0.0000</td>\n",
       "      <td>0.0000</td>\n",
       "      <td>0.0000</td>\n",
       "      <td>0.0000</td>\n",
       "      <td>1</td>\n",
       "      <td>0.8182</td>\n",
       "      <td>0.7955</td>\n",
       "      <td>0.2400</td>\n",
       "      <td>PrivacySuppressed</td>\n",
       "      <td>PrivacySuppressed</td>\n",
       "    </tr>\n",
       "    <tr>\n",
       "      <th>Styletrends Barber and Hairstyling Academy</th>\n",
       "      <td>Rock Hill</td>\n",
       "      <td>SC</td>\n",
       "      <td>0.0</td>\n",
       "      <td>0.0</td>\n",
       "      <td>0.0</td>\n",
       "      <td>0</td>\n",
       "      <td>NaN</td>\n",
       "      <td>NaN</td>\n",
       "      <td>0.0</td>\n",
       "      <td>45.0</td>\n",
       "      <td>...</td>\n",
       "      <td>0.0000</td>\n",
       "      <td>0.0000</td>\n",
       "      <td>0.0000</td>\n",
       "      <td>0.5556</td>\n",
       "      <td>0</td>\n",
       "      <td>1.0000</td>\n",
       "      <td>1.0000</td>\n",
       "      <td>0.3529</td>\n",
       "      <td>PrivacySuppressed</td>\n",
       "      <td>9495.5</td>\n",
       "    </tr>\n",
       "  </tbody>\n",
       "</table>\n",
       "<p>201 rows × 26 columns</p>\n",
       "</div>"
      ],
      "text/plain": [
       "                                                  CITY STABBR  HBCU  MENONLY  \\\n",
       "INSTNM                                                                         \n",
       "Spa Tech Institute-Ipswich                     Ipswich     MA   0.0      0.0   \n",
       "Spa Tech Institute-Plymouth                   Plymouth     MA   0.0      0.0   \n",
       "Spa Tech Institute-Westboro                   Westboro     MA   0.0      0.0   \n",
       "Spa Tech Institute-Westbrook                 Westbrook     ME   0.0      0.0   \n",
       "Spalding University                         Louisville     KY   0.0      0.0   \n",
       "...                                                ...    ...   ...      ...   \n",
       "Studio Academy of Beauty                      Chandler     AZ   0.0      0.0   \n",
       "Studio Jewelers                               New York     NY   0.0      0.0   \n",
       "Stylemaster College of Hair Design            Longview     WA   0.0      0.0   \n",
       "Styles and Profiles Beauty College              Selmer     TN   0.0      0.0   \n",
       "Styletrends Barber and Hairstyling Academy   Rock Hill     SC   0.0      0.0   \n",
       "\n",
       "                                            WOMENONLY  RELAFFIL  SATVRMID  \\\n",
       "INSTNM                                                                      \n",
       "Spa Tech Institute-Ipswich                        0.0         0       NaN   \n",
       "Spa Tech Institute-Plymouth                       0.0         0       NaN   \n",
       "Spa Tech Institute-Westboro                       0.0         0       NaN   \n",
       "Spa Tech Institute-Westbrook                      0.0         0       NaN   \n",
       "Spalding University                               0.0         1     490.0   \n",
       "...                                               ...       ...       ...   \n",
       "Studio Academy of Beauty                          0.0         0       NaN   \n",
       "Studio Jewelers                                   0.0         0       NaN   \n",
       "Stylemaster College of Hair Design                0.0         0       NaN   \n",
       "Styles and Profiles Beauty College                0.0         0       NaN   \n",
       "Styletrends Barber and Hairstyling Academy        0.0         0       NaN   \n",
       "\n",
       "                                            SATMTMID  DISTANCEONLY    UGDS  \\\n",
       "INSTNM                                                                       \n",
       "Spa Tech Institute-Ipswich                       NaN           0.0    37.0   \n",
       "Spa Tech Institute-Plymouth                      NaN           0.0   153.0   \n",
       "Spa Tech Institute-Westboro                      NaN           0.0    90.0   \n",
       "Spa Tech Institute-Westbrook                     NaN           0.0   240.0   \n",
       "Spalding University                            440.0           0.0  1227.0   \n",
       "...                                              ...           ...     ...   \n",
       "Studio Academy of Beauty                         NaN           0.0   332.0   \n",
       "Studio Jewelers                                  NaN           0.0    55.0   \n",
       "Stylemaster College of Hair Design               NaN           0.0    77.0   \n",
       "Styles and Profiles Beauty College               NaN           0.0    31.0   \n",
       "Styletrends Barber and Hairstyling Academy       NaN           0.0    45.0   \n",
       "\n",
       "                                            ...  UGDS_2MOR  UGDS_NRA  \\\n",
       "INSTNM                                      ...                        \n",
       "Spa Tech Institute-Ipswich                  ...     0.0000    0.0000   \n",
       "Spa Tech Institute-Plymouth                 ...     0.0000    0.0000   \n",
       "Spa Tech Institute-Westboro                 ...     0.0000    0.0000   \n",
       "Spa Tech Institute-Westbrook                ...     0.0000    0.0000   \n",
       "Spalding University                         ...     0.0302    0.0016   \n",
       "...                                         ...        ...       ...   \n",
       "Studio Academy of Beauty                    ...     0.0392    0.0000   \n",
       "Studio Jewelers                             ...     0.0000    0.0364   \n",
       "Stylemaster College of Hair Design          ...     0.0130    0.0000   \n",
       "Styles and Profiles Beauty College          ...     0.0000    0.0000   \n",
       "Styletrends Barber and Hairstyling Academy  ...     0.0000    0.0000   \n",
       "\n",
       "                                            UGDS_UNKN  PPTUG_EF  CURROPER  \\\n",
       "INSTNM                                                                      \n",
       "Spa Tech Institute-Ipswich                     0.0541    0.4054         1   \n",
       "Spa Tech Institute-Plymouth                    0.2484    0.3399         1   \n",
       "Spa Tech Institute-Westboro                    0.0222    0.5778         1   \n",
       "Spa Tech Institute-Westbrook                   0.0042    0.2542         1   \n",
       "Spalding University                            0.0326    0.2502         1   \n",
       "...                                               ...       ...       ...   \n",
       "Studio Academy of Beauty                       0.0090    0.0000         1   \n",
       "Studio Jewelers                                0.0000    0.6000         1   \n",
       "Stylemaster College of Hair Design             0.0000    0.0000         1   \n",
       "Styles and Profiles Beauty College             0.0000    0.0000         1   \n",
       "Styletrends Barber and Hairstyling Academy     0.0000    0.5556         0   \n",
       "\n",
       "                                            PCTPELL  PCTFLOAN  UG25ABV  \\\n",
       "INSTNM                                                                   \n",
       "Spa Tech Institute-Ipswich                   0.2656    0.3906   0.7907   \n",
       "Spa Tech Institute-Plymouth                  0.3716    0.4266   0.6250   \n",
       "Spa Tech Institute-Westboro                  0.3409    0.4545   0.6882   \n",
       "Spa Tech Institute-Westbrook                 0.4350    0.5093   0.5224   \n",
       "Spalding University                          0.4442    0.6725   0.3764   \n",
       "...                                             ...       ...      ...   \n",
       "Studio Academy of Beauty                     0.5855    0.6218   0.5675   \n",
       "Studio Jewelers                              0.0451    0.0902   0.8525   \n",
       "Stylemaster College of Hair Design           0.8036    0.7024   0.4510   \n",
       "Styles and Profiles Beauty College           0.8182    0.7955   0.2400   \n",
       "Styletrends Barber and Hairstyling Academy   1.0000    1.0000   0.3529   \n",
       "\n",
       "                                              MD_EARN_WNE_P10  \\\n",
       "INSTNM                                                          \n",
       "Spa Tech Institute-Ipswich                              21500   \n",
       "Spa Tech Institute-Plymouth                             21500   \n",
       "Spa Tech Institute-Westboro                             21500   \n",
       "Spa Tech Institute-Westbrook                            21500   \n",
       "Spalding University                                     41700   \n",
       "...                                                       ...   \n",
       "Studio Academy of Beauty                                  NaN   \n",
       "Studio Jewelers                             PrivacySuppressed   \n",
       "Stylemaster College of Hair Design                      17000   \n",
       "Styles and Profiles Beauty College          PrivacySuppressed   \n",
       "Styletrends Barber and Hairstyling Academy  PrivacySuppressed   \n",
       "\n",
       "                                            GRAD_DEBT_MDN_SUPP  \n",
       "INSTNM                                                          \n",
       "Spa Tech Institute-Ipswich                                6333  \n",
       "Spa Tech Institute-Plymouth                               6333  \n",
       "Spa Tech Institute-Westboro                               6333  \n",
       "Spa Tech Institute-Westbrook                              6333  \n",
       "Spalding University                                      25000  \n",
       "...                                                        ...  \n",
       "Studio Academy of Beauty                                  6333  \n",
       "Studio Jewelers                              PrivacySuppressed  \n",
       "Stylemaster College of Hair Design                       13320  \n",
       "Styles and Profiles Beauty College           PrivacySuppressed  \n",
       "Styletrends Barber and Hairstyling Academy              9495.5  \n",
       "\n",
       "[201 rows x 26 columns]"
      ]
     },
     "execution_count": 52,
     "metadata": {},
     "output_type": "execute_result"
    }
   ],
   "source": [
    "college.loc['Sp':'Su']"
   ]
  },
  {
   "cell_type": "markdown",
   "metadata": {},
   "source": [
    "### There's more..."
   ]
  },
  {
   "cell_type": "code",
   "execution_count": 53,
   "metadata": {
    "lines_to_next_cell": 2
   },
   "outputs": [
    {
     "data": {
      "text/plain": [
       "True"
      ]
     },
     "execution_count": 53,
     "metadata": {},
     "output_type": "execute_result"
    }
   ],
   "source": [
    "college = college.sort_index(ascending=False)\n",
    "college.index.is_monotonic_decreasing"
   ]
  },
  {
   "cell_type": "code",
   "execution_count": 54,
   "metadata": {},
   "outputs": [
    {
     "data": {
      "text/html": [
       "<div>\n",
       "<style scoped>\n",
       "    .dataframe tbody tr th:only-of-type {\n",
       "        vertical-align: middle;\n",
       "    }\n",
       "\n",
       "    .dataframe tbody tr th {\n",
       "        vertical-align: top;\n",
       "    }\n",
       "\n",
       "    .dataframe thead th {\n",
       "        text-align: right;\n",
       "    }\n",
       "</style>\n",
       "<table border=\"1\" class=\"dataframe\">\n",
       "  <thead>\n",
       "    <tr style=\"text-align: right;\">\n",
       "      <th></th>\n",
       "      <th>CITY</th>\n",
       "      <th>STABBR</th>\n",
       "      <th>HBCU</th>\n",
       "      <th>MENONLY</th>\n",
       "      <th>WOMENONLY</th>\n",
       "      <th>RELAFFIL</th>\n",
       "      <th>SATVRMID</th>\n",
       "      <th>SATMTMID</th>\n",
       "      <th>DISTANCEONLY</th>\n",
       "      <th>UGDS</th>\n",
       "      <th>...</th>\n",
       "      <th>UGDS_2MOR</th>\n",
       "      <th>UGDS_NRA</th>\n",
       "      <th>UGDS_UNKN</th>\n",
       "      <th>PPTUG_EF</th>\n",
       "      <th>CURROPER</th>\n",
       "      <th>PCTPELL</th>\n",
       "      <th>PCTFLOAN</th>\n",
       "      <th>UG25ABV</th>\n",
       "      <th>MD_EARN_WNE_P10</th>\n",
       "      <th>GRAD_DEBT_MDN_SUPP</th>\n",
       "    </tr>\n",
       "    <tr>\n",
       "      <th>INSTNM</th>\n",
       "      <th></th>\n",
       "      <th></th>\n",
       "      <th></th>\n",
       "      <th></th>\n",
       "      <th></th>\n",
       "      <th></th>\n",
       "      <th></th>\n",
       "      <th></th>\n",
       "      <th></th>\n",
       "      <th></th>\n",
       "      <th></th>\n",
       "      <th></th>\n",
       "      <th></th>\n",
       "      <th></th>\n",
       "      <th></th>\n",
       "      <th></th>\n",
       "      <th></th>\n",
       "      <th></th>\n",
       "      <th></th>\n",
       "      <th></th>\n",
       "      <th></th>\n",
       "    </tr>\n",
       "  </thead>\n",
       "  <tbody>\n",
       "    <tr>\n",
       "      <th>Dyersburg State Community College</th>\n",
       "      <td>Dyersburg</td>\n",
       "      <td>TN</td>\n",
       "      <td>0.0</td>\n",
       "      <td>0.0</td>\n",
       "      <td>0.0</td>\n",
       "      <td>0</td>\n",
       "      <td>NaN</td>\n",
       "      <td>NaN</td>\n",
       "      <td>0.0</td>\n",
       "      <td>2001.0</td>\n",
       "      <td>...</td>\n",
       "      <td>0.0185</td>\n",
       "      <td>0.0010</td>\n",
       "      <td>0.0085</td>\n",
       "      <td>0.4423</td>\n",
       "      <td>1</td>\n",
       "      <td>0.4921</td>\n",
       "      <td>0.2493</td>\n",
       "      <td>0.3097</td>\n",
       "      <td>26800</td>\n",
       "      <td>7475</td>\n",
       "    </tr>\n",
       "    <tr>\n",
       "      <th>Dutchess Community College</th>\n",
       "      <td>Poughkeepsie</td>\n",
       "      <td>NY</td>\n",
       "      <td>0.0</td>\n",
       "      <td>0.0</td>\n",
       "      <td>0.0</td>\n",
       "      <td>0</td>\n",
       "      <td>NaN</td>\n",
       "      <td>NaN</td>\n",
       "      <td>0.0</td>\n",
       "      <td>6885.0</td>\n",
       "      <td>...</td>\n",
       "      <td>0.0446</td>\n",
       "      <td>0.0129</td>\n",
       "      <td>0.0049</td>\n",
       "      <td>0.3312</td>\n",
       "      <td>1</td>\n",
       "      <td>0.2464</td>\n",
       "      <td>0.1936</td>\n",
       "      <td>0.1806</td>\n",
       "      <td>32500</td>\n",
       "      <td>10250</td>\n",
       "    </tr>\n",
       "    <tr>\n",
       "      <th>Dutchess BOCES-Practical Nursing Program</th>\n",
       "      <td>Poughkeepsie</td>\n",
       "      <td>NY</td>\n",
       "      <td>0.0</td>\n",
       "      <td>0.0</td>\n",
       "      <td>0.0</td>\n",
       "      <td>0</td>\n",
       "      <td>NaN</td>\n",
       "      <td>NaN</td>\n",
       "      <td>0.0</td>\n",
       "      <td>155.0</td>\n",
       "      <td>...</td>\n",
       "      <td>0.0581</td>\n",
       "      <td>0.0000</td>\n",
       "      <td>0.0000</td>\n",
       "      <td>0.7548</td>\n",
       "      <td>1</td>\n",
       "      <td>0.5294</td>\n",
       "      <td>0.6275</td>\n",
       "      <td>0.5430</td>\n",
       "      <td>36500</td>\n",
       "      <td>9500</td>\n",
       "    </tr>\n",
       "    <tr>\n",
       "      <th>Durham Technical Community College</th>\n",
       "      <td>Durham</td>\n",
       "      <td>NC</td>\n",
       "      <td>0.0</td>\n",
       "      <td>0.0</td>\n",
       "      <td>0.0</td>\n",
       "      <td>0</td>\n",
       "      <td>NaN</td>\n",
       "      <td>NaN</td>\n",
       "      <td>0.0</td>\n",
       "      <td>4769.0</td>\n",
       "      <td>...</td>\n",
       "      <td>0.0182</td>\n",
       "      <td>0.0025</td>\n",
       "      <td>0.0457</td>\n",
       "      <td>0.6905</td>\n",
       "      <td>1</td>\n",
       "      <td>0.4495</td>\n",
       "      <td>0.1796</td>\n",
       "      <td>0.5961</td>\n",
       "      <td>27200</td>\n",
       "      <td>11069.5</td>\n",
       "    </tr>\n",
       "    <tr>\n",
       "      <th>Durham Beauty Academy</th>\n",
       "      <td>Durham</td>\n",
       "      <td>NC</td>\n",
       "      <td>0.0</td>\n",
       "      <td>0.0</td>\n",
       "      <td>0.0</td>\n",
       "      <td>0</td>\n",
       "      <td>NaN</td>\n",
       "      <td>NaN</td>\n",
       "      <td>0.0</td>\n",
       "      <td>78.0</td>\n",
       "      <td>...</td>\n",
       "      <td>0.0000</td>\n",
       "      <td>0.0000</td>\n",
       "      <td>0.0128</td>\n",
       "      <td>0.0000</td>\n",
       "      <td>1</td>\n",
       "      <td>0.5746</td>\n",
       "      <td>0.8134</td>\n",
       "      <td>0.4000</td>\n",
       "      <td>PrivacySuppressed</td>\n",
       "      <td>15332</td>\n",
       "    </tr>\n",
       "    <tr>\n",
       "      <th>...</th>\n",
       "      <td>...</td>\n",
       "      <td>...</td>\n",
       "      <td>...</td>\n",
       "      <td>...</td>\n",
       "      <td>...</td>\n",
       "      <td>...</td>\n",
       "      <td>...</td>\n",
       "      <td>...</td>\n",
       "      <td>...</td>\n",
       "      <td>...</td>\n",
       "      <td>...</td>\n",
       "      <td>...</td>\n",
       "      <td>...</td>\n",
       "      <td>...</td>\n",
       "      <td>...</td>\n",
       "      <td>...</td>\n",
       "      <td>...</td>\n",
       "      <td>...</td>\n",
       "      <td>...</td>\n",
       "      <td>...</td>\n",
       "      <td>...</td>\n",
       "    </tr>\n",
       "    <tr>\n",
       "      <th>Bacone College</th>\n",
       "      <td>Muskogee</td>\n",
       "      <td>OK</td>\n",
       "      <td>0.0</td>\n",
       "      <td>0.0</td>\n",
       "      <td>0.0</td>\n",
       "      <td>1</td>\n",
       "      <td>398.0</td>\n",
       "      <td>428.0</td>\n",
       "      <td>0.0</td>\n",
       "      <td>939.0</td>\n",
       "      <td>...</td>\n",
       "      <td>0.0298</td>\n",
       "      <td>0.0000</td>\n",
       "      <td>0.0895</td>\n",
       "      <td>0.1140</td>\n",
       "      <td>1</td>\n",
       "      <td>0.9392</td>\n",
       "      <td>0.8920</td>\n",
       "      <td>0.1648</td>\n",
       "      <td>29700</td>\n",
       "      <td>26350</td>\n",
       "    </tr>\n",
       "    <tr>\n",
       "      <th>Babson College</th>\n",
       "      <td>Wellesley</td>\n",
       "      <td>MA</td>\n",
       "      <td>0.0</td>\n",
       "      <td>0.0</td>\n",
       "      <td>0.0</td>\n",
       "      <td>0</td>\n",
       "      <td>615.0</td>\n",
       "      <td>660.0</td>\n",
       "      <td>0.0</td>\n",
       "      <td>2107.0</td>\n",
       "      <td>...</td>\n",
       "      <td>0.0233</td>\n",
       "      <td>0.2682</td>\n",
       "      <td>0.0603</td>\n",
       "      <td>0.0000</td>\n",
       "      <td>1</td>\n",
       "      <td>0.1709</td>\n",
       "      <td>0.3727</td>\n",
       "      <td>0.0090</td>\n",
       "      <td>86700</td>\n",
       "      <td>27000</td>\n",
       "    </tr>\n",
       "    <tr>\n",
       "      <th>BJ's Beauty &amp; Barber College</th>\n",
       "      <td>Auburn</td>\n",
       "      <td>WA</td>\n",
       "      <td>0.0</td>\n",
       "      <td>0.0</td>\n",
       "      <td>0.0</td>\n",
       "      <td>0</td>\n",
       "      <td>NaN</td>\n",
       "      <td>NaN</td>\n",
       "      <td>0.0</td>\n",
       "      <td>28.0</td>\n",
       "      <td>...</td>\n",
       "      <td>0.0714</td>\n",
       "      <td>0.0000</td>\n",
       "      <td>0.0714</td>\n",
       "      <td>0.0000</td>\n",
       "      <td>1</td>\n",
       "      <td>0.5192</td>\n",
       "      <td>0.6154</td>\n",
       "      <td>0.2917</td>\n",
       "      <td>NaN</td>\n",
       "      <td>PrivacySuppressed</td>\n",
       "    </tr>\n",
       "    <tr>\n",
       "      <th>BIR Training Center</th>\n",
       "      <td>Chicago</td>\n",
       "      <td>IL</td>\n",
       "      <td>0.0</td>\n",
       "      <td>0.0</td>\n",
       "      <td>0.0</td>\n",
       "      <td>0</td>\n",
       "      <td>NaN</td>\n",
       "      <td>NaN</td>\n",
       "      <td>0.0</td>\n",
       "      <td>2132.0</td>\n",
       "      <td>...</td>\n",
       "      <td>0.0000</td>\n",
       "      <td>0.0000</td>\n",
       "      <td>0.0000</td>\n",
       "      <td>0.1806</td>\n",
       "      <td>0</td>\n",
       "      <td>0.6700</td>\n",
       "      <td>0.6998</td>\n",
       "      <td>0.6741</td>\n",
       "      <td>PrivacySuppressed</td>\n",
       "      <td>15394</td>\n",
       "    </tr>\n",
       "    <tr>\n",
       "      <th>B M Spurr School of Practical Nursing</th>\n",
       "      <td>Glen Dale</td>\n",
       "      <td>WV</td>\n",
       "      <td>0.0</td>\n",
       "      <td>0.0</td>\n",
       "      <td>0.0</td>\n",
       "      <td>0</td>\n",
       "      <td>NaN</td>\n",
       "      <td>NaN</td>\n",
       "      <td>0.0</td>\n",
       "      <td>31.0</td>\n",
       "      <td>...</td>\n",
       "      <td>0.0000</td>\n",
       "      <td>0.0000</td>\n",
       "      <td>0.0000</td>\n",
       "      <td>0.0000</td>\n",
       "      <td>1</td>\n",
       "      <td>0.4722</td>\n",
       "      <td>0.0000</td>\n",
       "      <td>0.4444</td>\n",
       "      <td>PrivacySuppressed</td>\n",
       "      <td>PrivacySuppressed</td>\n",
       "    </tr>\n",
       "  </tbody>\n",
       "</table>\n",
       "<p>1411 rows × 26 columns</p>\n",
       "</div>"
      ],
      "text/plain": [
       "                                                  CITY STABBR  HBCU  MENONLY  \\\n",
       "INSTNM                                                                         \n",
       "Dyersburg State Community College            Dyersburg     TN   0.0      0.0   \n",
       "Dutchess Community College                Poughkeepsie     NY   0.0      0.0   \n",
       "Dutchess BOCES-Practical Nursing Program  Poughkeepsie     NY   0.0      0.0   \n",
       "Durham Technical Community College              Durham     NC   0.0      0.0   \n",
       "Durham Beauty Academy                           Durham     NC   0.0      0.0   \n",
       "...                                                ...    ...   ...      ...   \n",
       "Bacone College                                Muskogee     OK   0.0      0.0   \n",
       "Babson College                               Wellesley     MA   0.0      0.0   \n",
       "BJ's Beauty & Barber College                    Auburn     WA   0.0      0.0   \n",
       "BIR Training Center                            Chicago     IL   0.0      0.0   \n",
       "B M Spurr School of Practical Nursing        Glen Dale     WV   0.0      0.0   \n",
       "\n",
       "                                          WOMENONLY  RELAFFIL  SATVRMID  \\\n",
       "INSTNM                                                                    \n",
       "Dyersburg State Community College               0.0         0       NaN   \n",
       "Dutchess Community College                      0.0         0       NaN   \n",
       "Dutchess BOCES-Practical Nursing Program        0.0         0       NaN   \n",
       "Durham Technical Community College              0.0         0       NaN   \n",
       "Durham Beauty Academy                           0.0         0       NaN   \n",
       "...                                             ...       ...       ...   \n",
       "Bacone College                                  0.0         1     398.0   \n",
       "Babson College                                  0.0         0     615.0   \n",
       "BJ's Beauty & Barber College                    0.0         0       NaN   \n",
       "BIR Training Center                             0.0         0       NaN   \n",
       "B M Spurr School of Practical Nursing           0.0         0       NaN   \n",
       "\n",
       "                                          SATMTMID  DISTANCEONLY    UGDS  ...  \\\n",
       "INSTNM                                                                    ...   \n",
       "Dyersburg State Community College              NaN           0.0  2001.0  ...   \n",
       "Dutchess Community College                     NaN           0.0  6885.0  ...   \n",
       "Dutchess BOCES-Practical Nursing Program       NaN           0.0   155.0  ...   \n",
       "Durham Technical Community College             NaN           0.0  4769.0  ...   \n",
       "Durham Beauty Academy                          NaN           0.0    78.0  ...   \n",
       "...                                            ...           ...     ...  ...   \n",
       "Bacone College                               428.0           0.0   939.0  ...   \n",
       "Babson College                               660.0           0.0  2107.0  ...   \n",
       "BJ's Beauty & Barber College                   NaN           0.0    28.0  ...   \n",
       "BIR Training Center                            NaN           0.0  2132.0  ...   \n",
       "B M Spurr School of Practical Nursing          NaN           0.0    31.0  ...   \n",
       "\n",
       "                                          UGDS_2MOR  UGDS_NRA  UGDS_UNKN  \\\n",
       "INSTNM                                                                     \n",
       "Dyersburg State Community College            0.0185    0.0010     0.0085   \n",
       "Dutchess Community College                   0.0446    0.0129     0.0049   \n",
       "Dutchess BOCES-Practical Nursing Program     0.0581    0.0000     0.0000   \n",
       "Durham Technical Community College           0.0182    0.0025     0.0457   \n",
       "Durham Beauty Academy                        0.0000    0.0000     0.0128   \n",
       "...                                             ...       ...        ...   \n",
       "Bacone College                               0.0298    0.0000     0.0895   \n",
       "Babson College                               0.0233    0.2682     0.0603   \n",
       "BJ's Beauty & Barber College                 0.0714    0.0000     0.0714   \n",
       "BIR Training Center                          0.0000    0.0000     0.0000   \n",
       "B M Spurr School of Practical Nursing        0.0000    0.0000     0.0000   \n",
       "\n",
       "                                          PPTUG_EF  CURROPER  PCTPELL  \\\n",
       "INSTNM                                                                  \n",
       "Dyersburg State Community College           0.4423         1   0.4921   \n",
       "Dutchess Community College                  0.3312         1   0.2464   \n",
       "Dutchess BOCES-Practical Nursing Program    0.7548         1   0.5294   \n",
       "Durham Technical Community College          0.6905         1   0.4495   \n",
       "Durham Beauty Academy                       0.0000         1   0.5746   \n",
       "...                                            ...       ...      ...   \n",
       "Bacone College                              0.1140         1   0.9392   \n",
       "Babson College                              0.0000         1   0.1709   \n",
       "BJ's Beauty & Barber College                0.0000         1   0.5192   \n",
       "BIR Training Center                         0.1806         0   0.6700   \n",
       "B M Spurr School of Practical Nursing       0.0000         1   0.4722   \n",
       "\n",
       "                                          PCTFLOAN  UG25ABV  \\\n",
       "INSTNM                                                        \n",
       "Dyersburg State Community College           0.2493   0.3097   \n",
       "Dutchess Community College                  0.1936   0.1806   \n",
       "Dutchess BOCES-Practical Nursing Program    0.6275   0.5430   \n",
       "Durham Technical Community College          0.1796   0.5961   \n",
       "Durham Beauty Academy                       0.8134   0.4000   \n",
       "...                                            ...      ...   \n",
       "Bacone College                              0.8920   0.1648   \n",
       "Babson College                              0.3727   0.0090   \n",
       "BJ's Beauty & Barber College                0.6154   0.2917   \n",
       "BIR Training Center                         0.6998   0.6741   \n",
       "B M Spurr School of Practical Nursing       0.0000   0.4444   \n",
       "\n",
       "                                            MD_EARN_WNE_P10  \\\n",
       "INSTNM                                                        \n",
       "Dyersburg State Community College                     26800   \n",
       "Dutchess Community College                            32500   \n",
       "Dutchess BOCES-Practical Nursing Program              36500   \n",
       "Durham Technical Community College                    27200   \n",
       "Durham Beauty Academy                     PrivacySuppressed   \n",
       "...                                                     ...   \n",
       "Bacone College                                        29700   \n",
       "Babson College                                        86700   \n",
       "BJ's Beauty & Barber College                            NaN   \n",
       "BIR Training Center                       PrivacySuppressed   \n",
       "B M Spurr School of Practical Nursing     PrivacySuppressed   \n",
       "\n",
       "                                          GRAD_DEBT_MDN_SUPP  \n",
       "INSTNM                                                        \n",
       "Dyersburg State Community College                       7475  \n",
       "Dutchess Community College                             10250  \n",
       "Dutchess BOCES-Practical Nursing Program                9500  \n",
       "Durham Technical Community College                   11069.5  \n",
       "Durham Beauty Academy                                  15332  \n",
       "...                                                      ...  \n",
       "Bacone College                                         26350  \n",
       "Babson College                                         27000  \n",
       "BJ's Beauty & Barber College               PrivacySuppressed  \n",
       "BIR Training Center                                    15394  \n",
       "B M Spurr School of Practical Nursing      PrivacySuppressed  \n",
       "\n",
       "[1411 rows x 26 columns]"
      ]
     },
     "execution_count": 54,
     "metadata": {},
     "output_type": "execute_result"
    }
   ],
   "source": [
    "college.loc['E':'B']"
   ]
  }
 ],
 "metadata": {
  "jupytext": {
   "cell_metadata_filter": "-all",
   "main_language": "python",
   "notebook_metadata_filter": "-all"
  },
  "kernelspec": {
   "display_name": "Python 3.10.6 64-bit (microsoft store)",
   "language": "python",
   "name": "python3"
  },
  "language_info": {
   "codemirror_mode": {
    "name": "ipython",
    "version": 3
   },
   "file_extension": ".py",
   "mimetype": "text/x-python",
   "name": "python",
   "nbconvert_exporter": "python",
   "pygments_lexer": "ipython3",
   "version": "3.10.6"
  },
  "vscode": {
   "interpreter": {
    "hash": "350cf4f6eb5618ccce9ca3329803b4ab17690d853eb8834f54bc7fd60823462f"
   }
  }
 },
 "nbformat": 4,
 "nbformat_minor": 2
}
